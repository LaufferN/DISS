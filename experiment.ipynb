{
 "cells": [
  {
   "cell_type": "markdown",
   "metadata": {},
   "source": [
    "<style>\n",
    "    div.output_wrapper {\n",
    "      line-height: 1em; padding: 0;\n",
    "      font-size: 1.2em;\n",
    "    }\n",
    "</style>\n",
    "\n",
    "\n",
    "# Demonstration Informed Specification Search: Experiment\n",
    "\n",
    "Let's take a look at how the DISS algorithm can search for specifications by leveraging expert demonstrations. \n",
    "We'll focus on learning DFAs in this case, but note that this approach is not confined to any specific concept class. To start consider an agent operating in the following stochastic gridworld."
   ]
  },
  {
   "cell_type": "markdown",
   "metadata": {},
   "source": [
    "<figure style=\"padding: 1em; background: #494949;\">\n",
    "    <img src=\"imgs/enter_lava_augmented_1.svg\"\n",
    "         style=\"height: 25em;\"\n",
    "     />\n",
    "</figure>"
   ]
  },
  {
   "cell_type": "markdown",
   "metadata": {
    "jp-MarkdownHeadingCollapsed": true,
    "tags": []
   },
   "source": [
    "## Agent Actions\n",
    "\n",
    "The agent can attempt to move up, down, left, or right as illustrated below.\n",
    "\n",
    "<figure style=\"padding: 1em; background: #494949;\">\n",
    "    <img src=\"imgs/enter_lava_augmented_2.svg\"\n",
    "         style=\"height: 20em;\"\n",
    "     />\n",
    "</figure>"
   ]
  },
  {
   "cell_type": "markdown",
   "metadata": {},
   "source": [
    "## Stochastic Transitions\n",
    "\n",
    "However, there is some small probability that the agent will slip downward do to wind!\n",
    "\n",
    "<figure style=\"padding: 1em; background: #494949;\">\n",
    "    <img src=\"imgs/enter_lava_augmented_3.svg\"\n",
    "         style=\"height: 20em;\"\n",
    "     />\n",
    "</figure>\n"
   ]
  },
  {
   "cell_type": "markdown",
   "metadata": {},
   "source": [
    "\n",
    "Let's assume the agent's task can be described in terms of the color's of the tiles. **What was the agent trying to do?**\n",
    "\n",
    "\n",
    "## Probably avoiding the red tiles\n",
    "\n",
    "<figure style=\"padding: 1em; background: #494949;\">\n",
    "    <img src=\"imgs/enter_lava_augmented_4.svg\"\n",
    "         style=\"height: 20em;\"\n",
    "     />\n",
    "</figure>\n",
    "\n",
    "## Probably trying to reach yellow tile\n",
    "\n",
    "<figure style=\"padding: 1em; background: #494949;\">\n",
    "    <img src=\"imgs/enter_lava_augmented_5.svg\"\n",
    "         style=\"height: 20em;\"\n",
    "     />\n",
    "</figure>"
   ]
  },
  {
   "cell_type": "markdown",
   "metadata": {},
   "source": [
    "In this notebook, we will illustrate learning task representations (in the form of Deterministic Finite Automata, i.e. DFA) that can be learned incrementally and describe temporal tasks.\n",
    "\n",
    "In particular, we shall consider a variation of the following gridworld from [this](https://mjvc.me/DISS/#/77) slide deck: Here the agent's task is a composition of three subtasks.\n",
    "\n",
    "<figure style=\"padding: 1em; background: #494949;\">\n",
    "    <img src=\"imgs/example_domain_1.svg\"\n",
    "         style=\"height: 20em;\"\n",
    "     />\n",
    "</figure>\n",
    "\n",
    "Where each subtask is a regular language represented as a DFA.\n",
    "\n",
    "<figure style=\"padding: 1em; background: #494949;\">\n",
    "    <img src=\"imgs/example_domain_2_1.svg\"\n",
    "         style=\"height: 20em;\"\n",
    "     />\n",
    "</figure>\n",
    "\n",
    "Further, we shall assume that the first two subtasks are a-priori known (say due to learning in another workspace), \n",
    "<figure style=\"padding: 1em; background: #494949;\">\n",
    "    <img src=\"imgs/example_domain_1_2.svg\"\n",
    "         style=\"height: 20em;\"\n",
    "     />\n",
    "</figure>\n",
    "\n",
    "and our task is to learn the third task given a partial demonstration.\n",
    "<figure style=\"padding: 1em; background: #494949;\">\n",
    "    <img src=\"imgs/example_domain_3_2.svg\"\n",
    "         style=\"height: 20em;\"\n",
    "     />\n",
    "</figure>\n"
   ]
  },
  {
   "cell_type": "markdown",
   "metadata": {},
   "source": [
    "# Preamble"
   ]
  },
  {
   "cell_type": "code",
   "execution_count": 3,
   "metadata": {},
   "outputs": [],
   "source": [
    "from functools import lru_cache\n",
    "\n",
    "import attr\n",
    "import funcy as fn\n",
    "import numpy as np\n",
    "import matplotlib.pyplot as plt\n",
    "import seaborn as sns\n",
    "from bidict import bidict\n",
    "from IPython.display import Image, display, SVG\n",
    "import networkx as nx\n",
    "import pydot\n",
    "import pandas as pd\n",
    "\n",
    "from collections import Counter\n",
    "\n",
    "import dfa\n",
    "from dfa.utils import find_subset_counterexample, find_equiv_counterexample\n",
    "from dfa_identify import find_dfa, find_dfas\n",
    "\n",
    "from diss.planners.product_mc import ProductMC\n",
    "from diss.concept_classes.dfa_concept import DFAConcept\n",
    "from diss.domains.gridworld_naive import GridWorldNaive as World\n",
    "from diss.domains.gridworld_naive import GridWorldState as State\n",
    "from diss import search, LabeledExamples, GradientGuidedSampler, ConceptIdException\n",
    "from pprint import pprint\n",
    "from itertools import combinations\n",
    "from tqdm import tqdm_notebook\n",
    "from tqdm.notebook import trange\n",
    "from IPython.display import clear_output\n",
    "from IPython.display import HTML as html_print\n",
    "from functools import reduce\n",
    "\n",
    "sns.set_context('notebook')\n",
    "sns.set_style('darkgrid')"
   ]
  },
  {
   "cell_type": "markdown",
   "metadata": {},
   "source": [
    "## Let's first visualize our gridworld and a demonstration within the gridworld."
   ]
  },
  {
   "cell_type": "code",
   "execution_count": 4,
   "metadata": {},
   "outputs": [],
   "source": [
    "COLOR_ALIAS = {\n",
    "    'white': 'white',\n",
    "    'yellow': '#ffff00', \n",
    "    #'brown': '#ffb081',\n",
    "    'red': '#ff8b8b',\n",
    "    'blue': '#afafff', \n",
    "    'green' : '#8ff45d'\n",
    "}\n",
    "\n",
    "\n",
    "def tile(color='black'):\n",
    "    color = COLOR_ALIAS.get(color, color)\n",
    "    s = '&nbsp;'*4\n",
    "    return f\"<text style='border: solid 1px;background-color:{color}'>{s}</text>\"\n",
    "\n",
    "\n",
    "def ap_at_state(x, y, world):\n",
    "    \"\"\"Use sensor to create colored tile.\"\"\"\n",
    "    if (x, y) in world.overlay:\n",
    "        color = world.overlay[(x,y)]\n",
    "\n",
    "        if color in COLOR_ALIAS.keys():\n",
    "            return tile(color)\n",
    "    return tile('white')\n",
    "\n",
    "def print_map(world):\n",
    "    \"\"\"Scan the board row by row and print colored tiles.\"\"\"\n",
    "    order = range(1, world.dim + 1)\n",
    "    buffer = ''\n",
    "    for y in order:\n",
    "        chars = (ap_at_state(x, y, world) for x in order)\n",
    "        buffer += '&nbsp;'.join(chars) + '<br>'\n",
    "    display(html_print(buffer))\n",
    "\n",
    "def print_trc(trc, world, idx=0):\n",
    "    states = [s for s, kind in trc if kind == 'ego']\n",
    "    actions = [s.action for s, kind in trc if kind == 'env']\n",
    "\n",
    "    obs = [ap_at_state(pos.x, pos.y, world) for pos in states]\n",
    "    display(\n",
    "        html_print(f'trc {idx}:&nbsp;&nbsp;&nbsp;' + ''.join(''.join(x) for x in zip(obs, actions)) + '\\n')\n",
    "    ) "
   ]
  },
  {
   "cell_type": "code",
   "execution_count": 5,
   "metadata": {},
   "outputs": [
    {
     "data": {
      "text/html": [
       "<text style='border: solid 1px;background-color:#ffff00'>&nbsp;&nbsp;&nbsp;&nbsp;</text>&nbsp;<text style='border: solid 1px;background-color:white'>&nbsp;&nbsp;&nbsp;&nbsp;</text>&nbsp;<text style='border: solid 1px;background-color:white'>&nbsp;&nbsp;&nbsp;&nbsp;</text><br><text style='border: solid 1px;background-color:#8ff45d'>&nbsp;&nbsp;&nbsp;&nbsp;</text>&nbsp;<text style='border: solid 1px;background-color:white'>&nbsp;&nbsp;&nbsp;&nbsp;</text>&nbsp;<text style='border: solid 1px;background-color:#afafff'>&nbsp;&nbsp;&nbsp;&nbsp;</text><br><text style='border: solid 1px;background-color:#8ff45d'>&nbsp;&nbsp;&nbsp;&nbsp;</text>&nbsp;<text style='border: solid 1px;background-color:#ff8b8b'>&nbsp;&nbsp;&nbsp;&nbsp;</text>&nbsp;<text style='border: solid 1px;background-color:#afafff'>&nbsp;&nbsp;&nbsp;&nbsp;</text><br>"
      ],
      "text/plain": [
       "<IPython.core.display.HTML object>"
      ]
     },
     "metadata": {},
     "output_type": "display_data"
    },
    {
     "data": {
      "text/html": [
       "trc 0:&nbsp;&nbsp;&nbsp;<text style='border: solid 1px;background-color:white'>&nbsp;&nbsp;&nbsp;&nbsp;</text>←<text style='border: solid 1px;background-color:#afafff'>&nbsp;&nbsp;&nbsp;&nbsp;</text>←<text style='border: solid 1px;background-color:white'>&nbsp;&nbsp;&nbsp;&nbsp;</text>←\n"
      ],
      "text/plain": [
       "<IPython.core.display.HTML object>"
      ]
     },
     "metadata": {},
     "output_type": "display_data"
    }
   ],
   "source": [
    "gw = World.from_string(\n",
    "    \"\"\"\n",
    "    y__\n",
    "    g_b\n",
    "    grb\n",
    "    \"\"\",\n",
    "    start=(3, 1),\n",
    "    codec={'y': 'yellow', 'g': 'green', 'b': 'blue', 'r': 'red'},\n",
    "    slip_prob = 1/32\n",
    ")\n",
    "\n",
    "demos = [[\n",
    "   (State(3, 1), 'ego'),\n",
    "   (State(3, 1, '←'), 'env'),\n",
    "   (State(3, 2), 'ego'),\n",
    "   (State(3, 2, '←'), 'env'),\n",
    "   (State(2, 2), 'ego'),\n",
    "   (State(2, 2, '←'), 'env'),\n",
    "   (State(1, 2), 'ego'),\n",
    "   #(State(1, 2, '↑'), 'env'),\n",
    "   #(State(1, 1), 'ego'),\n",
    "]]\n",
    "\n",
    "print_map(gw)\n",
    "print_trc(demos[0], gw)"
   ]
  },
  {
   "cell_type": "markdown",
   "metadata": {},
   "source": [
    "Compare against our target domain:\n",
    "\n",
    "<figure style=\"padding: 1em; background: #494949;\">\n",
    "    <img src=\"imgs/example_domain_3_2.svg\"\n",
    "         style=\"height: 20em;\"\n",
    "     />\n",
    "</figure>"
   ]
  },
  {
   "cell_type": "markdown",
   "metadata": {},
   "source": [
    "# Search procedure"
   ]
  },
  {
   "cell_type": "markdown",
   "metadata": {},
   "source": [
    "Now, we can define a set of expert demonstrations for this gridworld to guide our specification search procedure."
   ]
  },
  {
   "cell_type": "markdown",
   "metadata": {},
   "source": [
    "Let's start with some very simple base examples to warm-start our specification search process. We want to synthesize a spec that's consistent with the observed evidence thus far:"
   ]
  },
  {
   "cell_type": "markdown",
   "metadata": {},
   "source": [
    "Going from the partial spec to a full spec :"
   ]
  },
  {
   "cell_type": "code",
   "execution_count": 6,
   "metadata": {},
   "outputs": [],
   "source": [
    "from diss.experiment import PartialDFAIdentifier, ignore_white, PARTIAL_DFA, BASE_EXAMPLES\n",
    "from diss.experiment import view_dfa"
   ]
  },
  {
   "cell_type": "code",
   "execution_count": 7,
   "metadata": {},
   "outputs": [
    {
     "data": {
      "image/svg+xml": [
       "<svg xmlns=\"http://www.w3.org/2000/svg\" xmlns:xlink=\"http://www.w3.org/1999/xlink\" width=\"261pt\" height=\"85pt\" viewBox=\"0.00 0.00 260.60 85.00\">\n",
       "<g id=\"graph0\" class=\"graph\" transform=\"scale(1 1) rotate(0) translate(4 81)\">\n",
       "<title>G</title>\n",
       "<polygon fill=\"#002b36\" stroke=\"transparent\" points=\"-4,4 -4,-81 256.6,-81 256.6,4 -4,4\"/>\n",
       "<!-- 1 -->\n",
       "<g id=\"node1\" class=\"node\">\n",
       "<title>1</title>\n",
       "<ellipse fill=\"none\" stroke=\"white\" cx=\"58.6\" cy=\"-51\" rx=\"18\" ry=\"18\"/>\n",
       "<text text-anchor=\"middle\" x=\"58.6\" y=\"-47.3\" font-family=\"Times,serif\" font-size=\"14.00\" fill=\"white\">0</text>\n",
       "</g>\n",
       "<!-- 2 -->\n",
       "<g id=\"node2\" class=\"node\">\n",
       "<title>2</title>\n",
       "<ellipse fill=\"none\" stroke=\"white\" cx=\"234.6\" cy=\"-51\" rx=\"18\" ry=\"18\"/>\n",
       "<text text-anchor=\"middle\" x=\"234.6\" y=\"-47.3\" font-family=\"Times,serif\" font-size=\"14.00\" fill=\"white\">1</text>\n",
       "</g>\n",
       "<!-- 1&#45;&gt;2 -->\n",
       "<g id=\"edge2\" class=\"edge\">\n",
       "<title>1-&gt;2</title>\n",
       "<path fill=\"none\" stroke=\"white\" d=\"M76.2,-55.6C81.98,-56.98 88.53,-58.32 94.6,-59 140.53,-64.18 152.67,-64.18 198.6,-59 201.35,-58.69 204.2,-58.25 207.03,-57.73\"/>\n",
       "<polygon fill=\"white\" stroke=\"white\" points=\"207.95,-61.11 217,-55.6 206.49,-54.26 207.95,-61.11\"/>\n",
       "<text text-anchor=\"middle\" x=\"146.6\" y=\"-65.8\" font-family=\"Times,serif\" font-size=\"14.00\" fill=\"#ff8b8b\">◼</text>\n",
       "</g>\n",
       "<!-- 3 -->\n",
       "<g id=\"node3\" class=\"node\">\n",
       "<title>3</title>\n",
       "<ellipse fill=\"none\" stroke=\"white\" cx=\"146.6\" cy=\"-22\" rx=\"18\" ry=\"18\"/>\n",
       "<ellipse fill=\"none\" stroke=\"white\" cx=\"146.6\" cy=\"-22\" rx=\"22\" ry=\"22\"/>\n",
       "<text text-anchor=\"middle\" x=\"146.6\" y=\"-18.3\" font-family=\"Times,serif\" font-size=\"14.00\" fill=\"white\">2</text>\n",
       "</g>\n",
       "<!-- 1&#45;&gt;3 -->\n",
       "<g id=\"edge3\" class=\"edge\">\n",
       "<title>1-&gt;3</title>\n",
       "<path fill=\"none\" stroke=\"white\" d=\"M75.78,-45.55C87.02,-41.75 102.34,-36.59 115.76,-32.06\"/>\n",
       "<polygon fill=\"white\" stroke=\"white\" points=\"117.2,-35.27 125.56,-28.76 114.97,-28.64 117.2,-35.27\"/>\n",
       "<text text-anchor=\"middle\" x=\"100.6\" y=\"-43.8\" font-family=\"Times,serif\" font-size=\"14.00\" fill=\"#ffff00\">◼</text>\n",
       "</g>\n",
       "<!-- 3&#45;&gt;2 -->\n",
       "<g id=\"edge4\" class=\"edge\">\n",
       "<title>3-&gt;2</title>\n",
       "<path fill=\"none\" stroke=\"white\" d=\"M167.98,-28.87C179.9,-32.89 195.05,-38 207.79,-42.3\"/>\n",
       "<polygon fill=\"white\" stroke=\"white\" points=\"206.79,-45.65 217.39,-45.53 209.03,-39.02 206.79,-45.65\"/>\n",
       "<text text-anchor=\"middle\" x=\"192.6\" y=\"-43.8\" font-family=\"Times,serif\" font-size=\"14.00\" fill=\"#ff8b8b\">◼</text>\n",
       "</g>\n",
       "<!-- 0 -->\n",
       "<g id=\"node4\" class=\"node\">\n",
       "<title>0</title>\n",
       "<ellipse fill=\"white\" stroke=\"white\" cx=\"1.8\" cy=\"-51\" rx=\"1.8\" ry=\"1.8\"/>\n",
       "</g>\n",
       "<!-- 0&#45;&gt;1 -->\n",
       "<g id=\"edge1\" class=\"edge\">\n",
       "<title>0-&gt;1</title>\n",
       "<path fill=\"none\" stroke=\"white\" d=\"M3.75,-51C7.11,-51 18.87,-51 30.55,-51\"/>\n",
       "<polygon fill=\"white\" stroke=\"white\" points=\"30.58,-54.5 40.58,-51 30.58,-47.5 30.58,-54.5\"/>\n",
       "</g>\n",
       "</g>\n",
       "</svg>"
      ],
      "text/plain": [
       "<IPython.core.display.SVG object>"
      ]
     },
     "metadata": {},
     "output_type": "display_data"
    }
   ],
   "source": [
    "identifer = PartialDFAIdentifier(\n",
    "    partial = PARTIAL_DFA,\n",
    "    base_examples = BASE_EXAMPLES,\n",
    ")\n",
    "view_dfa(identifer(LabeledExamples()))"
   ]
  },
  {
   "cell_type": "markdown",
   "metadata": {},
   "source": [
    "Now, we can outline the machinery for the search process itself. We use the solution procedure in the DFA identification algorithm to synthesize a minimal DFA (in both states and non-stuttering edges) that is consistent with the observed examples to this point. "
   ]
  },
  {
   "cell_type": "markdown",
   "metadata": {},
   "source": [
    "# Simulated Annealed + SGGS"
   ]
  },
  {
   "cell_type": "code",
   "execution_count": 8,
   "metadata": {},
   "outputs": [],
   "source": [
    "from diss import diss"
   ]
  },
  {
   "cell_type": "code",
   "execution_count": 9,
   "metadata": {},
   "outputs": [],
   "source": [
    "def lift_path(path):\n",
    "    return ignore_white(map(gw.sensor, path))"
   ]
  },
  {
   "cell_type": "code",
   "execution_count": 10,
   "metadata": {},
   "outputs": [],
   "source": [
    "class ProductMC2(ProductMC):\n",
    "    def sample(self, pivot, win, attempts=20):\n",
    "        # Sample until you give a path that respects subset properties.\n",
    "        for i in range(attempts):\n",
    "            result = ProductMC.sample(self, pivot, win)\n",
    "            if win or (result is None):\n",
    "                return result\n",
    "            \n",
    "            word = lift_path(result[0])\n",
    "            if 'yellow' in word:\n",
    "                return result"
   ]
  },
  {
   "cell_type": "code",
   "execution_count": 11,
   "metadata": {},
   "outputs": [],
   "source": [
    "@fn.memoize(key_func=lambda c, t, psat: c.dfa)\n",
    "def to_chain(c, t, psat):\n",
    "    chain = ProductMC.construct(\n",
    "        concept=c, tree=t, dyn=gw, max_depth=9,\n",
    "        psat=0.8, sensor=gw.sensor, xtol=0.05\n",
    "    )\n",
    "    return ProductMC2(chain.tree, chain.concept, chain.policy, chain.tree2policy)"
   ]
  },
  {
   "cell_type": "code",
   "execution_count": 12,
   "metadata": {},
   "outputs": [],
   "source": [
    "test_words = LabeledExamples(\n",
    "    positive=[\n",
    "        ('blue', 'green', 'yellow'),\n",
    "        ('green', 'yellow'),\n",
    "    ],\n",
    "    negative=[\n",
    "        ('green', 'blue', 'yellow'),\n",
    "        ('blue', 'yellow'),\n",
    "    ]\n",
    ")"
   ]
  },
  {
   "cell_type": "code",
   "execution_count": 13,
   "metadata": {},
   "outputs": [],
   "source": [
    "def brier_score(concept2energy):\n",
    "    pmf = np.array([np.exp(-u) for u in concept2energy.values()])\n",
    "    pmf /= pmf.sum()\n",
    "    \n",
    "    p_accept, bs = {}, 0\n",
    "    for word in test_words.unlabeled:\n",
    "        oracle_lbl = word in test_words.positive\n",
    "        votes = np.array([(word in c) for c in concept2energy])\n",
    "        p_accept[word] = pmf @ votes\n",
    "        print(word, p_accept[word])\n",
    "        bs += (oracle_lbl - p_accept[word])**2\n",
    "    return bs / test_words.size"
   ]
  },
  {
   "cell_type": "code",
   "execution_count": 14,
   "metadata": {},
   "outputs": [],
   "source": [
    "def analyze(search, n_iters):\n",
    "    poi = set()            # Paths of interest.\n",
    "    concept2energy = {}    # Explored concepts + associated energy\n",
    "    partial_masses = []\n",
    "    brier_scores = []\n",
    "    # 1. Run Search and collect concepts, energy, and POI.\n",
    "    for _, (data, concept, metadata) in zip(trange(n_iters, desc='DISS'), dfa_search):\n",
    "        concept2energy[concept] = metadata['energy']\n",
    "        poi |= data.unlabeled\n",
    "        view_dfa(concept)\n",
    "        partial_masses.append(sum(np.exp(-x) for x in concept2energy.values()))  # Record unormalized mass\n",
    "        brier_scores.append(brier_score(concept2energy))\n",
    "\n",
    "    # 2. Add distiguishing words to POI.\n",
    "    to_distinguish = combinations(concept2energy, 2)\n",
    "    poi |= {c1.seperate(c2) for c1, c2 in to_distinguish}\n",
    "\n",
    "    # 3. Build CMF, PMF, and compute normalizing constant.\n",
    "    sorted_concepts = sorted(list(concept2energy), key=concept2energy.get)\n",
    "    pmf = np.array([np.exp(-concept2energy[c]) for c in sorted_concepts])\n",
    "    Z = pmf.sum()\n",
    "    pmf /= Z\n",
    "    cmf = np.cumsum(pmf)\n",
    "\n",
    "    for p, c in zip(pmf, sorted_concepts):\n",
    "        print(f'prob = {p:.3}'\n",
    "              f'energy = {concept2energy[c]:.3}'\n",
    "              f'size = {c.size:.3}')\n",
    "        view_dfa(c)\n",
    "\n",
    "    # 4. Plot CDF of distribution.\n",
    "    sns.lineplot(x=list(range(len(cmf))), y=cmf)\n",
    "    plt.xlabel('DFA index (sorted by probability mass)')\n",
    "    plt.ylabel('CMF')\n",
    "    plt.show()\n",
    "\n",
    "    # 5. Compute current support's belief on POI\n",
    "    p_accept = {}\n",
    "    for word in poi:\n",
    "        votes = np.array([(word in c) for c in sorted_concepts])\n",
    "        p_accept[word] = pmf @ votes\n",
    "    grouped = fn.group_by(lambda w: p_accept[w] > 1/2, poi)\n",
    "    buff = ''\n",
    "    for lbl in [True, False]:\n",
    "        buff += f'------------- {lbl} --------------<br>'\n",
    "        split = sorted(grouped[lbl], key=lambda x: -p_accept[x])\n",
    "        for word in split:\n",
    "            obs = '\\n'.join(map(tile, word))\n",
    "            buff += f'{p_accept[word]:.2}:'.ljust(9, 'X').replace('X', '&nbsp')\n",
    "            buff += f'{obs}<br>'\n",
    "    display(html_print(buff))\n",
    "\n",
    "    # 6. Print DFAs consistent with thresholded belief on POI.\n",
    "    accepting, rejecting = set(), set()\n",
    "    for word in poi:\n",
    "        belief = p_accept[word]\n",
    "        if belief > 0.9:\n",
    "            accepting.add(word)\n",
    "        elif belief < 0.1:\n",
    "            rejecting.add(word)\n",
    "    data = LabeledExamples(accepting, rejecting)\n",
    "    data @= BASE_EXAMPLES  # Subset bias\n",
    "    dfas = find_dfas(data.positive, data.negative, alphabet=identifer.partial.dfa.inputs, order_by_stutter=True)\n",
    "    for dfa in filter(identifer.is_subset, dfas):\n",
    "        view_dfa(dfa)\n",
    "\n",
    "    # 7. Plot probability mass vs time.\n",
    "    sns.lineplot(x=list(range(len(partial_masses))), y=partial_masses)\n",
    "    plt.xlabel('Iteration')\n",
    "    plt.ylabel('Probability Mass Visited (unormalized)')\n",
    "    return pd.DataFrame(data={\n",
    "        'probability mass explored': partial_masses,\n",
    "        'brier score': brier_scores,\n",
    "        'iteration': list(range(1, n_iters + 1)),\n",
    "    })"
   ]
  },
  {
   "cell_type": "code",
   "execution_count": 13,
   "metadata": {
    "scrolled": true
   },
   "outputs": [
    {
     "data": {
      "application/vnd.jupyter.widget-view+json": {
       "model_id": "57bbcd8e6d41442d90fa259cdcfc5762",
       "version_major": 2,
       "version_minor": 0
      },
      "text/plain": [
       "DISS:   0%|          | 0/20 [00:00<?, ?it/s]"
      ]
     },
     "metadata": {},
     "output_type": "display_data"
    },
    {
     "data": {
      "image/svg+xml": [
       "<svg xmlns=\"http://www.w3.org/2000/svg\" xmlns:xlink=\"http://www.w3.org/1999/xlink\" width=\"261pt\" height=\"85pt\" viewBox=\"0.00 0.00 260.60 85.00\">\n",
       "<g id=\"graph0\" class=\"graph\" transform=\"scale(1 1) rotate(0) translate(4 81)\">\n",
       "<title>G</title>\n",
       "<polygon fill=\"#002b36\" stroke=\"transparent\" points=\"-4,4 -4,-81 256.6,-81 256.6,4 -4,4\"/>\n",
       "<!-- 1 -->\n",
       "<g id=\"node1\" class=\"node\">\n",
       "<title>1</title>\n",
       "<ellipse fill=\"none\" stroke=\"white\" cx=\"58.6\" cy=\"-51\" rx=\"18\" ry=\"18\"/>\n",
       "<text text-anchor=\"middle\" x=\"58.6\" y=\"-47.3\" font-family=\"Times,serif\" font-size=\"14.00\" fill=\"white\">0</text>\n",
       "</g>\n",
       "<!-- 2 -->\n",
       "<g id=\"node2\" class=\"node\">\n",
       "<title>2</title>\n",
       "<ellipse fill=\"none\" stroke=\"white\" cx=\"234.6\" cy=\"-51\" rx=\"18\" ry=\"18\"/>\n",
       "<text text-anchor=\"middle\" x=\"234.6\" y=\"-47.3\" font-family=\"Times,serif\" font-size=\"14.00\" fill=\"white\">1</text>\n",
       "</g>\n",
       "<!-- 1&#45;&gt;2 -->\n",
       "<g id=\"edge2\" class=\"edge\">\n",
       "<title>1-&gt;2</title>\n",
       "<path fill=\"none\" stroke=\"white\" d=\"M76.2,-55.6C81.98,-56.98 88.53,-58.32 94.6,-59 140.53,-64.18 152.67,-64.18 198.6,-59 201.35,-58.69 204.2,-58.25 207.03,-57.73\"/>\n",
       "<polygon fill=\"white\" stroke=\"white\" points=\"207.95,-61.11 217,-55.6 206.49,-54.26 207.95,-61.11\"/>\n",
       "<text text-anchor=\"middle\" x=\"146.6\" y=\"-65.8\" font-family=\"Times,serif\" font-size=\"14.00\" fill=\"#ff8b8b\">◼</text>\n",
       "</g>\n",
       "<!-- 3 -->\n",
       "<g id=\"node3\" class=\"node\">\n",
       "<title>3</title>\n",
       "<ellipse fill=\"none\" stroke=\"white\" cx=\"146.6\" cy=\"-22\" rx=\"18\" ry=\"18\"/>\n",
       "<ellipse fill=\"none\" stroke=\"white\" cx=\"146.6\" cy=\"-22\" rx=\"22\" ry=\"22\"/>\n",
       "<text text-anchor=\"middle\" x=\"146.6\" y=\"-18.3\" font-family=\"Times,serif\" font-size=\"14.00\" fill=\"white\">2</text>\n",
       "</g>\n",
       "<!-- 1&#45;&gt;3 -->\n",
       "<g id=\"edge3\" class=\"edge\">\n",
       "<title>1-&gt;3</title>\n",
       "<path fill=\"none\" stroke=\"white\" d=\"M75.78,-45.55C87.02,-41.75 102.34,-36.59 115.76,-32.06\"/>\n",
       "<polygon fill=\"white\" stroke=\"white\" points=\"117.2,-35.27 125.56,-28.76 114.97,-28.64 117.2,-35.27\"/>\n",
       "<text text-anchor=\"middle\" x=\"100.6\" y=\"-43.8\" font-family=\"Times,serif\" font-size=\"14.00\" fill=\"#ffff00\">◼</text>\n",
       "</g>\n",
       "<!-- 3&#45;&gt;2 -->\n",
       "<g id=\"edge4\" class=\"edge\">\n",
       "<title>3-&gt;2</title>\n",
       "<path fill=\"none\" stroke=\"white\" d=\"M167.98,-28.87C179.9,-32.89 195.05,-38 207.79,-42.3\"/>\n",
       "<polygon fill=\"white\" stroke=\"white\" points=\"206.79,-45.65 217.39,-45.53 209.03,-39.02 206.79,-45.65\"/>\n",
       "<text text-anchor=\"middle\" x=\"192.6\" y=\"-43.8\" font-family=\"Times,serif\" font-size=\"14.00\" fill=\"#ff8b8b\">◼</text>\n",
       "</g>\n",
       "<!-- 0 -->\n",
       "<g id=\"node4\" class=\"node\">\n",
       "<title>0</title>\n",
       "<ellipse fill=\"white\" stroke=\"white\" cx=\"1.8\" cy=\"-51\" rx=\"1.8\" ry=\"1.8\"/>\n",
       "</g>\n",
       "<!-- 0&#45;&gt;1 -->\n",
       "<g id=\"edge1\" class=\"edge\">\n",
       "<title>0-&gt;1</title>\n",
       "<path fill=\"none\" stroke=\"white\" d=\"M3.75,-51C7.11,-51 18.87,-51 30.55,-51\"/>\n",
       "<polygon fill=\"white\" stroke=\"white\" points=\"30.58,-54.5 40.58,-51 30.58,-47.5 30.58,-54.5\"/>\n",
       "</g>\n",
       "</g>\n",
       "</svg>"
      ],
      "text/plain": [
       "<IPython.core.display.SVG object>"
      ]
     },
     "metadata": {},
     "output_type": "display_data"
    },
    {
     "name": "stdout",
     "output_type": "stream",
     "text": [
      "('blue', 'green', 'yellow') 1.0\n",
      "('green', 'blue', 'yellow') 1.0\n",
      "('blue', 'yellow') 1.0\n",
      "('green', 'yellow') 1.0\n"
     ]
    },
    {
     "data": {
      "image/svg+xml": [
       "<svg xmlns=\"http://www.w3.org/2000/svg\" xmlns:xlink=\"http://www.w3.org/1999/xlink\" width=\"261pt\" height=\"123pt\" viewBox=\"0.00 0.00 260.60 123.00\">\n",
       "<g id=\"graph0\" class=\"graph\" transform=\"scale(1 1) rotate(0) translate(4 119)\">\n",
       "<title>G</title>\n",
       "<polygon fill=\"#002b36\" stroke=\"transparent\" points=\"-4,4 -4,-119 256.6,-119 256.6,4 -4,4\"/>\n",
       "<!-- 1 -->\n",
       "<g id=\"node1\" class=\"node\">\n",
       "<title>1</title>\n",
       "<ellipse fill=\"none\" stroke=\"white\" cx=\"58.6\" cy=\"-80\" rx=\"18\" ry=\"18\"/>\n",
       "<text text-anchor=\"middle\" x=\"58.6\" y=\"-76.3\" font-family=\"Times,serif\" font-size=\"14.00\" fill=\"white\">0</text>\n",
       "</g>\n",
       "<!-- 2 -->\n",
       "<g id=\"node2\" class=\"node\">\n",
       "<title>2</title>\n",
       "<ellipse fill=\"none\" stroke=\"white\" cx=\"234.6\" cy=\"-65\" rx=\"18\" ry=\"18\"/>\n",
       "<text text-anchor=\"middle\" x=\"234.6\" y=\"-61.3\" font-family=\"Times,serif\" font-size=\"14.00\" fill=\"white\">1</text>\n",
       "</g>\n",
       "<!-- 1&#45;&gt;2 -->\n",
       "<g id=\"edge2\" class=\"edge\">\n",
       "<title>1-&gt;2</title>\n",
       "<path fill=\"none\" stroke=\"white\" d=\"M75.38,-87.15C81.31,-89.61 88.17,-92.2 94.6,-94 126.34,-102.88 135.75,-101.72 168.6,-99 182.07,-97.89 186.31,-99.62 198.6,-94 203.89,-91.58 209.04,-88.15 213.69,-84.49\"/>\n",
       "<polygon fill=\"white\" stroke=\"white\" points=\"216.14,-87 221.44,-77.82 211.57,-81.69 216.14,-87\"/>\n",
       "<text text-anchor=\"middle\" x=\"146.6\" y=\"-103.8\" font-family=\"Times,serif\" font-size=\"14.00\" fill=\"#ff8b8b\">◼</text>\n",
       "</g>\n",
       "<!-- 1&#45;&gt;2 -->\n",
       "<g id=\"edge3\" class=\"edge\">\n",
       "<title>1-&gt;2</title>\n",
       "<path fill=\"none\" stroke=\"white\" d=\"M76.6,-78.53C106.75,-75.94 169.81,-70.5 206.17,-67.36\"/>\n",
       "<polygon fill=\"white\" stroke=\"white\" points=\"206.87,-70.82 216.53,-66.47 206.27,-63.84 206.87,-70.82\"/>\n",
       "<text text-anchor=\"middle\" x=\"146.6\" y=\"-78.8\" font-family=\"Times,serif\" font-size=\"14.00\" fill=\"#afafff\">◼</text>\n",
       "</g>\n",
       "<!-- 3 -->\n",
       "<g id=\"node3\" class=\"node\">\n",
       "<title>3</title>\n",
       "<ellipse fill=\"none\" stroke=\"white\" cx=\"146.6\" cy=\"-22\" rx=\"18\" ry=\"18\"/>\n",
       "<ellipse fill=\"none\" stroke=\"white\" cx=\"146.6\" cy=\"-22\" rx=\"22\" ry=\"22\"/>\n",
       "<text text-anchor=\"middle\" x=\"146.6\" y=\"-18.3\" font-family=\"Times,serif\" font-size=\"14.00\" fill=\"white\">2</text>\n",
       "</g>\n",
       "<!-- 1&#45;&gt;3 -->\n",
       "<g id=\"edge4\" class=\"edge\">\n",
       "<title>1-&gt;3</title>\n",
       "<path fill=\"none\" stroke=\"white\" d=\"M72.47,-68.42C78.9,-62.87 86.94,-56.29 94.6,-51 101.87,-45.98 110.07,-41.03 117.73,-36.68\"/>\n",
       "<polygon fill=\"white\" stroke=\"white\" points=\"119.66,-39.62 126.71,-31.71 116.27,-33.49 119.66,-39.62\"/>\n",
       "<text text-anchor=\"middle\" x=\"100.6\" y=\"-54.8\" font-family=\"Times,serif\" font-size=\"14.00\" fill=\"#ffff00\">◼</text>\n",
       "</g>\n",
       "<!-- 3&#45;&gt;2 -->\n",
       "<g id=\"edge5\" class=\"edge\">\n",
       "<title>3-&gt;2</title>\n",
       "<path fill=\"none\" stroke=\"white\" d=\"M166.69,-31.54C179.19,-37.79 195.65,-46.02 209.11,-52.76\"/>\n",
       "<polygon fill=\"white\" stroke=\"white\" points=\"207.78,-56 218.29,-57.34 210.91,-49.74 207.78,-56\"/>\n",
       "<text text-anchor=\"middle\" x=\"192.6\" y=\"-51.8\" font-family=\"Times,serif\" font-size=\"14.00\" fill=\"#ff8b8b\">◼</text>\n",
       "</g>\n",
       "<!-- 3&#45;&gt;2 -->\n",
       "<g id=\"edge6\" class=\"edge\">\n",
       "<title>3-&gt;2</title>\n",
       "<path fill=\"none\" stroke=\"white\" d=\"M168.88,-19.09C178.4,-18.71 189.51,-19.59 198.6,-24 206.53,-27.85 213.37,-34.42 218.84,-41.18\"/>\n",
       "<polygon fill=\"white\" stroke=\"white\" points=\"216.3,-43.65 225.02,-49.67 221.96,-39.53 216.3,-43.65\"/>\n",
       "<text text-anchor=\"middle\" x=\"192.6\" y=\"-27.8\" font-family=\"Times,serif\" font-size=\"14.00\" fill=\"#afafff\">◼</text>\n",
       "</g>\n",
       "<!-- 0 -->\n",
       "<g id=\"node4\" class=\"node\">\n",
       "<title>0</title>\n",
       "<ellipse fill=\"white\" stroke=\"white\" cx=\"1.8\" cy=\"-80\" rx=\"1.8\" ry=\"1.8\"/>\n",
       "</g>\n",
       "<!-- 0&#45;&gt;1 -->\n",
       "<g id=\"edge1\" class=\"edge\">\n",
       "<title>0-&gt;1</title>\n",
       "<path fill=\"none\" stroke=\"white\" d=\"M3.75,-80C7.11,-80 18.87,-80 30.55,-80\"/>\n",
       "<polygon fill=\"white\" stroke=\"white\" points=\"30.58,-83.5 40.58,-80 30.58,-76.5 30.58,-83.5\"/>\n",
       "</g>\n",
       "</g>\n",
       "</svg>"
      ],
      "text/plain": [
       "<IPython.core.display.SVG object>"
      ]
     },
     "metadata": {},
     "output_type": "display_data"
    },
    {
     "name": "stdout",
     "output_type": "stream",
     "text": [
      "('blue', 'green', 'yellow') 0.9953334746096203\n",
      "('green', 'blue', 'yellow') 0.9953334746096203\n",
      "('blue', 'yellow') 0.9953334746096203\n",
      "('green', 'yellow') 1.0\n"
     ]
    },
    {
     "data": {
      "image/svg+xml": [
       "<svg xmlns=\"http://www.w3.org/2000/svg\" xmlns:xlink=\"http://www.w3.org/1999/xlink\" width=\"261pt\" height=\"88pt\" viewBox=\"0.00 0.00 260.60 88.00\">\n",
       "<g id=\"graph0\" class=\"graph\" transform=\"scale(1 1) rotate(0) translate(4 84)\">\n",
       "<title>G</title>\n",
       "<polygon fill=\"#002b36\" stroke=\"transparent\" points=\"-4,4 -4,-84 256.6,-84 256.6,4 -4,4\"/>\n",
       "<!-- 1 -->\n",
       "<g id=\"node1\" class=\"node\">\n",
       "<title>1</title>\n",
       "<ellipse fill=\"none\" stroke=\"white\" cx=\"58.6\" cy=\"-51\" rx=\"18\" ry=\"18\"/>\n",
       "<text text-anchor=\"middle\" x=\"58.6\" y=\"-47.3\" font-family=\"Times,serif\" font-size=\"14.00\" fill=\"white\">0</text>\n",
       "</g>\n",
       "<!-- 2 -->\n",
       "<g id=\"node2\" class=\"node\">\n",
       "<title>2</title>\n",
       "<ellipse fill=\"none\" stroke=\"white\" cx=\"234.6\" cy=\"-50\" rx=\"18\" ry=\"18\"/>\n",
       "<text text-anchor=\"middle\" x=\"234.6\" y=\"-46.3\" font-family=\"Times,serif\" font-size=\"14.00\" fill=\"white\">1</text>\n",
       "</g>\n",
       "<!-- 1&#45;&gt;2 -->\n",
       "<g id=\"edge2\" class=\"edge\">\n",
       "<title>1-&gt;2</title>\n",
       "<path fill=\"none\" stroke=\"white\" d=\"M76.2,-55.6C81.98,-56.98 88.53,-58.32 94.6,-59 115.96,-61.41 54.19,-75.09 198.6,-58 201.35,-57.67 204.2,-57.22 207.03,-56.69\"/>\n",
       "<polygon fill=\"white\" stroke=\"white\" points=\"207.95,-60.08 216.99,-54.56 206.48,-53.23 207.95,-60.08\"/>\n",
       "<text text-anchor=\"middle\" x=\"146.6\" y=\"-68.8\" font-family=\"Times,serif\" font-size=\"14.00\" fill=\"#ff8b8b\">◼</text>\n",
       "</g>\n",
       "<!-- 3 -->\n",
       "<g id=\"node3\" class=\"node\">\n",
       "<title>3</title>\n",
       "<ellipse fill=\"none\" stroke=\"white\" cx=\"146.6\" cy=\"-22\" rx=\"18\" ry=\"18\"/>\n",
       "<ellipse fill=\"none\" stroke=\"white\" cx=\"146.6\" cy=\"-22\" rx=\"22\" ry=\"22\"/>\n",
       "<text text-anchor=\"middle\" x=\"146.6\" y=\"-18.3\" font-family=\"Times,serif\" font-size=\"14.00\" fill=\"white\">2</text>\n",
       "</g>\n",
       "<!-- 1&#45;&gt;3 -->\n",
       "<g id=\"edge3\" class=\"edge\">\n",
       "<title>1-&gt;3</title>\n",
       "<path fill=\"none\" stroke=\"white\" d=\"M75.78,-45.55C87.02,-41.75 102.34,-36.59 115.76,-32.06\"/>\n",
       "<polygon fill=\"white\" stroke=\"white\" points=\"117.2,-35.27 125.56,-28.76 114.97,-28.64 117.2,-35.27\"/>\n",
       "<text text-anchor=\"middle\" x=\"100.6\" y=\"-43.8\" font-family=\"Times,serif\" font-size=\"14.00\" fill=\"#ffff00\">◼</text>\n",
       "</g>\n",
       "<!-- 3&#45;&gt;2 -->\n",
       "<g id=\"edge4\" class=\"edge\">\n",
       "<title>3-&gt;2</title>\n",
       "<path fill=\"none\" stroke=\"white\" d=\"M167.98,-28.64C179.9,-32.51 195.05,-37.45 207.79,-41.6\"/>\n",
       "<polygon fill=\"white\" stroke=\"white\" points=\"206.79,-44.95 217.39,-44.72 208.96,-38.3 206.79,-44.95\"/>\n",
       "<text text-anchor=\"middle\" x=\"192.6\" y=\"-42.8\" font-family=\"Times,serif\" font-size=\"14.00\" fill=\"#ff8b8b\">◼</text>\n",
       "</g>\n",
       "<!-- 3&#45;&gt;2 -->\n",
       "<g id=\"edge5\" class=\"edge\">\n",
       "<title>3-&gt;2</title>\n",
       "<path fill=\"none\" stroke=\"white\" d=\"M168.07,-15.73C177.64,-13.86 189.01,-13.19 198.6,-17 204.92,-19.51 210.75,-23.76 215.78,-28.38\"/>\n",
       "<polygon fill=\"white\" stroke=\"white\" points=\"213.48,-31.04 222.96,-35.78 218.5,-26.16 213.48,-31.04\"/>\n",
       "<text text-anchor=\"middle\" x=\"192.6\" y=\"-20.8\" font-family=\"Times,serif\" font-size=\"14.00\" fill=\"#8ff45d\">◼</text>\n",
       "</g>\n",
       "<!-- 0 -->\n",
       "<g id=\"node4\" class=\"node\">\n",
       "<title>0</title>\n",
       "<ellipse fill=\"white\" stroke=\"white\" cx=\"1.8\" cy=\"-51\" rx=\"1.8\" ry=\"1.8\"/>\n",
       "</g>\n",
       "<!-- 0&#45;&gt;1 -->\n",
       "<g id=\"edge1\" class=\"edge\">\n",
       "<title>0-&gt;1</title>\n",
       "<path fill=\"none\" stroke=\"white\" d=\"M3.75,-51C7.11,-51 18.87,-51 30.55,-51\"/>\n",
       "<polygon fill=\"white\" stroke=\"white\" points=\"30.58,-54.5 40.58,-51 30.58,-47.5 30.58,-54.5\"/>\n",
       "</g>\n",
       "</g>\n",
       "</svg>"
      ],
      "text/plain": [
       "<IPython.core.display.SVG object>"
      ]
     },
     "metadata": {},
     "output_type": "display_data"
    },
    {
     "name": "stdout",
     "output_type": "stream",
     "text": [
      "('blue', 'green', 'yellow') 0.997600296612425\n",
      "('green', 'blue', 'yellow') 0.997600296612425\n",
      "('blue', 'yellow') 0.997600296612425\n",
      "('green', 'yellow') 1.0\n"
     ]
    },
    {
     "data": {
      "image/svg+xml": [
       "<svg xmlns=\"http://www.w3.org/2000/svg\" xmlns:xlink=\"http://www.w3.org/1999/xlink\" width=\"261pt\" height=\"88pt\" viewBox=\"0.00 0.00 260.60 88.00\">\n",
       "<g id=\"graph0\" class=\"graph\" transform=\"scale(1 1) rotate(0) translate(4 84)\">\n",
       "<title>G</title>\n",
       "<polygon fill=\"#002b36\" stroke=\"transparent\" points=\"-4,4 -4,-84 256.6,-84 256.6,4 -4,4\"/>\n",
       "<!-- 1 -->\n",
       "<g id=\"node1\" class=\"node\">\n",
       "<title>1</title>\n",
       "<ellipse fill=\"none\" stroke=\"white\" cx=\"58.6\" cy=\"-51\" rx=\"18\" ry=\"18\"/>\n",
       "<text text-anchor=\"middle\" x=\"58.6\" y=\"-47.3\" font-family=\"Times,serif\" font-size=\"14.00\" fill=\"white\">0</text>\n",
       "</g>\n",
       "<!-- 2 -->\n",
       "<g id=\"node2\" class=\"node\">\n",
       "<title>2</title>\n",
       "<ellipse fill=\"none\" stroke=\"white\" cx=\"234.6\" cy=\"-50\" rx=\"18\" ry=\"18\"/>\n",
       "<text text-anchor=\"middle\" x=\"234.6\" y=\"-46.3\" font-family=\"Times,serif\" font-size=\"14.00\" fill=\"white\">1</text>\n",
       "</g>\n",
       "<!-- 1&#45;&gt;2 -->\n",
       "<g id=\"edge2\" class=\"edge\">\n",
       "<title>1-&gt;2</title>\n",
       "<path fill=\"none\" stroke=\"white\" d=\"M76.2,-55.6C81.98,-56.98 88.53,-58.32 94.6,-59 115.96,-61.41 54.19,-75.09 198.6,-58 201.35,-57.67 204.2,-57.22 207.03,-56.69\"/>\n",
       "<polygon fill=\"white\" stroke=\"white\" points=\"207.95,-60.08 216.99,-54.56 206.48,-53.23 207.95,-60.08\"/>\n",
       "<text text-anchor=\"middle\" x=\"146.6\" y=\"-68.8\" font-family=\"Times,serif\" font-size=\"14.00\" fill=\"#ff8b8b\">◼</text>\n",
       "</g>\n",
       "<!-- 3 -->\n",
       "<g id=\"node3\" class=\"node\">\n",
       "<title>3</title>\n",
       "<ellipse fill=\"none\" stroke=\"white\" cx=\"146.6\" cy=\"-22\" rx=\"18\" ry=\"18\"/>\n",
       "<ellipse fill=\"none\" stroke=\"white\" cx=\"146.6\" cy=\"-22\" rx=\"22\" ry=\"22\"/>\n",
       "<text text-anchor=\"middle\" x=\"146.6\" y=\"-18.3\" font-family=\"Times,serif\" font-size=\"14.00\" fill=\"white\">2</text>\n",
       "</g>\n",
       "<!-- 1&#45;&gt;3 -->\n",
       "<g id=\"edge3\" class=\"edge\">\n",
       "<title>1-&gt;3</title>\n",
       "<path fill=\"none\" stroke=\"white\" d=\"M75.78,-45.55C87.02,-41.75 102.34,-36.59 115.76,-32.06\"/>\n",
       "<polygon fill=\"white\" stroke=\"white\" points=\"117.2,-35.27 125.56,-28.76 114.97,-28.64 117.2,-35.27\"/>\n",
       "<text text-anchor=\"middle\" x=\"100.6\" y=\"-43.8\" font-family=\"Times,serif\" font-size=\"14.00\" fill=\"#ffff00\">◼</text>\n",
       "</g>\n",
       "<!-- 3&#45;&gt;2 -->\n",
       "<g id=\"edge4\" class=\"edge\">\n",
       "<title>3-&gt;2</title>\n",
       "<path fill=\"none\" stroke=\"white\" d=\"M167.98,-28.64C179.9,-32.51 195.05,-37.45 207.79,-41.6\"/>\n",
       "<polygon fill=\"white\" stroke=\"white\" points=\"206.79,-44.95 217.39,-44.72 208.96,-38.3 206.79,-44.95\"/>\n",
       "<text text-anchor=\"middle\" x=\"192.6\" y=\"-42.8\" font-family=\"Times,serif\" font-size=\"14.00\" fill=\"#ff8b8b\">◼</text>\n",
       "</g>\n",
       "<!-- 3&#45;&gt;2 -->\n",
       "<g id=\"edge5\" class=\"edge\">\n",
       "<title>3-&gt;2</title>\n",
       "<path fill=\"none\" stroke=\"white\" d=\"M168.07,-15.73C177.64,-13.86 189.01,-13.19 198.6,-17 204.92,-19.51 210.75,-23.76 215.78,-28.38\"/>\n",
       "<polygon fill=\"white\" stroke=\"white\" points=\"213.48,-31.04 222.96,-35.78 218.5,-26.16 213.48,-31.04\"/>\n",
       "<text text-anchor=\"middle\" x=\"192.6\" y=\"-20.8\" font-family=\"Times,serif\" font-size=\"14.00\" fill=\"#afafff\">◼</text>\n",
       "</g>\n",
       "<!-- 0 -->\n",
       "<g id=\"node4\" class=\"node\">\n",
       "<title>0</title>\n",
       "<ellipse fill=\"white\" stroke=\"white\" cx=\"1.8\" cy=\"-51\" rx=\"1.8\" ry=\"1.8\"/>\n",
       "</g>\n",
       "<!-- 0&#45;&gt;1 -->\n",
       "<g id=\"edge1\" class=\"edge\">\n",
       "<title>0-&gt;1</title>\n",
       "<path fill=\"none\" stroke=\"white\" d=\"M3.75,-51C7.11,-51 18.87,-51 30.55,-51\"/>\n",
       "<polygon fill=\"white\" stroke=\"white\" points=\"30.58,-54.5 40.58,-51 30.58,-47.5 30.58,-54.5\"/>\n",
       "</g>\n",
       "</g>\n",
       "</svg>"
      ],
      "text/plain": [
       "<IPython.core.display.SVG object>"
      ]
     },
     "metadata": {},
     "output_type": "display_data"
    },
    {
     "name": "stdout",
     "output_type": "stream",
     "text": [
      "('blue', 'green', 'yellow') 0.9982659580569806\n",
      "('green', 'blue', 'yellow') 0.9982659580569806\n",
      "('blue', 'yellow') 0.9982659580569806\n",
      "('green', 'yellow') 0.9999999999999999\n"
     ]
    },
    {
     "data": {
      "image/svg+xml": [
       "<svg xmlns=\"http://www.w3.org/2000/svg\" xmlns:xlink=\"http://www.w3.org/1999/xlink\" width=\"261pt\" height=\"85pt\" viewBox=\"0.00 0.00 260.60 85.00\">\n",
       "<g id=\"graph0\" class=\"graph\" transform=\"scale(1 1) rotate(0) translate(4 81)\">\n",
       "<title>G</title>\n",
       "<polygon fill=\"#002b36\" stroke=\"transparent\" points=\"-4,4 -4,-81 256.6,-81 256.6,4 -4,4\"/>\n",
       "<!-- 1 -->\n",
       "<g id=\"node1\" class=\"node\">\n",
       "<title>1</title>\n",
       "<ellipse fill=\"none\" stroke=\"white\" cx=\"58.6\" cy=\"-51\" rx=\"18\" ry=\"18\"/>\n",
       "<text text-anchor=\"middle\" x=\"58.6\" y=\"-47.3\" font-family=\"Times,serif\" font-size=\"14.00\" fill=\"white\">0</text>\n",
       "</g>\n",
       "<!-- 2 -->\n",
       "<g id=\"node2\" class=\"node\">\n",
       "<title>2</title>\n",
       "<ellipse fill=\"none\" stroke=\"white\" cx=\"234.6\" cy=\"-51\" rx=\"18\" ry=\"18\"/>\n",
       "<text text-anchor=\"middle\" x=\"234.6\" y=\"-47.3\" font-family=\"Times,serif\" font-size=\"14.00\" fill=\"white\">1</text>\n",
       "</g>\n",
       "<!-- 1&#45;&gt;2 -->\n",
       "<g id=\"edge2\" class=\"edge\">\n",
       "<title>1-&gt;2</title>\n",
       "<path fill=\"none\" stroke=\"white\" d=\"M76.2,-55.6C81.98,-56.98 88.53,-58.32 94.6,-59 140.53,-64.18 152.67,-64.18 198.6,-59 201.35,-58.69 204.2,-58.25 207.03,-57.73\"/>\n",
       "<polygon fill=\"white\" stroke=\"white\" points=\"207.95,-61.11 217,-55.6 206.49,-54.26 207.95,-61.11\"/>\n",
       "<text text-anchor=\"middle\" x=\"146.6\" y=\"-65.8\" font-family=\"Times,serif\" font-size=\"14.00\" fill=\"#ff8b8b\">◼</text>\n",
       "</g>\n",
       "<!-- 3 -->\n",
       "<g id=\"node3\" class=\"node\">\n",
       "<title>3</title>\n",
       "<ellipse fill=\"none\" stroke=\"white\" cx=\"146.6\" cy=\"-22\" rx=\"18\" ry=\"18\"/>\n",
       "<ellipse fill=\"none\" stroke=\"white\" cx=\"146.6\" cy=\"-22\" rx=\"22\" ry=\"22\"/>\n",
       "<text text-anchor=\"middle\" x=\"146.6\" y=\"-18.3\" font-family=\"Times,serif\" font-size=\"14.00\" fill=\"white\">2</text>\n",
       "</g>\n",
       "<!-- 1&#45;&gt;3 -->\n",
       "<g id=\"edge3\" class=\"edge\">\n",
       "<title>1-&gt;3</title>\n",
       "<path fill=\"none\" stroke=\"white\" d=\"M75.78,-45.55C87.02,-41.75 102.34,-36.59 115.76,-32.06\"/>\n",
       "<polygon fill=\"white\" stroke=\"white\" points=\"117.2,-35.27 125.56,-28.76 114.97,-28.64 117.2,-35.27\"/>\n",
       "<text text-anchor=\"middle\" x=\"100.6\" y=\"-43.8\" font-family=\"Times,serif\" font-size=\"14.00\" fill=\"#ffff00\">◼</text>\n",
       "</g>\n",
       "<!-- 3&#45;&gt;2 -->\n",
       "<g id=\"edge4\" class=\"edge\">\n",
       "<title>3-&gt;2</title>\n",
       "<path fill=\"none\" stroke=\"white\" d=\"M167.98,-28.87C179.9,-32.89 195.05,-38 207.79,-42.3\"/>\n",
       "<polygon fill=\"white\" stroke=\"white\" points=\"206.79,-45.65 217.39,-45.53 209.03,-39.02 206.79,-45.65\"/>\n",
       "<text text-anchor=\"middle\" x=\"192.6\" y=\"-43.8\" font-family=\"Times,serif\" font-size=\"14.00\" fill=\"#ff8b8b\">◼</text>\n",
       "</g>\n",
       "<!-- 0 -->\n",
       "<g id=\"node4\" class=\"node\">\n",
       "<title>0</title>\n",
       "<ellipse fill=\"white\" stroke=\"white\" cx=\"1.8\" cy=\"-51\" rx=\"1.8\" ry=\"1.8\"/>\n",
       "</g>\n",
       "<!-- 0&#45;&gt;1 -->\n",
       "<g id=\"edge1\" class=\"edge\">\n",
       "<title>0-&gt;1</title>\n",
       "<path fill=\"none\" stroke=\"white\" d=\"M3.75,-51C7.11,-51 18.87,-51 30.55,-51\"/>\n",
       "<polygon fill=\"white\" stroke=\"white\" points=\"30.58,-54.5 40.58,-51 30.58,-47.5 30.58,-54.5\"/>\n",
       "</g>\n",
       "</g>\n",
       "</svg>"
      ],
      "text/plain": [
       "<IPython.core.display.SVG object>"
      ]
     },
     "metadata": {},
     "output_type": "display_data"
    },
    {
     "name": "stdout",
     "output_type": "stream",
     "text": [
      "('blue', 'green', 'yellow') 0.9982659580569806\n",
      "('green', 'blue', 'yellow') 0.9982659580569806\n",
      "('blue', 'yellow') 0.9982659580569806\n",
      "('green', 'yellow') 0.9999999999999999\n"
     ]
    },
    {
     "data": {
      "image/svg+xml": [
       "<svg xmlns=\"http://www.w3.org/2000/svg\" xmlns:xlink=\"http://www.w3.org/1999/xlink\" width=\"261pt\" height=\"88pt\" viewBox=\"0.00 0.00 260.60 88.00\">\n",
       "<g id=\"graph0\" class=\"graph\" transform=\"scale(1 1) rotate(0) translate(4 84)\">\n",
       "<title>G</title>\n",
       "<polygon fill=\"#002b36\" stroke=\"transparent\" points=\"-4,4 -4,-84 256.6,-84 256.6,4 -4,4\"/>\n",
       "<!-- 1 -->\n",
       "<g id=\"node1\" class=\"node\">\n",
       "<title>1</title>\n",
       "<ellipse fill=\"none\" stroke=\"white\" cx=\"58.6\" cy=\"-51\" rx=\"18\" ry=\"18\"/>\n",
       "<text text-anchor=\"middle\" x=\"58.6\" y=\"-47.3\" font-family=\"Times,serif\" font-size=\"14.00\" fill=\"white\">0</text>\n",
       "</g>\n",
       "<!-- 2 -->\n",
       "<g id=\"node2\" class=\"node\">\n",
       "<title>2</title>\n",
       "<ellipse fill=\"none\" stroke=\"white\" cx=\"234.6\" cy=\"-50\" rx=\"18\" ry=\"18\"/>\n",
       "<text text-anchor=\"middle\" x=\"234.6\" y=\"-46.3\" font-family=\"Times,serif\" font-size=\"14.00\" fill=\"white\">1</text>\n",
       "</g>\n",
       "<!-- 1&#45;&gt;2 -->\n",
       "<g id=\"edge2\" class=\"edge\">\n",
       "<title>1-&gt;2</title>\n",
       "<path fill=\"none\" stroke=\"white\" d=\"M76.2,-55.6C81.98,-56.98 88.53,-58.32 94.6,-59 115.96,-61.41 54.19,-75.09 198.6,-58 201.35,-57.67 204.2,-57.22 207.03,-56.69\"/>\n",
       "<polygon fill=\"white\" stroke=\"white\" points=\"207.95,-60.08 216.99,-54.56 206.48,-53.23 207.95,-60.08\"/>\n",
       "<text text-anchor=\"middle\" x=\"146.6\" y=\"-68.8\" font-family=\"Times,serif\" font-size=\"14.00\" fill=\"#ff8b8b\">◼</text>\n",
       "</g>\n",
       "<!-- 3 -->\n",
       "<g id=\"node3\" class=\"node\">\n",
       "<title>3</title>\n",
       "<ellipse fill=\"none\" stroke=\"white\" cx=\"146.6\" cy=\"-22\" rx=\"18\" ry=\"18\"/>\n",
       "<ellipse fill=\"none\" stroke=\"white\" cx=\"146.6\" cy=\"-22\" rx=\"22\" ry=\"22\"/>\n",
       "<text text-anchor=\"middle\" x=\"146.6\" y=\"-18.3\" font-family=\"Times,serif\" font-size=\"14.00\" fill=\"white\">2</text>\n",
       "</g>\n",
       "<!-- 1&#45;&gt;3 -->\n",
       "<g id=\"edge3\" class=\"edge\">\n",
       "<title>1-&gt;3</title>\n",
       "<path fill=\"none\" stroke=\"white\" d=\"M75.78,-45.55C87.02,-41.75 102.34,-36.59 115.76,-32.06\"/>\n",
       "<polygon fill=\"white\" stroke=\"white\" points=\"117.2,-35.27 125.56,-28.76 114.97,-28.64 117.2,-35.27\"/>\n",
       "<text text-anchor=\"middle\" x=\"100.6\" y=\"-43.8\" font-family=\"Times,serif\" font-size=\"14.00\" fill=\"#ffff00\">◼</text>\n",
       "</g>\n",
       "<!-- 3&#45;&gt;2 -->\n",
       "<g id=\"edge4\" class=\"edge\">\n",
       "<title>3-&gt;2</title>\n",
       "<path fill=\"none\" stroke=\"white\" d=\"M167.98,-28.64C179.9,-32.51 195.05,-37.45 207.79,-41.6\"/>\n",
       "<polygon fill=\"white\" stroke=\"white\" points=\"206.79,-44.95 217.39,-44.72 208.96,-38.3 206.79,-44.95\"/>\n",
       "<text text-anchor=\"middle\" x=\"192.6\" y=\"-42.8\" font-family=\"Times,serif\" font-size=\"14.00\" fill=\"#ff8b8b\">◼</text>\n",
       "</g>\n",
       "<!-- 3&#45;&gt;2 -->\n",
       "<g id=\"edge5\" class=\"edge\">\n",
       "<title>3-&gt;2</title>\n",
       "<path fill=\"none\" stroke=\"white\" d=\"M168.07,-15.73C177.64,-13.86 189.01,-13.19 198.6,-17 204.92,-19.51 210.75,-23.76 215.78,-28.38\"/>\n",
       "<polygon fill=\"white\" stroke=\"white\" points=\"213.48,-31.04 222.96,-35.78 218.5,-26.16 213.48,-31.04\"/>\n",
       "<text text-anchor=\"middle\" x=\"192.6\" y=\"-20.8\" font-family=\"Times,serif\" font-size=\"14.00\" fill=\"#afafff\">◼</text>\n",
       "</g>\n",
       "<!-- 0 -->\n",
       "<g id=\"node4\" class=\"node\">\n",
       "<title>0</title>\n",
       "<ellipse fill=\"white\" stroke=\"white\" cx=\"1.8\" cy=\"-51\" rx=\"1.8\" ry=\"1.8\"/>\n",
       "</g>\n",
       "<!-- 0&#45;&gt;1 -->\n",
       "<g id=\"edge1\" class=\"edge\">\n",
       "<title>0-&gt;1</title>\n",
       "<path fill=\"none\" stroke=\"white\" d=\"M3.75,-51C7.11,-51 18.87,-51 30.55,-51\"/>\n",
       "<polygon fill=\"white\" stroke=\"white\" points=\"30.58,-54.5 40.58,-51 30.58,-47.5 30.58,-54.5\"/>\n",
       "</g>\n",
       "</g>\n",
       "</svg>"
      ],
      "text/plain": [
       "<IPython.core.display.SVG object>"
      ]
     },
     "metadata": {},
     "output_type": "display_data"
    },
    {
     "name": "stdout",
     "output_type": "stream",
     "text": [
      "('blue', 'green', 'yellow') 0.9982659580569806\n",
      "('green', 'blue', 'yellow') 0.9982659580569806\n",
      "('blue', 'yellow') 0.9982659580569806\n",
      "('green', 'yellow') 0.9999999999999999\n"
     ]
    },
    {
     "ename": "KeyboardInterrupt",
     "evalue": "",
     "output_type": "error",
     "traceback": [
      "\u001b[0;31m---------------------------------------------------------------------------\u001b[0m",
      "\u001b[0;31mKeyboardInterrupt\u001b[0m                         Traceback (most recent call last)",
      "\u001b[0;32m/tmp/ipykernel_132637/2865072664.py\u001b[0m in \u001b[0;36m<module>\u001b[0;34m\u001b[0m\n\u001b[1;32m     14\u001b[0m )\n\u001b[1;32m     15\u001b[0m \u001b[0;34m\u001b[0m\u001b[0m\n\u001b[0;32m---> 16\u001b[0;31m \u001b[0mdf\u001b[0m \u001b[0;34m=\u001b[0m \u001b[0manalyze\u001b[0m\u001b[0;34m(\u001b[0m\u001b[0mdiss\u001b[0m\u001b[0;34m,\u001b[0m \u001b[0mn_iters\u001b[0m\u001b[0;34m)\u001b[0m\u001b[0;34m\u001b[0m\u001b[0;34m\u001b[0m\u001b[0m\n\u001b[0m",
      "\u001b[0;32m/tmp/ipykernel_132637/1117747388.py\u001b[0m in \u001b[0;36manalyze\u001b[0;34m(search, n_iters)\u001b[0m\n\u001b[1;32m      5\u001b[0m     \u001b[0mbrier_scores\u001b[0m \u001b[0;34m=\u001b[0m \u001b[0;34m[\u001b[0m\u001b[0;34m]\u001b[0m\u001b[0;34m\u001b[0m\u001b[0;34m\u001b[0m\u001b[0m\n\u001b[1;32m      6\u001b[0m     \u001b[0;31m# 1. Run Search and collect concepts, energy, and POI.\u001b[0m\u001b[0;34m\u001b[0m\u001b[0;34m\u001b[0m\u001b[0m\n\u001b[0;32m----> 7\u001b[0;31m     \u001b[0;32mfor\u001b[0m \u001b[0m_\u001b[0m\u001b[0;34m,\u001b[0m \u001b[0;34m(\u001b[0m\u001b[0mdata\u001b[0m\u001b[0;34m,\u001b[0m \u001b[0mconcept\u001b[0m\u001b[0;34m,\u001b[0m \u001b[0mmetadata\u001b[0m\u001b[0;34m)\u001b[0m \u001b[0;32min\u001b[0m \u001b[0mzip\u001b[0m\u001b[0;34m(\u001b[0m\u001b[0mtrange\u001b[0m\u001b[0;34m(\u001b[0m\u001b[0mn_iters\u001b[0m\u001b[0;34m,\u001b[0m \u001b[0mdesc\u001b[0m\u001b[0;34m=\u001b[0m\u001b[0;34m'DISS'\u001b[0m\u001b[0;34m)\u001b[0m\u001b[0;34m,\u001b[0m \u001b[0mdfa_search\u001b[0m\u001b[0;34m)\u001b[0m\u001b[0;34m:\u001b[0m\u001b[0;34m\u001b[0m\u001b[0;34m\u001b[0m\u001b[0m\n\u001b[0m\u001b[1;32m      8\u001b[0m         \u001b[0mconcept2energy\u001b[0m\u001b[0;34m[\u001b[0m\u001b[0mconcept\u001b[0m\u001b[0;34m]\u001b[0m \u001b[0;34m=\u001b[0m \u001b[0mmetadata\u001b[0m\u001b[0;34m[\u001b[0m\u001b[0;34m'energy'\u001b[0m\u001b[0;34m]\u001b[0m\u001b[0;34m\u001b[0m\u001b[0;34m\u001b[0m\u001b[0m\n\u001b[1;32m      9\u001b[0m         \u001b[0mpoi\u001b[0m \u001b[0;34m|=\u001b[0m \u001b[0mdata\u001b[0m\u001b[0;34m.\u001b[0m\u001b[0munlabeled\u001b[0m\u001b[0;34m\u001b[0m\u001b[0;34m\u001b[0m\u001b[0m\n",
      "\u001b[0;32m~/work/code/DISS/diss/learn.py\u001b[0m in \u001b[0;36mdiss\u001b[0;34m(demos, to_concept, to_chain, competency, lift_path, n_iters, reset_period, cooling_schedule, size_weight, surprise_weight, sgs_greed, synth_timeout)\u001b[0m\n\u001b[1;32m    272\u001b[0m         \u001b[0;32mtry\u001b[0m\u001b[0;34m:\u001b[0m\u001b[0;34m\u001b[0m\u001b[0;34m\u001b[0m\u001b[0m\n\u001b[1;32m    273\u001b[0m             \u001b[0msignal\u001b[0m\u001b[0;34m.\u001b[0m\u001b[0malarm\u001b[0m\u001b[0;34m(\u001b[0m\u001b[0msynth_timeout\u001b[0m\u001b[0;34m)\u001b[0m\u001b[0;34m\u001b[0m\u001b[0;34m\u001b[0m\u001b[0m\n\u001b[0;32m--> 274\u001b[0;31m             \u001b[0mconcept\u001b[0m \u001b[0;34m=\u001b[0m \u001b[0mto_concept\u001b[0m\u001b[0;34m(\u001b[0m\u001b[0mproposed_examples\u001b[0m\u001b[0;34m)\u001b[0m\u001b[0;34m\u001b[0m\u001b[0;34m\u001b[0m\u001b[0m\n\u001b[0m\u001b[1;32m    275\u001b[0m             \u001b[0msignal\u001b[0m\u001b[0;34m.\u001b[0m\u001b[0malarm\u001b[0m\u001b[0;34m(\u001b[0m\u001b[0;36m0\u001b[0m\u001b[0;34m)\u001b[0m  \u001b[0;31m# Unset alarm.\u001b[0m\u001b[0;34m\u001b[0m\u001b[0;34m\u001b[0m\u001b[0m\n\u001b[1;32m    276\u001b[0m             \u001b[0mconcept2data\u001b[0m\u001b[0;34m.\u001b[0m\u001b[0msetdefault\u001b[0m\u001b[0;34m(\u001b[0m\u001b[0mconcept\u001b[0m\u001b[0;34m,\u001b[0m \u001b[0mproposed_examples\u001b[0m\u001b[0;34m)\u001b[0m\u001b[0;34m\u001b[0m\u001b[0;34m\u001b[0m\u001b[0m\n",
      "\u001b[0;32m~/work/code/DISS/diss/experiment/concept_class.py\u001b[0m in \u001b[0;36m__call__\u001b[0;34m(self, data)\u001b[0m\n\u001b[1;32m    102\u001b[0m         \u001b[0mdata\u001b[0m \u001b[0;34m@=\u001b[0m \u001b[0mself\u001b[0m\u001b[0;34m.\u001b[0m\u001b[0mbase_examples\u001b[0m\u001b[0;34m\u001b[0m\u001b[0;34m\u001b[0m\u001b[0m\n\u001b[1;32m    103\u001b[0m         \u001b[0;32mfor\u001b[0m \u001b[0mi\u001b[0m \u001b[0;32min\u001b[0m \u001b[0mrange\u001b[0m\u001b[0;34m(\u001b[0m\u001b[0;36m20\u001b[0m\u001b[0;34m)\u001b[0m\u001b[0;34m:\u001b[0m\u001b[0;34m\u001b[0m\u001b[0;34m\u001b[0m\u001b[0m\n\u001b[0;32m--> 104\u001b[0;31m             tests = fn.take(5, find_dfas(\n\u001b[0m\u001b[1;32m    105\u001b[0m                 \u001b[0mdata\u001b[0m\u001b[0;34m.\u001b[0m\u001b[0mpositive\u001b[0m\u001b[0;34m,\u001b[0m\u001b[0;34m\u001b[0m\u001b[0;34m\u001b[0m\u001b[0m\n\u001b[1;32m    106\u001b[0m                 \u001b[0mdata\u001b[0m\u001b[0;34m.\u001b[0m\u001b[0mnegative\u001b[0m\u001b[0;34m,\u001b[0m\u001b[0;34m\u001b[0m\u001b[0;34m\u001b[0m\u001b[0m\n",
      "\u001b[0;32m~/.cache/pypoetry/virtualenvs/diss-6lxiNb92-py3.9/lib/python3.9/site-packages/funcy/seqs.py\u001b[0m in \u001b[0;36mtake\u001b[0;34m(n, seq)\u001b[0m\n\u001b[1;32m     44\u001b[0m     \"\"\"Returns a list of first n items in the sequence,\n\u001b[1;32m     45\u001b[0m        or all items if there are fewer than n.\"\"\"\n\u001b[0;32m---> 46\u001b[0;31m     \u001b[0;32mreturn\u001b[0m \u001b[0mlist\u001b[0m\u001b[0;34m(\u001b[0m\u001b[0mislice\u001b[0m\u001b[0;34m(\u001b[0m\u001b[0mseq\u001b[0m\u001b[0;34m,\u001b[0m \u001b[0mn\u001b[0m\u001b[0;34m)\u001b[0m\u001b[0;34m)\u001b[0m\u001b[0;34m\u001b[0m\u001b[0;34m\u001b[0m\u001b[0m\n\u001b[0m\u001b[1;32m     47\u001b[0m \u001b[0;34m\u001b[0m\u001b[0m\n\u001b[1;32m     48\u001b[0m \u001b[0;32mdef\u001b[0m \u001b[0mdrop\u001b[0m\u001b[0;34m(\u001b[0m\u001b[0mn\u001b[0m\u001b[0;34m,\u001b[0m \u001b[0mseq\u001b[0m\u001b[0;34m)\u001b[0m\u001b[0;34m:\u001b[0m\u001b[0;34m\u001b[0m\u001b[0;34m\u001b[0m\u001b[0m\n",
      "\u001b[0;32m~/.cache/pypoetry/virtualenvs/diss-6lxiNb92-py3.9/lib/python3.9/site-packages/dfa_identify/identify.py\u001b[0m in \u001b[0;36mfind_dfas\u001b[0;34m(accepting, rejecting, solver_fact, sym_mode, extra_clauses, bounds, order_by_stutter, alphabet, allow_unminimized)\u001b[0m\n\u001b[1;32m     68\u001b[0m         extra_clauses=extra_clauses, bounds=bounds)\n\u001b[1;32m     69\u001b[0m \u001b[0;34m\u001b[0m\u001b[0m\n\u001b[0;32m---> 70\u001b[0;31m     \u001b[0;32mfor\u001b[0m \u001b[0mcodec\u001b[0m\u001b[0;34m,\u001b[0m \u001b[0mclauses\u001b[0m \u001b[0;32min\u001b[0m \u001b[0mencodings\u001b[0m\u001b[0;34m:\u001b[0m\u001b[0;34m\u001b[0m\u001b[0;34m\u001b[0m\u001b[0m\n\u001b[0m\u001b[1;32m     71\u001b[0m         \u001b[0;32mwith\u001b[0m \u001b[0msolver_fact\u001b[0m\u001b[0;34m(\u001b[0m\u001b[0mbootstrap_with\u001b[0m\u001b[0;34m=\u001b[0m\u001b[0mclauses\u001b[0m\u001b[0;34m)\u001b[0m \u001b[0;32mas\u001b[0m \u001b[0msolver\u001b[0m\u001b[0;34m:\u001b[0m\u001b[0;34m\u001b[0m\u001b[0;34m\u001b[0m\u001b[0m\n\u001b[1;32m     72\u001b[0m             \u001b[0;32mif\u001b[0m \u001b[0;32mnot\u001b[0m \u001b[0msolver\u001b[0m\u001b[0;34m.\u001b[0m\u001b[0msolve\u001b[0m\u001b[0;34m(\u001b[0m\u001b[0;34m)\u001b[0m\u001b[0;34m:\u001b[0m\u001b[0;34m\u001b[0m\u001b[0;34m\u001b[0m\u001b[0m\n",
      "\u001b[0;32m~/.cache/pypoetry/virtualenvs/diss-6lxiNb92-py3.9/lib/python3.9/site-packages/dfa_identify/encoding.py\u001b[0m in \u001b[0;36mdfa_id_encodings\u001b[0;34m(apta, sym_mode, extra_clauses, bounds)\u001b[0m\n\u001b[1;32m    191\u001b[0m         \u001b[0mcodec\u001b[0m \u001b[0;34m=\u001b[0m \u001b[0mCodec\u001b[0m\u001b[0;34m.\u001b[0m\u001b[0mfrom_apta\u001b[0m\u001b[0;34m(\u001b[0m\u001b[0mapta\u001b[0m\u001b[0;34m,\u001b[0m \u001b[0mn_colors\u001b[0m\u001b[0;34m,\u001b[0m \u001b[0msym_mode\u001b[0m\u001b[0;34m=\u001b[0m\u001b[0msym_mode\u001b[0m\u001b[0;34m)\u001b[0m\u001b[0;34m\u001b[0m\u001b[0;34m\u001b[0m\u001b[0m\n\u001b[1;32m    192\u001b[0m \u001b[0;34m\u001b[0m\u001b[0m\n\u001b[0;32m--> 193\u001b[0;31m         \u001b[0mclauses\u001b[0m \u001b[0;34m=\u001b[0m \u001b[0mlist\u001b[0m\u001b[0;34m(\u001b[0m\u001b[0mencode_dfa_id\u001b[0m\u001b[0;34m(\u001b[0m\u001b[0mapta\u001b[0m\u001b[0;34m,\u001b[0m \u001b[0mcodec\u001b[0m\u001b[0;34m,\u001b[0m \u001b[0mcgraph\u001b[0m\u001b[0;34m,\u001b[0m \u001b[0mclique\u001b[0m\u001b[0;34m)\u001b[0m\u001b[0;34m)\u001b[0m\u001b[0;34m\u001b[0m\u001b[0;34m\u001b[0m\u001b[0m\n\u001b[0m\u001b[1;32m    194\u001b[0m         \u001b[0mclauses\u001b[0m\u001b[0;34m.\u001b[0m\u001b[0mextend\u001b[0m\u001b[0;34m(\u001b[0m\u001b[0mlist\u001b[0m\u001b[0;34m(\u001b[0m\u001b[0mextra_clauses\u001b[0m\u001b[0;34m(\u001b[0m\u001b[0mapta\u001b[0m\u001b[0;34m,\u001b[0m \u001b[0mcodec\u001b[0m\u001b[0;34m)\u001b[0m\u001b[0;34m)\u001b[0m\u001b[0;34m)\u001b[0m\u001b[0;34m\u001b[0m\u001b[0;34m\u001b[0m\u001b[0m\n\u001b[1;32m    195\u001b[0m \u001b[0;34m\u001b[0m\u001b[0m\n",
      "\u001b[0;32m~/.cache/pypoetry/virtualenvs/diss-6lxiNb92-py3.9/lib/python3.9/site-packages/dfa_identify/encoding.py\u001b[0m in \u001b[0;36mencode_dfa_id\u001b[0;34m(apta, codec, cgraph, clique)\u001b[0m\n\u001b[1;32m    199\u001b[0m \u001b[0;32mdef\u001b[0m \u001b[0mencode_dfa_id\u001b[0m\u001b[0;34m(\u001b[0m\u001b[0mapta\u001b[0m\u001b[0;34m,\u001b[0m \u001b[0mcodec\u001b[0m\u001b[0;34m,\u001b[0m \u001b[0mcgraph\u001b[0m\u001b[0;34m,\u001b[0m \u001b[0mclique\u001b[0m\u001b[0;34m=\u001b[0m\u001b[0;32mNone\u001b[0m\u001b[0;34m)\u001b[0m\u001b[0;34m:\u001b[0m\u001b[0;34m\u001b[0m\u001b[0;34m\u001b[0m\u001b[0m\n\u001b[1;32m    200\u001b[0m     \u001b[0;31m# Clauses from Table 1.                                      rows\u001b[0m\u001b[0;34m\u001b[0m\u001b[0;34m\u001b[0m\u001b[0m\n\u001b[0;32m--> 201\u001b[0;31m     \u001b[0;32myield\u001b[0m \u001b[0;32mfrom\u001b[0m \u001b[0monehot_color_clauses\u001b[0m\u001b[0;34m(\u001b[0m\u001b[0mcodec\u001b[0m\u001b[0;34m)\u001b[0m                      \u001b[0;31m# 1, 5\u001b[0m\u001b[0;34m\u001b[0m\u001b[0;34m\u001b[0m\u001b[0m\n\u001b[0m\u001b[1;32m    202\u001b[0m     \u001b[0;32myield\u001b[0m \u001b[0;32mfrom\u001b[0m \u001b[0mpartition_by_accepting_clauses\u001b[0m\u001b[0;34m(\u001b[0m\u001b[0mcodec\u001b[0m\u001b[0;34m,\u001b[0m \u001b[0mapta\u001b[0m\u001b[0;34m)\u001b[0m      \u001b[0;31m# 2\u001b[0m\u001b[0;34m\u001b[0m\u001b[0;34m\u001b[0m\u001b[0m\n\u001b[1;32m    203\u001b[0m     \u001b[0;32myield\u001b[0m \u001b[0;32mfrom\u001b[0m \u001b[0mcolors_parent_rel_coupling_clauses\u001b[0m\u001b[0;34m(\u001b[0m\u001b[0mcodec\u001b[0m\u001b[0;34m,\u001b[0m \u001b[0mapta\u001b[0m\u001b[0;34m)\u001b[0m  \u001b[0;31m# 3, 7\u001b[0m\u001b[0;34m\u001b[0m\u001b[0;34m\u001b[0m\u001b[0m\n",
      "\u001b[0;32m~/.cache/pypoetry/virtualenvs/diss-6lxiNb92-py3.9/lib/python3.9/site-packages/dfa_identify/encoding.py\u001b[0m in \u001b[0;36monehot_color_clauses\u001b[0;34m(codec)\u001b[0m\n\u001b[1;32m    217\u001b[0m     \u001b[0;32mfor\u001b[0m \u001b[0mn\u001b[0m \u001b[0;32min\u001b[0m \u001b[0mrange\u001b[0m\u001b[0;34m(\u001b[0m\u001b[0mcodec\u001b[0m\u001b[0;34m.\u001b[0m\u001b[0mn_nodes\u001b[0m\u001b[0;34m)\u001b[0m\u001b[0;34m:\u001b[0m  \u001b[0;31m# Each vertex has at most one color.\u001b[0m\u001b[0;34m\u001b[0m\u001b[0;34m\u001b[0m\u001b[0m\n\u001b[1;32m    218\u001b[0m         \u001b[0;32mfor\u001b[0m \u001b[0mi\u001b[0m \u001b[0;32min\u001b[0m \u001b[0mrange\u001b[0m\u001b[0;34m(\u001b[0m\u001b[0mcodec\u001b[0m\u001b[0;34m.\u001b[0m\u001b[0mn_colors\u001b[0m\u001b[0;34m)\u001b[0m\u001b[0;34m:\u001b[0m\u001b[0;34m\u001b[0m\u001b[0;34m\u001b[0m\u001b[0m\n\u001b[0;32m--> 219\u001b[0;31m             \u001b[0mlit\u001b[0m \u001b[0;34m=\u001b[0m \u001b[0mcodec\u001b[0m\u001b[0;34m.\u001b[0m\u001b[0mcolor_node\u001b[0m\u001b[0;34m(\u001b[0m\u001b[0mn\u001b[0m\u001b[0;34m,\u001b[0m \u001b[0mi\u001b[0m\u001b[0;34m)\u001b[0m\u001b[0;34m\u001b[0m\u001b[0;34m\u001b[0m\u001b[0m\n\u001b[0m\u001b[1;32m    220\u001b[0m             \u001b[0;32mfor\u001b[0m \u001b[0mj\u001b[0m \u001b[0;32min\u001b[0m \u001b[0mrange\u001b[0m\u001b[0;34m(\u001b[0m\u001b[0mi\u001b[0m \u001b[0;34m+\u001b[0m \u001b[0;36m1\u001b[0m\u001b[0;34m,\u001b[0m \u001b[0mcodec\u001b[0m\u001b[0;34m.\u001b[0m\u001b[0mn_colors\u001b[0m\u001b[0;34m)\u001b[0m\u001b[0;34m:\u001b[0m  \u001b[0;31m# i < j\u001b[0m\u001b[0;34m\u001b[0m\u001b[0;34m\u001b[0m\u001b[0m\n\u001b[1;32m    221\u001b[0m                 \u001b[0;32myield\u001b[0m \u001b[0;34m[\u001b[0m\u001b[0;34m-\u001b[0m\u001b[0mlit\u001b[0m\u001b[0;34m,\u001b[0m \u001b[0;34m-\u001b[0m\u001b[0mcodec\u001b[0m\u001b[0;34m.\u001b[0m\u001b[0mcolor_node\u001b[0m\u001b[0;34m(\u001b[0m\u001b[0mn\u001b[0m\u001b[0;34m,\u001b[0m \u001b[0mj\u001b[0m\u001b[0;34m)\u001b[0m\u001b[0;34m]\u001b[0m\u001b[0;34m\u001b[0m\u001b[0;34m\u001b[0m\u001b[0m\n",
      "\u001b[0;32m~/.cache/pypoetry/virtualenvs/diss-6lxiNb92-py3.9/lib/python3.9/site-packages/dfa_identify/encoding.py\u001b[0m in \u001b[0;36mwrapper\u001b[0;34m(self, *args, **kwargs)\u001b[0m\n\u001b[1;32m     29\u001b[0m         \u001b[0;34m@\u001b[0m\u001b[0mwraps\u001b[0m\u001b[0;34m(\u001b[0m\u001b[0mfunc\u001b[0m\u001b[0;34m)\u001b[0m\u001b[0;34m\u001b[0m\u001b[0;34m\u001b[0m\u001b[0m\n\u001b[1;32m     30\u001b[0m         \u001b[0;32mdef\u001b[0m \u001b[0mwrapper\u001b[0m\u001b[0;34m(\u001b[0m\u001b[0mself\u001b[0m\u001b[0;34m,\u001b[0m \u001b[0;34m*\u001b[0m\u001b[0margs\u001b[0m\u001b[0;34m,\u001b[0m \u001b[0;34m**\u001b[0m\u001b[0mkwargs\u001b[0m\u001b[0;34m)\u001b[0m\u001b[0;34m:\u001b[0m\u001b[0;34m\u001b[0m\u001b[0;34m\u001b[0m\u001b[0m\n\u001b[0;32m---> 31\u001b[0;31m             \u001b[0mbound\u001b[0m \u001b[0;34m=\u001b[0m \u001b[0msig\u001b[0m\u001b[0;34m.\u001b[0m\u001b[0mbind_partial\u001b[0m\u001b[0;34m(\u001b[0m\u001b[0mself\u001b[0m\u001b[0;34m,\u001b[0m \u001b[0;34m*\u001b[0m\u001b[0margs\u001b[0m\u001b[0;34m,\u001b[0m \u001b[0;34m**\u001b[0m\u001b[0mkwargs\u001b[0m\u001b[0;34m)\u001b[0m\u001b[0;34m\u001b[0m\u001b[0;34m\u001b[0m\u001b[0m\n\u001b[0m\u001b[1;32m     32\u001b[0m             \u001b[0;32mfor\u001b[0m \u001b[0mkey\u001b[0m\u001b[0;34m,\u001b[0m \u001b[0mval\u001b[0m \u001b[0;32min\u001b[0m \u001b[0mbound\u001b[0m\u001b[0;34m.\u001b[0m\u001b[0marguments\u001b[0m\u001b[0;34m.\u001b[0m\u001b[0mitems\u001b[0m\u001b[0;34m(\u001b[0m\u001b[0;34m)\u001b[0m\u001b[0;34m:\u001b[0m\u001b[0;34m\u001b[0m\u001b[0;34m\u001b[0m\u001b[0m\n\u001b[1;32m     33\u001b[0m                 \u001b[0;32mif\u001b[0m \u001b[0mkey\u001b[0m\u001b[0;34m.\u001b[0m\u001b[0mstartswith\u001b[0m\u001b[0;34m(\u001b[0m\u001b[0;34m'color'\u001b[0m\u001b[0;34m)\u001b[0m\u001b[0;34m:\u001b[0m\u001b[0;34m\u001b[0m\u001b[0;34m\u001b[0m\u001b[0m\n",
      "\u001b[0;32m/usr/lib/python3.9/inspect.py\u001b[0m in \u001b[0;36mbind_partial\u001b[0;34m(self, *args, **kwargs)\u001b[0m\n\u001b[1;32m   3048\u001b[0m         \u001b[0mRaises\u001b[0m\u001b[0;31m \u001b[0m\u001b[0;31m`\u001b[0m\u001b[0mTypeError\u001b[0m\u001b[0;31m`\u001b[0m \u001b[0;32mif\u001b[0m \u001b[0mthe\u001b[0m \u001b[0mpassed\u001b[0m \u001b[0marguments\u001b[0m \u001b[0mcan\u001b[0m \u001b[0;32mnot\u001b[0m \u001b[0mbe\u001b[0m \u001b[0mbound\u001b[0m\u001b[0;34m.\u001b[0m\u001b[0;34m\u001b[0m\u001b[0;34m\u001b[0m\u001b[0m\n\u001b[1;32m   3049\u001b[0m         \"\"\"\n\u001b[0;32m-> 3050\u001b[0;31m         \u001b[0;32mreturn\u001b[0m \u001b[0mself\u001b[0m\u001b[0;34m.\u001b[0m\u001b[0m_bind\u001b[0m\u001b[0;34m(\u001b[0m\u001b[0margs\u001b[0m\u001b[0;34m,\u001b[0m \u001b[0mkwargs\u001b[0m\u001b[0;34m,\u001b[0m \u001b[0mpartial\u001b[0m\u001b[0;34m=\u001b[0m\u001b[0;32mTrue\u001b[0m\u001b[0;34m)\u001b[0m\u001b[0;34m\u001b[0m\u001b[0;34m\u001b[0m\u001b[0m\n\u001b[0m\u001b[1;32m   3051\u001b[0m \u001b[0;34m\u001b[0m\u001b[0m\n\u001b[1;32m   3052\u001b[0m     \u001b[0;32mdef\u001b[0m \u001b[0m__reduce__\u001b[0m\u001b[0;34m(\u001b[0m\u001b[0mself\u001b[0m\u001b[0;34m)\u001b[0m\u001b[0;34m:\u001b[0m\u001b[0;34m\u001b[0m\u001b[0;34m\u001b[0m\u001b[0m\n",
      "\u001b[0;32m/usr/lib/python3.9/inspect.py\u001b[0m in \u001b[0;36m_bind\u001b[0;34m(self, args, kwargs, partial)\u001b[0m\n\u001b[1;32m   2984\u001b[0m                                 arg=param.name)) from None\n\u001b[1;32m   2985\u001b[0m \u001b[0;34m\u001b[0m\u001b[0m\n\u001b[0;32m-> 2986\u001b[0;31m                     \u001b[0marguments\u001b[0m\u001b[0;34m[\u001b[0m\u001b[0mparam\u001b[0m\u001b[0;34m.\u001b[0m\u001b[0mname\u001b[0m\u001b[0;34m]\u001b[0m \u001b[0;34m=\u001b[0m \u001b[0marg_val\u001b[0m\u001b[0;34m\u001b[0m\u001b[0;34m\u001b[0m\u001b[0m\n\u001b[0m\u001b[1;32m   2987\u001b[0m \u001b[0;34m\u001b[0m\u001b[0m\n\u001b[1;32m   2988\u001b[0m         \u001b[0;31m# Now, we iterate through the remaining parameters to process\u001b[0m\u001b[0;34m\u001b[0m\u001b[0;34m\u001b[0m\u001b[0m\n",
      "\u001b[0;31mKeyboardInterrupt\u001b[0m: "
     ]
    }
   ],
   "source": [
    "n_iters = 20\n",
    "\n",
    "dfa_search = diss(\n",
    "    demos=demos,\n",
    "    to_concept=identifer,\n",
    "    to_chain=to_chain,\n",
    "    competency=lambda *_: 0.8,\n",
    "    lift_path=lift_path,\n",
    "    n_iters=n_iters,\n",
    "    reset_period=7,\n",
    "    surprise_weight=10,  # Rescale surprise to make comparable to size.\n",
    "    sgs_greed=2,\n",
    "    synth_timeout=3\n",
    ")\n",
    "\n",
    "df = analyze(diss, n_iters)"
   ]
  },
  {
   "cell_type": "code",
   "execution_count": null,
   "metadata": {},
   "outputs": [],
   "source": [
    "df['probability mass explored'].plot()"
   ]
  },
  {
   "cell_type": "code",
   "execution_count": null,
   "metadata": {},
   "outputs": [],
   "source": [
    "df['brier score'].plot()"
   ]
  },
  {
   "cell_type": "code",
   "execution_count": null,
   "metadata": {},
   "outputs": [],
   "source": [
    "dfa_search = diss(\n",
    "    demos=demos,\n",
    "    to_concept=identifer,\n",
    "    to_chain=to_chain,\n",
    "    competency=lambda *_: 0.8,\n",
    "    lift_path=lift_path,\n",
    "    n_iters=n_iters,\n",
    "    reset_period=4,\n",
    "    surprise_weight=10,  # Rescale surprise to make comparable to size.\n",
    "    sgs_greed=0,\n",
    ")\n",
    "\n",
    "df2 = analyze(diss, n_iters)"
   ]
  },
  {
   "cell_type": "code",
   "execution_count": null,
   "metadata": {},
   "outputs": [],
   "source": [
    "df['brier score'].plot()\n",
    "df2['brier score'].plot()"
   ]
  },
  {
   "cell_type": "code",
   "execution_count": null,
   "metadata": {},
   "outputs": [],
   "source": [
    "df['probability mass explored'].plot()\n",
    "df2['probability mass explored'].plot()"
   ]
  },
  {
   "cell_type": "markdown",
   "metadata": {},
   "source": [
    "# Enumeration baseline"
   ]
  },
  {
   "cell_type": "code",
   "execution_count": null,
   "metadata": {},
   "outputs": [],
   "source": [
    "def sampler_factory(demos):\n",
    "    return GradientGuidedSampler.from_demos(\n",
    "        demos=demos,\n",
    "        to_chain=to_chain,\n",
    "        competency=lambda *_: 0.8,\n",
    "    )"
   ]
  },
  {
   "cell_type": "code",
   "execution_count": null,
   "metadata": {},
   "outputs": [],
   "source": [
    "to_chain.invalidate_all()"
   ]
  },
  {
   "cell_type": "code",
   "execution_count": null,
   "metadata": {},
   "outputs": [],
   "source": [
    "from dfa.utils import minimize\n",
    "\n",
    "def enumerate_dfas():\n",
    "    data = LabeledExamples(\n",
    "        positive=[\n",
    "            ('yellow',),\n",
    "            ('yellow', 'yellow'),\n",
    "        ],\n",
    "        negative=[\n",
    "            (), ('red',), ('red', 'red'),\n",
    "            ('red', 'yellow'), ('yellow', 'red'),\n",
    "            ('yellow', 'red', 'yellow'),\n",
    "            ('yellow', 'yellow', 'red'),\n",
    "        ]\n",
    "    )\n",
    "\n",
    "    # CEGIS loop to add constraints to enforce subsets.\n",
    "    for i in range(20):\n",
    "        tests = fn.take(5, find_dfas(\n",
    "            data.positive,\n",
    "            data.negative,\n",
    "            order_by_stutter=True,\n",
    "            allow_unminimized=True,\n",
    "        ))\n",
    "        new_data = LabeledExamples()\n",
    "        for test in tests:\n",
    "            assert test is not None\n",
    "            partial = partial_dfa(test.inputs)\n",
    "            ce = find_subset_counterexample(test, partial)\n",
    "            if ce is not None:\n",
    "                new_data @= LabeledExamples(negative=[ce])\n",
    "        if new_data.size == 0:\n",
    "            break\n",
    "\n",
    "    dfas = find_dfas(\n",
    "        data.positive,\n",
    "        data.negative,\n",
    "        order_by_stutter=False,\n",
    "        alphabet=ALPHABET,\n",
    "        allow_unminimized=True,\n",
    "    )\n",
    "\n",
    "    yield from map(minimize, filter(subset_check_wrapper, dfas))\n"
   ]
  },
  {
   "cell_type": "code",
   "execution_count": null,
   "metadata": {},
   "outputs": [],
   "source": [
    "sggs = sampler_factory(demos)"
   ]
  },
  {
   "cell_type": "code",
   "execution_count": null,
   "metadata": {
    "scrolled": true,
    "tags": []
   },
   "outputs": [],
   "source": [
    "Z2 = 0\n",
    "dist = Counter()\n",
    "for i, d in enumerate(fn.distinct(enumerate_dfas())):\n",
    "    concept = DFAConcept.from_dfa(d)\n",
    "    dist.update([len(d.states())])\n",
    "    print(dist)\n",
    "    print(f'             {i}                ')\n",
    "    energy = 20 * sggs(concept)[1]['surprisal'] + concept.size\n",
    "    Z2 += np.exp(-energy)\n",
    "    \n",
    "    print(f'{energy=:.3}')\n",
    "    print(f'Z2 / Z = {Z2 / Z:0.3}')\n",
    "    print('--------------------------------')\n",
    "    if i > 50:\n",
    "        break\n",
    "    #view_pydot(get_dot(d))"
   ]
  },
  {
   "cell_type": "markdown",
   "metadata": {},
   "source": [
    "# Circuit + BDD based MaxEnt Policy (CAV '20)\n",
    "\n",
    "🚨 🚧  🚧  🚧  🚧  🚧  🚧  🚧  🚧  🚧  🚧  🚧  🚧  🚧  🚧  🚧  🚧  🚧  🚧  🚧  🚧  🚧 🚨\n",
    "\n",
    "Everything after this point of the notebook is currently under development!\n",
    "\n",
    "🚨 🚧  🚧  🚧  🚧  🚧  🚧  🚧  🚧  🚧  🚧  🚧  🚧  🚧  🚧  🚧  🚧  🚧  🚧  🚧  🚧  🚧 🚨 "
   ]
  },
  {
   "cell_type": "markdown",
   "metadata": {},
   "source": [
    "# 1. Create Dynamical System\n",
    "\n",
    "Here we create a BitVector sequential circuit, `DYN`, using `py-aiger`, the models a gridworld (line 4).\n",
    "\n",
    "Afterwords, lines 6-8 describe introducing a slip probability of `1/32` (modeled by a biased coin with bias `31/32`). \n",
    "\n",
    "**Note that states are 1-hot encoded**"
   ]
  },
  {
   "cell_type": "code",
   "execution_count": 15,
   "metadata": {},
   "outputs": [],
   "source": [
    "import aiger as A\n",
    "import aiger_bv as BV\n",
    "import aiger_gridworld as GW\n",
    "import aiger_ptltl as LTL\n",
    "from bidict import bidict\n",
    "from aiger_bdd import to_bdd"
   ]
  },
  {
   "cell_type": "code",
   "execution_count": 16,
   "metadata": {},
   "outputs": [],
   "source": [
    "STATE = BV.uatom(16, 'state')\n",
    "X = STATE[:8]\n",
    "Y = STATE[8:]\n",
    "s0 = (3, 5)\n",
    "#                            \n",
    "DYN = GW.gridworld(8, start=(s0[0], 9 - s0[1]), compressed_inputs=True)\n",
    "SLIP = BV.atom(1, 'c', signed=False).repeat(2) & BV.atom(2, 'a', signed=False)\n",
    "SLIP = SLIP.with_output('a').aigbv\n",
    "DYN <<= SLIP\n",
    "\n",
    "def encode_state(x, y):\n",
    "    x, y = x - 1, (9 - y) + 7\n",
    "    return {'state': (1 << x) | (1 << y)}"
   ]
  },
  {
   "cell_type": "markdown",
   "metadata": {},
   "source": [
    "# 2. Create Sensor / Feature overlay\n",
    "\n",
    "Next, we define the mapping from concrete states to sensor values / atomic predicates.\n",
    "We use simple coordinate wise bitvector masks to encode the color overlays."
   ]
  },
  {
   "cell_type": "code",
   "execution_count": 17,
   "metadata": {},
   "outputs": [],
   "source": [
    "def mask_test(xmask, ymask):\n",
    "    return ((X & xmask) !=0) & ((Y & ymask) != 0)\n",
    "\n",
    "\n",
    "APS = {       #            x-axis       y-axis\n",
    "    'yellow': mask_test(0b0000_0001, 0b1000_0001),\n",
    "    'blue':   mask_test(0b0000_1010, 0b0011_1100),\n",
    "    'green':  mask_test(0b0010_0000, 0b1000_0000),\n",
    "    'red':    mask_test(0b1000_0000, 0b0011_0010) \\\n",
    "            | mask_test(0b0011_1111, 0b0000_0010),\n",
    "}\n",
    "\n",
    "def create_sensor(aps):\n",
    "    sensor = BV.aig2aigbv(A.empty())\n",
    "    for name, ap in APS.items():\n",
    "        sensor |= ap.with_output(name).aigbv\n",
    "    aps = reduce(lambda x, y: x.concat(y), APS.values())\n",
    "    sensor |= (aps == 0).with_output('white').aigbv\n",
    "    return sensor\n",
    "\n",
    "SENSOR = create_sensor(APS)"
   ]
  },
  {
   "cell_type": "code",
   "execution_count": 18,
   "metadata": {},
   "outputs": [
    {
     "data": {
      "text/plain": [
       "{'blue', 'green', 'red', 'white', 'yellow'}"
      ]
     },
     "execution_count": 18,
     "metadata": {},
     "output_type": "execute_result"
    }
   ],
   "source": [
    "SENSOR.outputs"
   ]
  },
  {
   "cell_type": "markdown",
   "metadata": {},
   "source": [
    "## Visualizing Overlay\n",
    "\n",
    "This can all seem pretty abstract, so let's visualize the way the sensor sees the board."
   ]
  },
  {
   "cell_type": "code",
   "execution_count": 19,
   "metadata": {},
   "outputs": [
    {
     "data": {
      "text/html": [
       "<text style='border: solid 1px;background-color:#ffff00'>&nbsp;&nbsp;&nbsp;&nbsp;</text>&nbsp;<text style='border: solid 1px;background-color:white'>&nbsp;&nbsp;&nbsp;&nbsp;</text>&nbsp;<text style='border: solid 1px;background-color:white'>&nbsp;&nbsp;&nbsp;&nbsp;</text>&nbsp;<text style='border: solid 1px;background-color:white'>&nbsp;&nbsp;&nbsp;&nbsp;</text>&nbsp;<text style='border: solid 1px;background-color:white'>&nbsp;&nbsp;&nbsp;&nbsp;</text>&nbsp;<text style='border: solid 1px;background-color:#8ff45d'>&nbsp;&nbsp;&nbsp;&nbsp;</text>&nbsp;<text style='border: solid 1px;background-color:white'>&nbsp;&nbsp;&nbsp;&nbsp;</text>&nbsp;<text style='border: solid 1px;background-color:white'>&nbsp;&nbsp;&nbsp;&nbsp;</text><br><text style='border: solid 1px;background-color:white'>&nbsp;&nbsp;&nbsp;&nbsp;</text>&nbsp;<text style='border: solid 1px;background-color:white'>&nbsp;&nbsp;&nbsp;&nbsp;</text>&nbsp;<text style='border: solid 1px;background-color:white'>&nbsp;&nbsp;&nbsp;&nbsp;</text>&nbsp;<text style='border: solid 1px;background-color:white'>&nbsp;&nbsp;&nbsp;&nbsp;</text>&nbsp;<text style='border: solid 1px;background-color:white'>&nbsp;&nbsp;&nbsp;&nbsp;</text>&nbsp;<text style='border: solid 1px;background-color:white'>&nbsp;&nbsp;&nbsp;&nbsp;</text>&nbsp;<text style='border: solid 1px;background-color:white'>&nbsp;&nbsp;&nbsp;&nbsp;</text>&nbsp;<text style='border: solid 1px;background-color:white'>&nbsp;&nbsp;&nbsp;&nbsp;</text><br><text style='border: solid 1px;background-color:white'>&nbsp;&nbsp;&nbsp;&nbsp;</text>&nbsp;<text style='border: solid 1px;background-color:#afafff'>&nbsp;&nbsp;&nbsp;&nbsp;</text>&nbsp;<text style='border: solid 1px;background-color:white'>&nbsp;&nbsp;&nbsp;&nbsp;</text>&nbsp;<text style='border: solid 1px;background-color:#afafff'>&nbsp;&nbsp;&nbsp;&nbsp;</text>&nbsp;<text style='border: solid 1px;background-color:white'>&nbsp;&nbsp;&nbsp;&nbsp;</text>&nbsp;<text style='border: solid 1px;background-color:white'>&nbsp;&nbsp;&nbsp;&nbsp;</text>&nbsp;<text style='border: solid 1px;background-color:white'>&nbsp;&nbsp;&nbsp;&nbsp;</text>&nbsp;<text style='border: solid 1px;background-color:#ff8b8b'>&nbsp;&nbsp;&nbsp;&nbsp;</text><br><text style='border: solid 1px;background-color:white'>&nbsp;&nbsp;&nbsp;&nbsp;</text>&nbsp;<text style='border: solid 1px;background-color:#afafff'>&nbsp;&nbsp;&nbsp;&nbsp;</text>&nbsp;<text style='border: solid 1px;background-color:white'>&nbsp;&nbsp;&nbsp;&nbsp;</text>&nbsp;<text style='border: solid 1px;background-color:#afafff'>&nbsp;&nbsp;&nbsp;&nbsp;</text>&nbsp;<text style='border: solid 1px;background-color:white'>&nbsp;&nbsp;&nbsp;&nbsp;</text>&nbsp;<text style='border: solid 1px;background-color:white'>&nbsp;&nbsp;&nbsp;&nbsp;</text>&nbsp;<text style='border: solid 1px;background-color:white'>&nbsp;&nbsp;&nbsp;&nbsp;</text>&nbsp;<text style='border: solid 1px;background-color:#ff8b8b'>&nbsp;&nbsp;&nbsp;&nbsp;</text><br><text style='border: solid 1px;background-color:white'>&nbsp;&nbsp;&nbsp;&nbsp;</text>&nbsp;<text style='border: solid 1px;background-color:#afafff'>&nbsp;&nbsp;&nbsp;&nbsp;</text>&nbsp;<text style='border: solid 1px;background-color:white'>&nbsp;&nbsp;&nbsp;&nbsp;</text>&nbsp;<text style='border: solid 1px;background-color:#afafff'>&nbsp;&nbsp;&nbsp;&nbsp;</text>&nbsp;<text style='border: solid 1px;background-color:white'>&nbsp;&nbsp;&nbsp;&nbsp;</text>&nbsp;<text style='border: solid 1px;background-color:white'>&nbsp;&nbsp;&nbsp;&nbsp;</text>&nbsp;<text style='border: solid 1px;background-color:white'>&nbsp;&nbsp;&nbsp;&nbsp;</text>&nbsp;<text style='border: solid 1px;background-color:white'>&nbsp;&nbsp;&nbsp;&nbsp;</text><br><text style='border: solid 1px;background-color:white'>&nbsp;&nbsp;&nbsp;&nbsp;</text>&nbsp;<text style='border: solid 1px;background-color:#afafff'>&nbsp;&nbsp;&nbsp;&nbsp;</text>&nbsp;<text style='border: solid 1px;background-color:white'>&nbsp;&nbsp;&nbsp;&nbsp;</text>&nbsp;<text style='border: solid 1px;background-color:#afafff'>&nbsp;&nbsp;&nbsp;&nbsp;</text>&nbsp;<text style='border: solid 1px;background-color:white'>&nbsp;&nbsp;&nbsp;&nbsp;</text>&nbsp;<text style='border: solid 1px;background-color:white'>&nbsp;&nbsp;&nbsp;&nbsp;</text>&nbsp;<text style='border: solid 1px;background-color:white'>&nbsp;&nbsp;&nbsp;&nbsp;</text>&nbsp;<text style='border: solid 1px;background-color:white'>&nbsp;&nbsp;&nbsp;&nbsp;</text><br><text style='border: solid 1px;background-color:#ff8b8b'>&nbsp;&nbsp;&nbsp;&nbsp;</text>&nbsp;<text style='border: solid 1px;background-color:#ff8b8b'>&nbsp;&nbsp;&nbsp;&nbsp;</text>&nbsp;<text style='border: solid 1px;background-color:#ff8b8b'>&nbsp;&nbsp;&nbsp;&nbsp;</text>&nbsp;<text style='border: solid 1px;background-color:#ff8b8b'>&nbsp;&nbsp;&nbsp;&nbsp;</text>&nbsp;<text style='border: solid 1px;background-color:#ff8b8b'>&nbsp;&nbsp;&nbsp;&nbsp;</text>&nbsp;<text style='border: solid 1px;background-color:#ff8b8b'>&nbsp;&nbsp;&nbsp;&nbsp;</text>&nbsp;<text style='border: solid 1px;background-color:white'>&nbsp;&nbsp;&nbsp;&nbsp;</text>&nbsp;<text style='border: solid 1px;background-color:#ff8b8b'>&nbsp;&nbsp;&nbsp;&nbsp;</text><br><text style='border: solid 1px;background-color:#ffff00'>&nbsp;&nbsp;&nbsp;&nbsp;</text>&nbsp;<text style='border: solid 1px;background-color:white'>&nbsp;&nbsp;&nbsp;&nbsp;</text>&nbsp;<text style='border: solid 1px;background-color:white'>&nbsp;&nbsp;&nbsp;&nbsp;</text>&nbsp;<text style='border: solid 1px;background-color:white'>&nbsp;&nbsp;&nbsp;&nbsp;</text>&nbsp;<text style='border: solid 1px;background-color:white'>&nbsp;&nbsp;&nbsp;&nbsp;</text>&nbsp;<text style='border: solid 1px;background-color:white'>&nbsp;&nbsp;&nbsp;&nbsp;</text>&nbsp;<text style='border: solid 1px;background-color:white'>&nbsp;&nbsp;&nbsp;&nbsp;</text>&nbsp;<text style='border: solid 1px;background-color:white'>&nbsp;&nbsp;&nbsp;&nbsp;</text><br>"
      ],
      "text/plain": [
       "<IPython.core.display.HTML object>"
      ]
     },
     "metadata": {},
     "output_type": "display_data"
    },
    {
     "name": "stdout",
     "output_type": "stream",
     "text": [
      "13\n",
      "('blue', 'blue', 'blue', 'green')\n"
     ]
    },
    {
     "data": {
      "text/html": [
       "trc 4:&nbsp;&nbsp;&nbsp;↑<text style='border: solid 1px;background-color:#afafff'>&nbsp;&nbsp;&nbsp;&nbsp;</text>↑<text style='border: solid 1px;background-color:#afafff'>&nbsp;&nbsp;&nbsp;&nbsp;</text>↑<text style='border: solid 1px;background-color:#afafff'>&nbsp;&nbsp;&nbsp;&nbsp;</text>→<text style='border: solid 1px;background-color:#8ff45d'>&nbsp;&nbsp;&nbsp;&nbsp;</text>\n"
      ],
      "text/plain": [
       "<IPython.core.display.HTML object>"
      ]
     },
     "metadata": {},
     "output_type": "display_data"
    }
   ],
   "source": [
    "from IPython.display import HTML as html_print\n",
    "\n",
    "\n",
    "def tile(color='black'):\n",
    "    color = COLOR_ALIAS.get(color, color)\n",
    "    s = '&nbsp;'*4\n",
    "    return f\"<text style='border: solid 1px;background-color:{color}'>{s}</text>\"\n",
    "\n",
    "\n",
    "def ap_at_state(x, y, in_ascii=False):\n",
    "    \"\"\"Use sensor to create colored tile.\"\"\"\n",
    "    state = encode_state(x, y)\n",
    "    obs = SENSOR(state)[0]   # <----------   \n",
    "    for k in COLOR_ALIAS.keys():\n",
    "        if k == 'brown':\n",
    "            continue\n",
    "        if obs[k][0]:\n",
    "            return tile(k)\n",
    "    raise NotImplementedError\n",
    "\n",
    "def print_map():\n",
    "    \"\"\"Scan the board row by row and print colored tiles.\"\"\"\n",
    "    order = range(1, 9)\n",
    "    buffer = ''\n",
    "    for y in order:\n",
    "        chars = (ap_at_state(x, y, in_ascii=True) for x in order)\n",
    "        buffer += '&nbsp;'.join(chars) + '<br>'\n",
    "    display(html_print(buffer))\n",
    "    \n",
    "DYN_SENSE = DYN >> SENSOR\n",
    "\n",
    "def encode_trace(trc):\n",
    "    actions, states = trc\n",
    "    actions = [{'a': a} for a in actions]\n",
    "    states = [encode_state(*s) for s in states]\n",
    "\n",
    "    # Fill in coin flips to mark slipping. Could use SAT solver more generally.\n",
    "    for s, a, s2 in zip([encode_state(*s0)] + states, actions, states):\n",
    "        s, s2 = GW.GridState(s['state'], 8), GW.GridState(s2['state'], 8)\n",
    "        action = a['a']\n",
    "        print(s.x, s.y)\n",
    "        print(s2.x, s2.y)\n",
    "\n",
    "        if action == GW.WEST:\n",
    "            a['c'] = 1\n",
    "        elif action == GW.EAST:\n",
    "            a['c'] = int((s2.x > s.x) or s.x == 8)\n",
    "        else:\n",
    "            a['c'] = int(s.x == s2.x)\n",
    "    actions[-1]['c'] = 1  # Last action needs some arbitrary assignment to slipping.\n",
    "    \n",
    "    return actions, states\n",
    "\n",
    "\n",
    "def lift_path(path):\n",
    "    aps = fn.pluck(0, DYN_SENSE.simulate(path))\n",
    "    aps = [fn.first(k for k, v in ap.items() if v == 1) for ap in aps]\n",
    "    print(ignore_white(aps))\n",
    "    return ignore_white(aps)\n",
    "\n",
    "\n",
    "def print_trc(trc, idx=0):\n",
    "    obs = lift_path(trc)\n",
    "    actions = [x['a'] for x in trc]\n",
    "    obs = map(tile, obs)\n",
    "    display(\n",
    "        html_print(f'trc {idx}:&nbsp;&nbsp;&nbsp;' + ''.join(''.join(x) for x in zip(actions, obs)) + '\\n')\n",
    "    )\n",
    "        \n",
    "print_map()\n",
    "\n",
    "TRC4 = [\n",
    "    {'a': '↑', 'c': 0},\n",
    "    {'a': '↑', 'c': 1},\n",
    "    {'a': '↑', 'c': 1},\n",
    "    {'a': '→', 'c': 1},\n",
    "    {'a': '↑', 'c': 1},\n",
    "    {'a': '↑', 'c': 1},\n",
    "    {'a': '→', 'c': 1},\n",
    "    {'a': '→', 'c': 1},\n",
    "    {'a': '→', 'c': 1},\n",
    "    {'a': '←', 'c': 1},\n",
    "    {'a': '←', 'c': 1},\n",
    "    {'a': '←', 'c': 1},\n",
    "    {'a': '←', 'c': 1},\n",
    "    #{'a': '←', 'c': 1},\n",
    "\n",
    "]\n",
    "\n",
    "print(len(TRC4))\n",
    "\n",
    "print_trc(TRC4, 4)"
   ]
  },
  {
   "cell_type": "markdown",
   "metadata": {},
   "source": [
    "# 4. Define Specification Circuits / Concept Class\n",
    "\n"
   ]
  },
  {
   "cell_type": "code",
   "execution_count": 20,
   "metadata": {},
   "outputs": [],
   "source": [
    "import aiger_dfa"
   ]
  },
  {
   "cell_type": "code",
   "execution_count": 21,
   "metadata": {},
   "outputs": [],
   "source": [
    "from dfa import DFA, dfa2dict, dict2dfa\n",
    "from functools import reduce\n",
    "\n",
    "def concept2monitor(concept):\n",
    "    # Add noop on white:\n",
    "    def transition_with_noop(s, c):\n",
    "        if c == 'white':\n",
    "            return s\n",
    "        return concept.dfa._transition(s, c)\n",
    "    \n",
    "    dfa = DFA(\n",
    "        start=concept.dfa.start,\n",
    "        outputs=concept.dfa.outputs,\n",
    "        inputs=COLOR_ALIAS,\n",
    "        label=concept.dfa._label,\n",
    "        transition=transition_with_noop,\n",
    "    )\n",
    "    dfa = attr.evolve(concept.dfa, transition=transition_with_noop, inputs=frozenset(COLOR_ALIAS))\n",
    "    circ, relabels, _ = aiger_dfa.dfa2aig(dfa)\n",
    "    # Wrap circ i/o to interface with sensor.\n",
    "    atoms = [BV.uatom(1, c) for c in COLOR_ALIAS]\n",
    "\n",
    "    # Convert input.\n",
    "    def get_idx(atom):\n",
    "        c = fn.first(atom.inputs)\n",
    "        return relabels['inputs'][c]['action'].index(True)\n",
    "\n",
    "    atoms = sorted(atoms, key=get_idx)\n",
    "    action = reduce(lambda x, y: x.concat(y), atoms).with_output('action')\n",
    "    \n",
    "    # Convert output.\n",
    "    output = BV.uatom(2, 'output')\n",
    "    for key, val in relabels['outputs'].items():\n",
    "        if val is True:\n",
    "            sat = output[key['output'].index(True)].with_output('SAT')\n",
    "    \n",
    "    monitor = action.aigbv >> circ >> sat.aigbv\n",
    "    monitor = attr.evolve(monitor, aig=monitor.aig.lazy_aig)  # HACK: force lazy evaluation.\n",
    "    return DYN >> SENSOR >> monitor, relabels"
   ]
  },
  {
   "cell_type": "markdown",
   "metadata": {},
   "source": [
    "# Creating BDD game-graph"
   ]
  },
  {
   "cell_type": "code",
   "execution_count": 22,
   "metadata": {},
   "outputs": [],
   "source": [
    "H = 15  # SAT output only depends on latch....\n",
    "causal_order = []\n",
    "for t in range(H):\n",
    "    causal_order.append(f'a##time_{t}[0]')\n",
    "    causal_order.append(f'a##time_{t}[1]')\n",
    "    causal_order.append(f'c##time_{t}[0]')\n",
    "causal_order = {x: i for i, x in enumerate(causal_order)}"
   ]
  },
  {
   "cell_type": "code",
   "execution_count": 23,
   "metadata": {},
   "outputs": [],
   "source": [
    "from dd.cudd import BDD"
   ]
  },
  {
   "cell_type": "code",
   "execution_count": 24,
   "metadata": {},
   "outputs": [],
   "source": [
    "manager = BDD()\n",
    "manager.declare(*causal_order)"
   ]
  },
  {
   "cell_type": "code",
   "execution_count": 25,
   "metadata": {},
   "outputs": [],
   "source": [
    "import networkx as nx"
   ]
  },
  {
   "cell_type": "code",
   "execution_count": 26,
   "metadata": {},
   "outputs": [],
   "source": [
    "def to_nx(bexpr):\n",
    "    # DFS to translate edge-compelemented BDD to networkx graph.\n",
    "    dag = nx.DiGraph()\n",
    "\n",
    "    stack, visited = [(bexpr, False, int(bexpr))], set()\n",
    "    while stack:\n",
    "        bexpr, parity, ref = stack.pop()\n",
    "\n",
    "        if ref in visited:\n",
    "            continue\n",
    "\n",
    "        visited.add(ref)\n",
    "        if bexpr in (bexpr.bdd.true, bexpr.bdd.false):\n",
    "            label = (bexpr == bexpr.bdd.true) ^ parity\n",
    "            dag.add_node(ref, label=label, level=len(bexpr.bdd.vars))\n",
    "            continue\n",
    "\n",
    "        dag.add_node(ref, label=bexpr.var, level=bexpr.level)\n",
    "\n",
    "        parity = bexpr.negated ^ parity\n",
    "        for lbl, bexpr2 in [(0, bexpr.low), (1, bexpr.high)]:\n",
    "            ref2 = int(bexpr2 if parity else ~bexpr2)\n",
    "            dag.add_edge(ref, ref2, label=lbl)\n",
    "            stack.append((bexpr2, parity, ref2))\n",
    "            \n",
    "    #TODO: Everything above this line should be upstreamed into aiger-bdd.\n",
    "            \n",
    "    for src, data in dag.nodes(data=True):\n",
    "        label = data['label']\n",
    "        if isinstance(label, bool):\n",
    "            data['kind'] = label\n",
    "        elif label.startswith('a'):\n",
    "            data['kind'] = 'ego'\n",
    "        else:\n",
    "            data['kind'] = 'env'\n",
    "\n",
    "    for src, tgt, data in dag.edges(data=True):\n",
    "        entropy = dag.nodes[tgt]['level'] - dag.nodes[src]['level'] - 1\n",
    "        entropy /= np.log2(np.e)  # Convert from base 2.\n",
    "        data['entropy'] = entropy\n",
    "    \n",
    "        if dag.nodes[src]['kind'] == 'env':\n",
    "            data['prob'] = 31/32 if data['label'] else 1/32\n",
    "    return dag"
   ]
  },
  {
   "cell_type": "markdown",
   "metadata": {},
   "source": [
    "# Create Tabular Policy from BDD\n",
    "\n",
    "1. Create policy on BDD Game graph.\n",
    "2. Lift bit level policy into policy over ego and env actions (at bitvectors)"
   ]
  },
  {
   "cell_type": "code",
   "execution_count": 27,
   "metadata": {},
   "outputs": [],
   "source": [
    "from diss import DemoPrefixTree as PrefixTree"
   ]
  },
  {
   "cell_type": "code",
   "execution_count": 28,
   "metadata": {},
   "outputs": [],
   "source": [
    "from diss.planners.tabular import TabularPolicy"
   ]
  },
  {
   "cell_type": "code",
   "execution_count": 29,
   "metadata": {},
   "outputs": [],
   "source": [
    "import dd.cudd"
   ]
  },
  {
   "cell_type": "code",
   "execution_count": 30,
   "metadata": {},
   "outputs": [],
   "source": [
    "def to_demo(trc):\n",
    "    demo = [(None, 'ego')]\n",
    "    for circ_input in trc:\n",
    "        demo.extend([\n",
    "            (circ_input['a'], 'env'),\n",
    "            (circ_input['c'], 'ego'),\n",
    "        ])\n",
    "    return demo"
   ]
  },
  {
   "cell_type": "code",
   "execution_count": 31,
   "metadata": {},
   "outputs": [],
   "source": [
    "tree = PrefixTree.from_demos([to_demo(TRC4)])"
   ]
  },
  {
   "cell_type": "code",
   "execution_count": 32,
   "metadata": {},
   "outputs": [],
   "source": [
    "#               bdd-id    lvl   prev action  \n",
    "# Node = tuple[  int  ,   int,  int | str]   # Lifted policy state.\n",
    "\n",
    "def get_lvl(dag, node):\n",
    "    label = dag.nodes[node]['label']\n",
    "    if isinstance(label, bool):\n",
    "        return len(causal_order)\n",
    "    return causal_order[label]\n",
    "\n",
    "def get_debt(dag, node1, node2):\n",
    "    lvl1 = get_lvl(dag, node1)\n",
    "    lvl2 = get_lvl(dag, node2)\n",
    "    return lvl2 - lvl1 - 1\n",
    "\n",
    "def walk(dag, curr, bits):\n",
    "    for bit in bits:\n",
    "        yield curr\n",
    "        node, debt = curr\n",
    "        if debt > 0:  # Don't care consumes bits.\n",
    "            curr = (node, debt - 1)\n",
    "            continue\n",
    "        # Use bit for BDD transition.\n",
    "        if dag.out_degree(node) == 0:\n",
    "            import pdb; pdb.set_trace()\n",
    "        for kid in dag.neighbors(node):\n",
    "            if bit == dag.edges[node, kid]['label']:\n",
    "                break\n",
    "        curr = (kid, get_debt(dag, node, kid))\n",
    "    yield curr\n",
    "\n",
    "\n",
    "@attr.frozen\n",
    "class LiftedPolicy:\n",
    "    policy: TabularPolicy\n",
    "\n",
    "    def psat(self, node = None): return self.policy.psat(node[0])\n",
    "    def lsat(self, node = None): return self.policy.lsat(node[0])\n",
    "        \n",
    "    @property\n",
    "    def root(self):\n",
    "        return (self.policy.root, 0, None)\n",
    "\n",
    "    @staticmethod\n",
    "    def from_psat(unrolled, psat, xtol=0.5):\n",
    "        return LiftedPolicy(TabularPolicy.from_psat(unrolled, psat, xtol=xtol))\n",
    "\n",
    "    def prob(self, node, move, log = False):\n",
    "        dag = self.policy.dag\n",
    "        node1, debt1, _ = node \n",
    "        node2, debt2, action = move\n",
    "        assert (node1 != node2) or (debt1 > debt2 >= 0)\n",
    "\n",
    "        if isinstance(action, int):\n",
    "            prob = 31 / 32 if action else 1/32\n",
    "            return np.log(prob) if log else prob\n",
    "\n",
    "        action = GW.dynamics.ACTIONS_C[action]\n",
    "        bits = [action & 1, (action >> 1) & 1]\n",
    "        curr = (node1, debt1)\n",
    "        edges = fn.pairwise(walk(dag, (node1, debt1), bits))\n",
    "        \n",
    "        logp = 0\n",
    "        for start, end in edges:\n",
    "            if start[0] == end[0]:  # Don't care consumes bits.\n",
    "                logp -= np.log(2)\n",
    "            else:\n",
    "                logp += self.policy.prob(start[0], end[0], log=True)\n",
    "\n",
    "        assert end == (node2, debt2)\n",
    "        return logp if log else np.exp(logp)\n",
    "\n",
    "    def transition(self, pstate, action):\n",
    "        dag = self.policy.dag\n",
    "        if isinstance(action, str):  # action correspond to previous action.\n",
    "            bits = GW.dynamics.ACTIONS_C[action]\n",
    "            bits = [bits & 1, (bits >> 1) & 1]\n",
    "        else:\n",
    "            bits = [action]\n",
    "        node, debt = fn.last(walk(dag, pstate[:2], bits))  # QDD state.\n",
    "        return (node, debt, action)\n",
    "\n",
    "    def end_of_episode(self, pstate):\n",
    "        node, debt, _ = pstate\n",
    "        dag = self.policy.dag\n",
    "        return (debt == 0) and (dag.out_degree(node) == 0)"
   ]
  },
  {
   "cell_type": "code",
   "execution_count": 33,
   "metadata": {},
   "outputs": [],
   "source": [
    "def dont_count(aps):\n",
    "    for curr, prev in fn.with_prev(aps):\n",
    "        if curr == prev:\n",
    "            continue\n",
    "        yield curr"
   ]
  },
  {
   "cell_type": "code",
   "execution_count": 34,
   "metadata": {},
   "outputs": [],
   "source": [
    "def lift_path(path):\n",
    "    assert path[0] is None\n",
    "    path = path[1:]\n",
    "    path = [{'a': a, 'c': c} for a, c in fn.chunks(2, path)]\n",
    "    aps = fn.pluck(0, DYN_SENSE.simulate(path))\n",
    "    aps = [fn.first(k for k, v in ap.items() if v == 1) for ap in aps]\n",
    "    return ignore_white(list(dont_count(aps)))"
   ]
  },
  {
   "cell_type": "code",
   "execution_count": 35,
   "metadata": {
    "tags": []
   },
   "outputs": [],
   "source": [
    "import random\n",
    "\n",
    "@attr.frozen\n",
    "class CompressedMC:\n",
    "    \"\"\"Compressed Markov Chain operating with actions.\"\"\"\n",
    "    tree: PrefixTree\n",
    "    policy: LiftedPolicy\n",
    "    tree2policy: dict[int, tuple[int, int]]\n",
    "\n",
    "    @property\n",
    "    def edge_probs(self):\n",
    "        edge_probs = {}\n",
    "        for tree_edge in self.tree.tree.edges:\n",
    "            dag_edge = [self.tree2policy[s] for s in tree_edge]\n",
    "            edge_probs[tree_edge] = self.policy.prob(*dag_edge)\n",
    "        return edge_probs\n",
    "    \n",
    "    def sample(self, pivot, win, attempts=20):\n",
    "        # Sample until you give a path that respects subset properties.\n",
    "        for i in range(attempts):\n",
    "            result = self._sample(pivot, win)\n",
    "            if win or (result is None):\n",
    "                return result\n",
    "            \n",
    "            word = lift_path(result[0])\n",
    "            if 'yellow' in word:\n",
    "                return result\n",
    "\n",
    "    def _sample(self, pivot, win):\n",
    "        policy = self.policy\n",
    "        state = self.tree2policy[pivot]\n",
    "\n",
    "        if policy.psat(state) == float(not win):\n",
    "            return None  # Impossible to realize is_sat label.\n",
    "\n",
    "        sample_prob: float = 1\n",
    "        path = list(self.tree.prefix(pivot))\n",
    "        if policy.end_of_episode(state):\n",
    "             moves = []\n",
    "        else:\n",
    "            prev_ego = isinstance(state[-1], str)\n",
    "\n",
    "            # Make sure to deviate from prefix tree at pivot.\n",
    "            actions = {0, 1} if prev_ego else set(GW.dynamics.ACTIONS_C)\n",
    "            actions -= {self.tree2policy[s][-1] for s in self.tree.tree.neighbors(pivot)}\n",
    "\n",
    "            tmp = {policy.transition(state, a) for a in actions}\n",
    "\n",
    "            moves = list(m for m in tmp if policy.psat(m) != float(not win))\n",
    "\n",
    "        if not moves:\n",
    "            return None  # Couldn't deviate\n",
    "        \n",
    "        # Sample suffix to path conditioned on win.\n",
    "        while moves:\n",
    "            # Apply bayes rule to get Pr(s' | is_sat, s).\n",
    "            priors = np.array([policy.prob(state, m) for m in moves])\n",
    "            likelihoods = np.array([policy.psat(m) for m in moves])\n",
    "            normalizer = policy.psat(state)\n",
    "\n",
    "            if not win:\n",
    "                likelihoods = 1 - likelihoods\n",
    "                normalizer = 1 - normalizer\n",
    "\n",
    "            probs =  priors * likelihoods / normalizer\n",
    "            prob, state = random.choices(list(zip(probs, moves)), probs)[0]\n",
    "            sample_prob *= prob\n",
    "\n",
    "            # Note: win/lose are strings so the below still works...\n",
    "            action = state[-1]\n",
    "            path.append(action)\n",
    "\n",
    "            if policy.end_of_episode(state):\n",
    "                moves = []\n",
    "            else:\n",
    "                prev_ego = isinstance(action, str)\n",
    "                actions = {0, 1} if prev_ego else set(GW.dynamics.ACTIONS_C)\n",
    "                moves = [policy.transition(state, a) for a in actions]\n",
    "\n",
    "        return path, sample_prob\n",
    " \n",
    "    @staticmethod\n",
    "    def construct(concept, tree, psat):\n",
    "        # 1. Compile concept: DFA -> AIG -> BDD -> Annotated DAG.\n",
    "        monitor, _ = concept2monitor(concept)\n",
    "        unrolled = monitor.aigbv.cone('SAT').unroll(H, only_last_outputs=True)\n",
    "        manager = BDD()\n",
    "        manager.declare(*causal_order)\n",
    "        bexpr, *_ = to_bdd(unrolled, manager=manager, renamer=lambda _, x: x, levels=causal_order)\n",
    "        dag = to_nx(bexpr)\n",
    "        \n",
    "        # 2. Fit (lifted) MaxEntPolicy.\n",
    "        policy = LiftedPolicy.from_psat(dag, psat=psat)\n",
    "        \n",
    "        # 3. Need to associcate each tree stree with a policy state.\n",
    "        stack = [(tree.root, policy.root)]\n",
    "        tree2policy = {}\n",
    "        while stack:\n",
    "            tstate, pstate = stack.pop()\n",
    "            tree2policy[tstate] = pstate\n",
    "\n",
    "            # Compute local mapping from dynamics transition to next pstate.\n",
    "            #move = {s[0]: s for s in policy.dag.neighbors(pstate)}\n",
    "            for tstate2 in tree.tree.neighbors(tstate):\n",
    "                action = tree.state(tstate2)  # tree states are next actions.\n",
    "                pstate2 = policy.transition(pstate, action)\n",
    "                stack.append((tstate2, pstate2))\n",
    "        return CompressedMC(tree, policy, tree2policy)"
   ]
  },
  {
   "cell_type": "markdown",
   "metadata": {},
   "source": [
    "# DISS + BDD"
   ]
  },
  {
   "cell_type": "code",
   "execution_count": 36,
   "metadata": {},
   "outputs": [
    {
     "data": {
      "image/svg+xml": [
       "<svg xmlns=\"http://www.w3.org/2000/svg\" xmlns:xlink=\"http://www.w3.org/1999/xlink\" width=\"261pt\" height=\"85pt\" viewBox=\"0.00 0.00 260.60 85.00\">\n",
       "<g id=\"graph0\" class=\"graph\" transform=\"scale(1 1) rotate(0) translate(4 81)\">\n",
       "<title>G</title>\n",
       "<polygon fill=\"#002b36\" stroke=\"transparent\" points=\"-4,4 -4,-81 256.6,-81 256.6,4 -4,4\"/>\n",
       "<!-- 1 -->\n",
       "<g id=\"node1\" class=\"node\">\n",
       "<title>1</title>\n",
       "<ellipse fill=\"none\" stroke=\"white\" cx=\"58.6\" cy=\"-51\" rx=\"18\" ry=\"18\"/>\n",
       "<text text-anchor=\"middle\" x=\"58.6\" y=\"-47.3\" font-family=\"Times,serif\" font-size=\"14.00\" fill=\"white\">0</text>\n",
       "</g>\n",
       "<!-- 2 -->\n",
       "<g id=\"node2\" class=\"node\">\n",
       "<title>2</title>\n",
       "<ellipse fill=\"none\" stroke=\"white\" cx=\"234.6\" cy=\"-51\" rx=\"18\" ry=\"18\"/>\n",
       "<text text-anchor=\"middle\" x=\"234.6\" y=\"-47.3\" font-family=\"Times,serif\" font-size=\"14.00\" fill=\"white\">1</text>\n",
       "</g>\n",
       "<!-- 1&#45;&gt;2 -->\n",
       "<g id=\"edge2\" class=\"edge\">\n",
       "<title>1-&gt;2</title>\n",
       "<path fill=\"none\" stroke=\"white\" d=\"M76.2,-55.6C81.98,-56.98 88.53,-58.32 94.6,-59 140.53,-64.18 152.67,-64.18 198.6,-59 201.35,-58.69 204.2,-58.25 207.03,-57.73\"/>\n",
       "<polygon fill=\"white\" stroke=\"white\" points=\"207.95,-61.11 217,-55.6 206.49,-54.26 207.95,-61.11\"/>\n",
       "<text text-anchor=\"middle\" x=\"146.6\" y=\"-65.8\" font-family=\"Times,serif\" font-size=\"14.00\" fill=\"#ff8b8b\">◼</text>\n",
       "</g>\n",
       "<!-- 3 -->\n",
       "<g id=\"node3\" class=\"node\">\n",
       "<title>3</title>\n",
       "<ellipse fill=\"none\" stroke=\"white\" cx=\"146.6\" cy=\"-22\" rx=\"18\" ry=\"18\"/>\n",
       "<ellipse fill=\"none\" stroke=\"white\" cx=\"146.6\" cy=\"-22\" rx=\"22\" ry=\"22\"/>\n",
       "<text text-anchor=\"middle\" x=\"146.6\" y=\"-18.3\" font-family=\"Times,serif\" font-size=\"14.00\" fill=\"white\">2</text>\n",
       "</g>\n",
       "<!-- 1&#45;&gt;3 -->\n",
       "<g id=\"edge3\" class=\"edge\">\n",
       "<title>1-&gt;3</title>\n",
       "<path fill=\"none\" stroke=\"white\" d=\"M75.78,-45.55C87.02,-41.75 102.34,-36.59 115.76,-32.06\"/>\n",
       "<polygon fill=\"white\" stroke=\"white\" points=\"117.2,-35.27 125.56,-28.76 114.97,-28.64 117.2,-35.27\"/>\n",
       "<text text-anchor=\"middle\" x=\"100.6\" y=\"-43.8\" font-family=\"Times,serif\" font-size=\"14.00\" fill=\"#ffff00\">◼</text>\n",
       "</g>\n",
       "<!-- 3&#45;&gt;2 -->\n",
       "<g id=\"edge4\" class=\"edge\">\n",
       "<title>3-&gt;2</title>\n",
       "<path fill=\"none\" stroke=\"white\" d=\"M167.98,-28.87C179.9,-32.89 195.05,-38 207.79,-42.3\"/>\n",
       "<polygon fill=\"white\" stroke=\"white\" points=\"206.79,-45.65 217.39,-45.53 209.03,-39.02 206.79,-45.65\"/>\n",
       "<text text-anchor=\"middle\" x=\"192.6\" y=\"-43.8\" font-family=\"Times,serif\" font-size=\"14.00\" fill=\"#ff8b8b\">◼</text>\n",
       "</g>\n",
       "<!-- 0 -->\n",
       "<g id=\"node4\" class=\"node\">\n",
       "<title>0</title>\n",
       "<ellipse fill=\"white\" stroke=\"white\" cx=\"1.8\" cy=\"-51\" rx=\"1.8\" ry=\"1.8\"/>\n",
       "</g>\n",
       "<!-- 0&#45;&gt;1 -->\n",
       "<g id=\"edge1\" class=\"edge\">\n",
       "<title>0-&gt;1</title>\n",
       "<path fill=\"none\" stroke=\"white\" d=\"M3.75,-51C7.11,-51 18.87,-51 30.55,-51\"/>\n",
       "<polygon fill=\"white\" stroke=\"white\" points=\"30.58,-54.5 40.58,-51 30.58,-47.5 30.58,-54.5\"/>\n",
       "</g>\n",
       "</g>\n",
       "</svg>"
      ],
      "text/plain": [
       "<IPython.core.display.SVG object>"
      ]
     },
     "metadata": {},
     "output_type": "display_data"
    }
   ],
   "source": [
    "@fn.memoize(key_func=lambda c, t, psat: c.dfa)\n",
    "def to_chain(c, t, psat):\n",
    "    return CompressedMC.construct(concept=c, tree=t, psat=psat)\n",
    "\n",
    "identifer = PartialDFAIdentifier(\n",
    "    partial = PARTIAL_DFA,\n",
    "    base_examples = BASE_EXAMPLES,\n",
    ")\n",
    "view_dfa(identifer(LabeledExamples()))"
   ]
  },
  {
   "cell_type": "code",
   "execution_count": null,
   "metadata": {
    "scrolled": true
   },
   "outputs": [
    {
     "data": {
      "application/vnd.jupyter.widget-view+json": {
       "model_id": "8a8fc45b87ce4f139604ca58fa4def29",
       "version_major": 2,
       "version_minor": 0
      },
      "text/plain": [
       "DISS:   0%|          | 0/15 [00:00<?, ?it/s]"
      ]
     },
     "metadata": {},
     "output_type": "display_data"
    },
    {
     "name": "stdout",
     "output_type": "stream",
     "text": [
      "{9: 2, 17: 1, 33: 1, 65: 4, 129: 2, 10: 2, 18: 2, 34: 2, 66: 2, 130: 2, 12: 2, 20: 4, 36: 4, 68: 4, 132: 4}\n"
     ]
    },
    {
     "data": {
      "image/svg+xml": [
       "<svg xmlns=\"http://www.w3.org/2000/svg\" xmlns:xlink=\"http://www.w3.org/1999/xlink\" width=\"261pt\" height=\"123pt\" viewBox=\"0.00 0.00 260.60 123.00\">\n",
       "<g id=\"graph0\" class=\"graph\" transform=\"scale(1 1) rotate(0) translate(4 119)\">\n",
       "<title>G</title>\n",
       "<polygon fill=\"#002b36\" stroke=\"transparent\" points=\"-4,4 -4,-119 256.6,-119 256.6,4 -4,4\"/>\n",
       "<!-- 1 -->\n",
       "<g id=\"node1\" class=\"node\">\n",
       "<title>1</title>\n",
       "<ellipse fill=\"none\" stroke=\"white\" cx=\"58.6\" cy=\"-80\" rx=\"18\" ry=\"18\"/>\n",
       "<text text-anchor=\"middle\" x=\"58.6\" y=\"-76.3\" font-family=\"Times,serif\" font-size=\"14.00\" fill=\"white\">0</text>\n",
       "</g>\n",
       "<!-- 2 -->\n",
       "<g id=\"node2\" class=\"node\">\n",
       "<title>2</title>\n",
       "<ellipse fill=\"none\" stroke=\"white\" cx=\"234.6\" cy=\"-80\" rx=\"18\" ry=\"18\"/>\n",
       "<text text-anchor=\"middle\" x=\"234.6\" y=\"-76.3\" font-family=\"Times,serif\" font-size=\"14.00\" fill=\"white\">1</text>\n",
       "</g>\n",
       "<!-- 1&#45;&gt;2 -->\n",
       "<g id=\"edge2\" class=\"edge\">\n",
       "<title>1-&gt;2</title>\n",
       "<path fill=\"none\" stroke=\"white\" d=\"M75.38,-87.15C81.31,-89.61 88.17,-92.2 94.6,-94 126.34,-102.88 135.75,-101.72 168.6,-99 182.07,-97.89 185.58,-97.64 198.6,-94 201.81,-93.1 205.14,-92 208.4,-90.82\"/>\n",
       "<polygon fill=\"white\" stroke=\"white\" points=\"209.77,-94.04 217.82,-87.15 207.23,-87.52 209.77,-94.04\"/>\n",
       "<text text-anchor=\"middle\" x=\"146.6\" y=\"-103.8\" font-family=\"Times,serif\" font-size=\"14.00\" fill=\"#ff8b8b\">◼</text>\n",
       "</g>\n",
       "<!-- 1&#45;&gt;2 -->\n",
       "<g id=\"edge3\" class=\"edge\">\n",
       "<title>1-&gt;2</title>\n",
       "<path fill=\"none\" stroke=\"white\" d=\"M76.6,-80C106.75,-80 169.81,-80 206.17,-80\"/>\n",
       "<polygon fill=\"white\" stroke=\"white\" points=\"206.53,-83.5 216.53,-80 206.53,-76.5 206.53,-83.5\"/>\n",
       "<text text-anchor=\"middle\" x=\"146.6\" y=\"-83.8\" font-family=\"Times,serif\" font-size=\"14.00\" fill=\"#afafff\">◼</text>\n",
       "</g>\n",
       "<!-- 3 -->\n",
       "<g id=\"node3\" class=\"node\">\n",
       "<title>3</title>\n",
       "<ellipse fill=\"none\" stroke=\"white\" cx=\"146.6\" cy=\"-22\" rx=\"18\" ry=\"18\"/>\n",
       "<ellipse fill=\"none\" stroke=\"white\" cx=\"146.6\" cy=\"-22\" rx=\"22\" ry=\"22\"/>\n",
       "<text text-anchor=\"middle\" x=\"146.6\" y=\"-18.3\" font-family=\"Times,serif\" font-size=\"14.00\" fill=\"white\">2</text>\n",
       "</g>\n",
       "<!-- 1&#45;&gt;3 -->\n",
       "<g id=\"edge4\" class=\"edge\">\n",
       "<title>1-&gt;3</title>\n",
       "<path fill=\"none\" stroke=\"white\" d=\"M72.47,-68.42C78.9,-62.87 86.94,-56.29 94.6,-51 101.87,-45.98 110.07,-41.03 117.73,-36.68\"/>\n",
       "<polygon fill=\"white\" stroke=\"white\" points=\"119.66,-39.62 126.71,-31.71 116.27,-33.49 119.66,-39.62\"/>\n",
       "<text text-anchor=\"middle\" x=\"100.6\" y=\"-54.8\" font-family=\"Times,serif\" font-size=\"14.00\" fill=\"#ffff00\">◼</text>\n",
       "</g>\n",
       "<!-- 3&#45;&gt;2 -->\n",
       "<g id=\"edge5\" class=\"edge\">\n",
       "<title>3-&gt;2</title>\n",
       "<path fill=\"none\" stroke=\"white\" d=\"M166.49,-31.71C176.31,-37.02 188.38,-43.94 198.6,-51 203.39,-54.31 208.32,-58.12 212.92,-61.86\"/>\n",
       "<polygon fill=\"white\" stroke=\"white\" points=\"210.82,-64.67 220.73,-68.42 215.32,-59.31 210.82,-64.67\"/>\n",
       "<text text-anchor=\"middle\" x=\"192.6\" y=\"-54.8\" font-family=\"Times,serif\" font-size=\"14.00\" fill=\"#ff8b8b\">◼</text>\n",
       "</g>\n",
       "<!-- 0 -->\n",
       "<g id=\"node4\" class=\"node\">\n",
       "<title>0</title>\n",
       "<ellipse fill=\"white\" stroke=\"white\" cx=\"1.8\" cy=\"-80\" rx=\"1.8\" ry=\"1.8\"/>\n",
       "</g>\n",
       "<!-- 0&#45;&gt;1 -->\n",
       "<g id=\"edge1\" class=\"edge\">\n",
       "<title>0-&gt;1</title>\n",
       "<path fill=\"none\" stroke=\"white\" d=\"M3.75,-80C7.11,-80 18.87,-80 30.55,-80\"/>\n",
       "<polygon fill=\"white\" stroke=\"white\" points=\"30.58,-83.5 40.58,-80 30.58,-76.5 30.58,-83.5\"/>\n",
       "</g>\n",
       "</g>\n",
       "</svg>"
      ],
      "text/plain": [
       "<IPython.core.display.SVG object>"
      ]
     },
     "metadata": {},
     "output_type": "display_data"
    },
    {
     "name": "stdout",
     "output_type": "stream",
     "text": [
      "('green', 'blue', 'yellow') 0.0\n",
      "('blue', 'green', 'yellow') 0.0\n",
      "('green', 'yellow') 1.0\n",
      "('blue', 'yellow') 0.0\n",
      "{9: 2, 17: 1, 33: 1, 65: 4, 129: 1, 10: 2, 18: 2, 34: 2, 66: 2, 130: 2, 12: 2, 20: 4, 36: 4, 68: 4, 132: 2}\n"
     ]
    },
    {
     "data": {
      "image/svg+xml": [
       "<svg xmlns=\"http://www.w3.org/2000/svg\" xmlns:xlink=\"http://www.w3.org/1999/xlink\" width=\"261pt\" height=\"88pt\" viewBox=\"0.00 0.00 260.60 88.00\">\n",
       "<g id=\"graph0\" class=\"graph\" transform=\"scale(1 1) rotate(0) translate(4 84)\">\n",
       "<title>G</title>\n",
       "<polygon fill=\"#002b36\" stroke=\"transparent\" points=\"-4,4 -4,-84 256.6,-84 256.6,4 -4,4\"/>\n",
       "<!-- 1 -->\n",
       "<g id=\"node1\" class=\"node\">\n",
       "<title>1</title>\n",
       "<ellipse fill=\"none\" stroke=\"white\" cx=\"58.6\" cy=\"-51\" rx=\"18\" ry=\"18\"/>\n",
       "<text text-anchor=\"middle\" x=\"58.6\" y=\"-47.3\" font-family=\"Times,serif\" font-size=\"14.00\" fill=\"white\">0</text>\n",
       "</g>\n",
       "<!-- 2 -->\n",
       "<g id=\"node2\" class=\"node\">\n",
       "<title>2</title>\n",
       "<ellipse fill=\"none\" stroke=\"white\" cx=\"234.6\" cy=\"-50\" rx=\"18\" ry=\"18\"/>\n",
       "<text text-anchor=\"middle\" x=\"234.6\" y=\"-46.3\" font-family=\"Times,serif\" font-size=\"14.00\" fill=\"white\">1</text>\n",
       "</g>\n",
       "<!-- 1&#45;&gt;2 -->\n",
       "<g id=\"edge2\" class=\"edge\">\n",
       "<title>1-&gt;2</title>\n",
       "<path fill=\"none\" stroke=\"white\" d=\"M76.2,-55.6C81.98,-56.98 88.53,-58.32 94.6,-59 115.96,-61.41 54.19,-75.09 198.6,-58 201.35,-57.67 204.2,-57.22 207.03,-56.69\"/>\n",
       "<polygon fill=\"white\" stroke=\"white\" points=\"207.95,-60.08 216.99,-54.56 206.48,-53.23 207.95,-60.08\"/>\n",
       "<text text-anchor=\"middle\" x=\"146.6\" y=\"-68.8\" font-family=\"Times,serif\" font-size=\"14.00\" fill=\"#ff8b8b\">◼</text>\n",
       "</g>\n",
       "<!-- 3 -->\n",
       "<g id=\"node3\" class=\"node\">\n",
       "<title>3</title>\n",
       "<ellipse fill=\"none\" stroke=\"white\" cx=\"146.6\" cy=\"-22\" rx=\"18\" ry=\"18\"/>\n",
       "<ellipse fill=\"none\" stroke=\"white\" cx=\"146.6\" cy=\"-22\" rx=\"22\" ry=\"22\"/>\n",
       "<text text-anchor=\"middle\" x=\"146.6\" y=\"-18.3\" font-family=\"Times,serif\" font-size=\"14.00\" fill=\"white\">2</text>\n",
       "</g>\n",
       "<!-- 1&#45;&gt;3 -->\n",
       "<g id=\"edge3\" class=\"edge\">\n",
       "<title>1-&gt;3</title>\n",
       "<path fill=\"none\" stroke=\"white\" d=\"M75.78,-45.55C87.02,-41.75 102.34,-36.59 115.76,-32.06\"/>\n",
       "<polygon fill=\"white\" stroke=\"white\" points=\"117.2,-35.27 125.56,-28.76 114.97,-28.64 117.2,-35.27\"/>\n",
       "<text text-anchor=\"middle\" x=\"100.6\" y=\"-43.8\" font-family=\"Times,serif\" font-size=\"14.00\" fill=\"#ffff00\">◼</text>\n",
       "</g>\n",
       "<!-- 3&#45;&gt;2 -->\n",
       "<g id=\"edge4\" class=\"edge\">\n",
       "<title>3-&gt;2</title>\n",
       "<path fill=\"none\" stroke=\"white\" d=\"M167.98,-28.64C179.9,-32.51 195.05,-37.45 207.79,-41.6\"/>\n",
       "<polygon fill=\"white\" stroke=\"white\" points=\"206.79,-44.95 217.39,-44.72 208.96,-38.3 206.79,-44.95\"/>\n",
       "<text text-anchor=\"middle\" x=\"192.6\" y=\"-42.8\" font-family=\"Times,serif\" font-size=\"14.00\" fill=\"#ff8b8b\">◼</text>\n",
       "</g>\n",
       "<!-- 3&#45;&gt;2 -->\n",
       "<g id=\"edge5\" class=\"edge\">\n",
       "<title>3-&gt;2</title>\n",
       "<path fill=\"none\" stroke=\"white\" d=\"M168.07,-15.73C177.64,-13.86 189.01,-13.19 198.6,-17 204.92,-19.51 210.75,-23.76 215.78,-28.38\"/>\n",
       "<polygon fill=\"white\" stroke=\"white\" points=\"213.48,-31.04 222.96,-35.78 218.5,-26.16 213.48,-31.04\"/>\n",
       "<text text-anchor=\"middle\" x=\"192.6\" y=\"-20.8\" font-family=\"Times,serif\" font-size=\"14.00\" fill=\"#afafff\">◼</text>\n",
       "</g>\n",
       "<!-- 0 -->\n",
       "<g id=\"node4\" class=\"node\">\n",
       "<title>0</title>\n",
       "<ellipse fill=\"white\" stroke=\"white\" cx=\"1.8\" cy=\"-51\" rx=\"1.8\" ry=\"1.8\"/>\n",
       "</g>\n",
       "<!-- 0&#45;&gt;1 -->\n",
       "<g id=\"edge1\" class=\"edge\">\n",
       "<title>0-&gt;1</title>\n",
       "<path fill=\"none\" stroke=\"white\" d=\"M3.75,-51C7.11,-51 18.87,-51 30.55,-51\"/>\n",
       "<polygon fill=\"white\" stroke=\"white\" points=\"30.58,-54.5 40.58,-51 30.58,-47.5 30.58,-54.5\"/>\n",
       "</g>\n",
       "</g>\n",
       "</svg>"
      ],
      "text/plain": [
       "<IPython.core.display.SVG object>"
      ]
     },
     "metadata": {},
     "output_type": "display_data"
    },
    {
     "name": "stdout",
     "output_type": "stream",
     "text": [
      "('green', 'blue', 'yellow') 0.588310312370164\n",
      "('blue', 'green', 'yellow') 0.588310312370164\n",
      "('green', 'yellow') 1.0\n",
      "('blue', 'yellow') 0.588310312370164\n",
      "{17: 4, 33: 1, 65: 1, 129: 8, 257: 2, 18: 4, 34: 1, 66: 2, 130: 2, 258: 2, 20: 4, 36: 4, 68: 4, 132: 4, 260: 4, 24: 4, 40: 8, 72: 8, 136: 8, 264: 8}\n"
     ]
    },
    {
     "data": {
      "image/svg+xml": [
       "<svg xmlns=\"http://www.w3.org/2000/svg\" xmlns:xlink=\"http://www.w3.org/1999/xlink\" width=\"261pt\" height=\"157pt\" viewBox=\"0.00 0.00 260.60 157.00\">\n",
       "<g id=\"graph0\" class=\"graph\" transform=\"scale(1 1) rotate(0) translate(4 153)\">\n",
       "<title>G</title>\n",
       "<polygon fill=\"#002b36\" stroke=\"transparent\" points=\"-4,4 -4,-153 256.6,-153 256.6,4 -4,4\"/>\n",
       "<!-- 1 -->\n",
       "<g id=\"node1\" class=\"node\">\n",
       "<title>1</title>\n",
       "<ellipse fill=\"none\" stroke=\"white\" cx=\"58.6\" cy=\"-96\" rx=\"18\" ry=\"18\"/>\n",
       "<text text-anchor=\"middle\" x=\"58.6\" y=\"-92.3\" font-family=\"Times,serif\" font-size=\"14.00\" fill=\"white\">0</text>\n",
       "</g>\n",
       "<!-- 2 -->\n",
       "<g id=\"node2\" class=\"node\">\n",
       "<title>2</title>\n",
       "<ellipse fill=\"none\" stroke=\"white\" cx=\"146.6\" cy=\"-131\" rx=\"18\" ry=\"18\"/>\n",
       "<text text-anchor=\"middle\" x=\"146.6\" y=\"-127.3\" font-family=\"Times,serif\" font-size=\"14.00\" fill=\"white\">1</text>\n",
       "</g>\n",
       "<!-- 1&#45;&gt;2 -->\n",
       "<g id=\"edge3\" class=\"edge\">\n",
       "<title>1-&gt;2</title>\n",
       "<path fill=\"none\" stroke=\"white\" d=\"M70.3,-110.07C76.54,-117.12 85.05,-124.99 94.6,-129 101.9,-132.07 110.32,-133.24 118.19,-133.46\"/>\n",
       "<polygon fill=\"white\" stroke=\"white\" points=\"118.48,-136.95 128.42,-133.26 118.35,-129.95 118.48,-136.95\"/>\n",
       "<text text-anchor=\"middle\" x=\"100.6\" y=\"-135.8\" font-family=\"Times,serif\" font-size=\"14.00\" fill=\"#afafff\">◼</text>\n",
       "</g>\n",
       "<!-- 3 -->\n",
       "<g id=\"node3\" class=\"node\">\n",
       "<title>3</title>\n",
       "<ellipse fill=\"none\" stroke=\"white\" cx=\"234.6\" cy=\"-80\" rx=\"18\" ry=\"18\"/>\n",
       "<text text-anchor=\"middle\" x=\"234.6\" y=\"-76.3\" font-family=\"Times,serif\" font-size=\"14.00\" fill=\"white\">2</text>\n",
       "</g>\n",
       "<!-- 1&#45;&gt;3 -->\n",
       "<g id=\"edge2\" class=\"edge\">\n",
       "<title>1-&gt;3</title>\n",
       "<path fill=\"none\" stroke=\"white\" d=\"M76.7,-94.04C89.8,-92.57 108.33,-90.55 124.6,-89 152.54,-86.34 184.55,-83.75 206.62,-82.04\"/>\n",
       "<polygon fill=\"white\" stroke=\"white\" points=\"206.89,-85.53 216.6,-81.27 206.36,-78.55 206.89,-85.53\"/>\n",
       "<text text-anchor=\"middle\" x=\"146.6\" y=\"-92.8\" font-family=\"Times,serif\" font-size=\"14.00\" fill=\"#ff8b8b\">◼</text>\n",
       "</g>\n",
       "<!-- 4 -->\n",
       "<g id=\"node4\" class=\"node\">\n",
       "<title>4</title>\n",
       "<ellipse fill=\"none\" stroke=\"white\" cx=\"146.6\" cy=\"-22\" rx=\"18\" ry=\"18\"/>\n",
       "<ellipse fill=\"none\" stroke=\"white\" cx=\"146.6\" cy=\"-22\" rx=\"22\" ry=\"22\"/>\n",
       "<text text-anchor=\"middle\" x=\"146.6\" y=\"-18.3\" font-family=\"Times,serif\" font-size=\"14.00\" fill=\"white\">3</text>\n",
       "</g>\n",
       "<!-- 1&#45;&gt;4 -->\n",
       "<g id=\"edge4\" class=\"edge\">\n",
       "<title>1-&gt;4</title>\n",
       "<path fill=\"none\" stroke=\"white\" d=\"M69.04,-80.99C75.45,-71.6 84.57,-59.68 94.6,-51 101.35,-45.16 109.46,-39.91 117.21,-35.54\"/>\n",
       "<polygon fill=\"white\" stroke=\"white\" points=\"118.86,-38.63 126.03,-30.83 115.56,-32.46 118.86,-38.63\"/>\n",
       "<text text-anchor=\"middle\" x=\"100.6\" y=\"-54.8\" font-family=\"Times,serif\" font-size=\"14.00\" fill=\"#ffff00\">◼</text>\n",
       "</g>\n",
       "<!-- 2&#45;&gt;1 -->\n",
       "<g id=\"edge6\" class=\"edge\">\n",
       "<title>2-&gt;1</title>\n",
       "<path fill=\"none\" stroke=\"white\" d=\"M130.76,-122.08C123.63,-118.04 114.84,-113.41 106.6,-110 100.2,-107.35 93.12,-104.98 86.43,-102.96\"/>\n",
       "<polygon fill=\"white\" stroke=\"white\" points=\"86.99,-99.48 76.42,-100.11 85.08,-106.22 86.99,-99.48\"/>\n",
       "<text text-anchor=\"middle\" x=\"100.6\" y=\"-113.8\" font-family=\"Times,serif\" font-size=\"14.00\" fill=\"#8ff45d\">◼</text>\n",
       "</g>\n",
       "<!-- 2&#45;&gt;3 -->\n",
       "<g id=\"edge5\" class=\"edge\">\n",
       "<title>2-&gt;3</title>\n",
       "<path fill=\"none\" stroke=\"white\" d=\"M162.58,-122.12C175.65,-114.36 194.84,-102.98 209.98,-94.01\"/>\n",
       "<polygon fill=\"white\" stroke=\"white\" points=\"211.98,-96.89 218.79,-88.78 208.41,-90.87 211.98,-96.89\"/>\n",
       "<text text-anchor=\"middle\" x=\"192.6\" y=\"-110.8\" font-family=\"Times,serif\" font-size=\"14.00\" fill=\"#ff8b8b\">◼</text>\n",
       "</g>\n",
       "<!-- 4&#45;&gt;3 -->\n",
       "<g id=\"edge7\" class=\"edge\">\n",
       "<title>4-&gt;3</title>\n",
       "<path fill=\"none\" stroke=\"white\" d=\"M166.49,-31.71C176.31,-37.02 188.38,-43.94 198.6,-51 203.39,-54.31 208.32,-58.12 212.92,-61.86\"/>\n",
       "<polygon fill=\"white\" stroke=\"white\" points=\"210.82,-64.67 220.73,-68.42 215.32,-59.31 210.82,-64.67\"/>\n",
       "<text text-anchor=\"middle\" x=\"192.6\" y=\"-54.8\" font-family=\"Times,serif\" font-size=\"14.00\" fill=\"#ff8b8b\">◼</text>\n",
       "</g>\n",
       "<!-- 0 -->\n",
       "<g id=\"node5\" class=\"node\">\n",
       "<title>0</title>\n",
       "<ellipse fill=\"white\" stroke=\"white\" cx=\"1.8\" cy=\"-96\" rx=\"1.8\" ry=\"1.8\"/>\n",
       "</g>\n",
       "<!-- 0&#45;&gt;1 -->\n",
       "<g id=\"edge1\" class=\"edge\">\n",
       "<title>0-&gt;1</title>\n",
       "<path fill=\"none\" stroke=\"white\" d=\"M3.75,-96C7.11,-96 18.87,-96 30.55,-96\"/>\n",
       "<polygon fill=\"white\" stroke=\"white\" points=\"30.58,-99.5 40.58,-96 30.58,-92.5 30.58,-99.5\"/>\n",
       "</g>\n",
       "</g>\n",
       "</svg>"
      ],
      "text/plain": [
       "<IPython.core.display.SVG object>"
      ]
     },
     "metadata": {},
     "output_type": "display_data"
    },
    {
     "name": "stdout",
     "output_type": "stream",
     "text": [
      "('green', 'blue', 'yellow') 0.14458793584425156\n",
      "('blue', 'green', 'yellow') 0.8988197879738857\n",
      "('green', 'yellow') 1.0\n",
      "('blue', 'yellow') 0.14458793584425156\n",
      "{9: 2, 17: 1, 33: 1, 65: 4, 129: 2, 10: 2, 18: 2, 34: 2, 66: 2, 130: 2, 12: 2, 20: 4, 36: 4, 68: 4, 132: 2}\n"
     ]
    },
    {
     "data": {
      "image/svg+xml": [
       "<svg xmlns=\"http://www.w3.org/2000/svg\" xmlns:xlink=\"http://www.w3.org/1999/xlink\" width=\"261pt\" height=\"123pt\" viewBox=\"0.00 0.00 260.60 123.00\">\n",
       "<g id=\"graph0\" class=\"graph\" transform=\"scale(1 1) rotate(0) translate(4 119)\">\n",
       "<title>G</title>\n",
       "<polygon fill=\"#002b36\" stroke=\"transparent\" points=\"-4,4 -4,-119 256.6,-119 256.6,4 -4,4\"/>\n",
       "<!-- 1 -->\n",
       "<g id=\"node1\" class=\"node\">\n",
       "<title>1</title>\n",
       "<ellipse fill=\"none\" stroke=\"white\" cx=\"58.6\" cy=\"-80\" rx=\"18\" ry=\"18\"/>\n",
       "<text text-anchor=\"middle\" x=\"58.6\" y=\"-76.3\" font-family=\"Times,serif\" font-size=\"14.00\" fill=\"white\">0</text>\n",
       "</g>\n",
       "<!-- 2 -->\n",
       "<g id=\"node2\" class=\"node\">\n",
       "<title>2</title>\n",
       "<ellipse fill=\"none\" stroke=\"white\" cx=\"234.6\" cy=\"-65\" rx=\"18\" ry=\"18\"/>\n",
       "<text text-anchor=\"middle\" x=\"234.6\" y=\"-61.3\" font-family=\"Times,serif\" font-size=\"14.00\" fill=\"white\">1</text>\n",
       "</g>\n",
       "<!-- 1&#45;&gt;2 -->\n",
       "<g id=\"edge2\" class=\"edge\">\n",
       "<title>1-&gt;2</title>\n",
       "<path fill=\"none\" stroke=\"white\" d=\"M75.38,-87.15C81.31,-89.61 88.17,-92.2 94.6,-94 126.34,-102.88 135.75,-101.72 168.6,-99 182.07,-97.89 186.31,-99.62 198.6,-94 203.89,-91.58 209.04,-88.15 213.69,-84.49\"/>\n",
       "<polygon fill=\"white\" stroke=\"white\" points=\"216.14,-87 221.44,-77.82 211.57,-81.69 216.14,-87\"/>\n",
       "<text text-anchor=\"middle\" x=\"146.6\" y=\"-103.8\" font-family=\"Times,serif\" font-size=\"14.00\" fill=\"#ff8b8b\">◼</text>\n",
       "</g>\n",
       "<!-- 1&#45;&gt;2 -->\n",
       "<g id=\"edge3\" class=\"edge\">\n",
       "<title>1-&gt;2</title>\n",
       "<path fill=\"none\" stroke=\"white\" d=\"M76.6,-78.53C106.75,-75.94 169.81,-70.5 206.17,-67.36\"/>\n",
       "<polygon fill=\"white\" stroke=\"white\" points=\"206.87,-70.82 216.53,-66.47 206.27,-63.84 206.87,-70.82\"/>\n",
       "<text text-anchor=\"middle\" x=\"146.6\" y=\"-78.8\" font-family=\"Times,serif\" font-size=\"14.00\" fill=\"#afafff\">◼</text>\n",
       "</g>\n",
       "<!-- 3 -->\n",
       "<g id=\"node3\" class=\"node\">\n",
       "<title>3</title>\n",
       "<ellipse fill=\"none\" stroke=\"white\" cx=\"146.6\" cy=\"-22\" rx=\"18\" ry=\"18\"/>\n",
       "<ellipse fill=\"none\" stroke=\"white\" cx=\"146.6\" cy=\"-22\" rx=\"22\" ry=\"22\"/>\n",
       "<text text-anchor=\"middle\" x=\"146.6\" y=\"-18.3\" font-family=\"Times,serif\" font-size=\"14.00\" fill=\"white\">2</text>\n",
       "</g>\n",
       "<!-- 1&#45;&gt;3 -->\n",
       "<g id=\"edge4\" class=\"edge\">\n",
       "<title>1-&gt;3</title>\n",
       "<path fill=\"none\" stroke=\"white\" d=\"M72.47,-68.42C78.9,-62.87 86.94,-56.29 94.6,-51 101.87,-45.98 110.07,-41.03 117.73,-36.68\"/>\n",
       "<polygon fill=\"white\" stroke=\"white\" points=\"119.66,-39.62 126.71,-31.71 116.27,-33.49 119.66,-39.62\"/>\n",
       "<text text-anchor=\"middle\" x=\"100.6\" y=\"-54.8\" font-family=\"Times,serif\" font-size=\"14.00\" fill=\"#ffff00\">◼</text>\n",
       "</g>\n",
       "<!-- 3&#45;&gt;2 -->\n",
       "<g id=\"edge5\" class=\"edge\">\n",
       "<title>3-&gt;2</title>\n",
       "<path fill=\"none\" stroke=\"white\" d=\"M166.69,-31.54C179.19,-37.79 195.65,-46.02 209.11,-52.76\"/>\n",
       "<polygon fill=\"white\" stroke=\"white\" points=\"207.78,-56 218.29,-57.34 210.91,-49.74 207.78,-56\"/>\n",
       "<text text-anchor=\"middle\" x=\"192.6\" y=\"-51.8\" font-family=\"Times,serif\" font-size=\"14.00\" fill=\"#ff8b8b\">◼</text>\n",
       "</g>\n",
       "<!-- 3&#45;&gt;2 -->\n",
       "<g id=\"edge6\" class=\"edge\">\n",
       "<title>3-&gt;2</title>\n",
       "<path fill=\"none\" stroke=\"white\" d=\"M168.88,-19.09C178.4,-18.71 189.51,-19.59 198.6,-24 206.53,-27.85 213.37,-34.42 218.84,-41.18\"/>\n",
       "<polygon fill=\"white\" stroke=\"white\" points=\"216.3,-43.65 225.02,-49.67 221.96,-39.53 216.3,-43.65\"/>\n",
       "<text text-anchor=\"middle\" x=\"192.6\" y=\"-27.8\" font-family=\"Times,serif\" font-size=\"14.00\" fill=\"#afafff\">◼</text>\n",
       "</g>\n",
       "<!-- 0 -->\n",
       "<g id=\"node4\" class=\"node\">\n",
       "<title>0</title>\n",
       "<ellipse fill=\"white\" stroke=\"white\" cx=\"1.8\" cy=\"-80\" rx=\"1.8\" ry=\"1.8\"/>\n",
       "</g>\n",
       "<!-- 0&#45;&gt;1 -->\n",
       "<g id=\"edge1\" class=\"edge\">\n",
       "<title>0-&gt;1</title>\n",
       "<path fill=\"none\" stroke=\"white\" d=\"M3.75,-80C7.11,-80 18.87,-80 30.55,-80\"/>\n",
       "<polygon fill=\"white\" stroke=\"white\" points=\"30.58,-83.5 40.58,-80 30.58,-76.5 30.58,-83.5\"/>\n",
       "</g>\n",
       "</g>\n",
       "</svg>"
      ],
      "text/plain": [
       "<IPython.core.display.SVG object>"
      ]
     },
     "metadata": {},
     "output_type": "display_data"
    },
    {
     "name": "stdout",
     "output_type": "stream",
     "text": [
      "('green', 'blue', 'yellow') 0.1340656838690497\n",
      "('blue', 'green', 'yellow') 0.8334090174684796\n",
      "('green', 'yellow') 1.0\n",
      "('blue', 'yellow') 0.1340656838690497\n"
     ]
    }
   ],
   "source": [
    "n_iters = 15\n",
    "\n",
    "dfa_search = diss(\n",
    "    demos=[to_demo(TRC4)],\n",
    "    to_concept=identifer,\n",
    "    to_chain=to_chain,\n",
    "    competency=lambda *_: 0.8,\n",
    "    lift_path=lambda x: lift_path(x),\n",
    "    n_iters=n_iters,\n",
    "    reset_period=3,\n",
    "    surprise_weight=1/2,  # Rescale surprise to make comparable to size.\n",
    "    sgs_greed=2,\n",
    ")\n",
    "\n",
    "df_greed2 = analyze(dfa_search, n_iters)"
   ]
  },
  {
   "cell_type": "code",
   "execution_count": null,
   "metadata": {},
   "outputs": [],
   "source": [
    "df_greed2['greed'] = 2\n",
    "df_greed2['iteration'] = df_greed2.index"
   ]
  },
  {
   "cell_type": "code",
   "execution_count": null,
   "metadata": {},
   "outputs": [],
   "source": [
    "identifer = PartialDFAIdentifier(\n",
    "    partial = PARTIAL_DFA,\n",
    "    base_examples = BASE_EXAMPLES,\n",
    ")\n",
    "\n",
    "dfa_search = diss(\n",
    "    demos=[to_demo(TRC4)],\n",
    "    to_concept=identifer,\n",
    "    to_chain=to_chain,\n",
    "    competency=lambda *_: 0.8,\n",
    "    lift_path=lambda x: lift_path(x),\n",
    "    n_iters=n_iters,\n",
    "    reset_period=3,\n",
    "    surprise_weight=1/2,  # Rescale surprise to make comparable to size.\n",
    "    sgs_greed=0,\n",
    ")\n",
    "\n",
    "df_greed0 = analyze(dfa_search, n_iters)"
   ]
  },
  {
   "cell_type": "code",
   "execution_count": null,
   "metadata": {},
   "outputs": [],
   "source": [
    "df_greed0['greed'] = 0\n",
    "df_greed0['iteration'] = df_greed0.index"
   ]
  },
  {
   "cell_type": "code",
   "execution_count": null,
   "metadata": {},
   "outputs": [],
   "source": [
    "df = pd.concat([df_greed0, df_greed2], ignore_index=True)"
   ]
  },
  {
   "cell_type": "code",
   "execution_count": null,
   "metadata": {},
   "outputs": [],
   "source": [
    "sns.lineplot(data=df, x='iteration', y='brier score', hue='greed')\n",
    "plt.title('Relying on surprise gradient improves brier score.')\n",
    "plt.savefig('bs.pgf')"
   ]
  },
  {
   "cell_type": "code",
   "execution_count": null,
   "metadata": {},
   "outputs": [],
   "source": [
    "sns.lineplot(data=df, x='iteration', y='probability mass explored', hue='greed')\n",
    "plt.title('Relying on surprise gradient finds high mass region faster.')\n",
    "plt.savefig('mass.pgf')"
   ]
  },
  {
   "cell_type": "code",
   "execution_count": null,
   "metadata": {},
   "outputs": [],
   "source": []
  }
 ],
 "metadata": {
  "kernelspec": {
   "display_name": "Python 3 (ipykernel)",
   "language": "python",
   "name": "python3"
  },
  "language_info": {
   "codemirror_mode": {
    "name": "ipython",
    "version": 3
   },
   "file_extension": ".py",
   "mimetype": "text/x-python",
   "name": "python",
   "nbconvert_exporter": "python",
   "pygments_lexer": "ipython3",
   "version": "3.9.7"
  }
 },
 "nbformat": 4,
 "nbformat_minor": 4
}
