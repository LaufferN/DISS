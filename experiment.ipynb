{
 "cells": [
  {
   "cell_type": "markdown",
   "metadata": {},
   "source": [
    "# Demonstration Informed Specification Search: Experiment\n",
    "\n",
    "Let's take a look at how the DISS algorithm can search for specifications by leveraging expert demonstrations. \n",
    "We'll focus on learning DFAs in this case, but note that this approach is not confined to any specific concept class. To start consider an agent operating in the following stochastic gridworld."
   ]
  },
  {
   "cell_type": "markdown",
   "metadata": {},
   "source": [
    "<figure style=\"padding: 1em; background: #494949;\">\n",
    "    <img src=\"imgs/enter_lava_augmented_1.svg\"\n",
    "         style=\"height: 20em;\"\n",
    "     />\n",
    "</figure>"
   ]
  },
  {
   "cell_type": "markdown",
   "metadata": {},
   "source": [
    "## Agent Actions\n",
    "\n",
    "The agent can attempt to move up, down, left, or right as illustrated below.\n",
    "\n",
    "<figure style=\"padding: 1em; background: #494949;\">\n",
    "    <img src=\"imgs/enter_lava_augmented_2.svg\"\n",
    "         style=\"height: 20em;\"\n",
    "     />\n",
    "</figure>"
   ]
  },
  {
   "cell_type": "markdown",
   "metadata": {},
   "source": [
    "## Stochastic Transitions\n",
    "\n",
    "However, there is some small probability that the agent will slip downward do to wind!\n",
    "\n",
    "<figure style=\"padding: 1em; background: #494949;\">\n",
    "    <img src=\"imgs/enter_lava_augmented_3.svg\"\n",
    "         style=\"height: 20em;\"\n",
    "     />\n",
    "</figure>\n"
   ]
  },
  {
   "cell_type": "markdown",
   "metadata": {},
   "source": [
    "\n",
    "Let's assume the agent's task can be described in terms of the color's of the tiles. **What was the agent trying to do?**\n",
    "\n",
    "\n",
    "## Probably avoiding the red tiles\n",
    "\n",
    "<figure style=\"padding: 1em; background: #494949;\">\n",
    "    <img src=\"imgs/enter_lava_augmented_4.svg\"\n",
    "         style=\"height: 20em;\"\n",
    "     />\n",
    "</figure>\n",
    "\n",
    "## Probably trying to reach yellow tile\n",
    "\n",
    "<figure style=\"padding: 1em; background: #494949;\">\n",
    "    <img src=\"imgs/enter_lava_augmented_5.svg\"\n",
    "         style=\"height: 20em;\"\n",
    "     />\n",
    "</figure>"
   ]
  },
  {
   "cell_type": "markdown",
   "metadata": {},
   "source": [
    "In this notebook, we will illustrate learning task representations (in the form of Deterministic Finite Automata, i.e. DFA) that can be learned incrementally and describe temporal tasks.\n",
    "\n",
    "In particular, we shall consider a variation of the following gridworld from [this](https://mjvc.me/DISS/#/77) slide deck: Here the agent's task is a composition of three subtasks.\n",
    "\n",
    "<figure style=\"padding: 1em; background: #494949;\">\n",
    "    <img src=\"imgs/example_domain_1.svg\"\n",
    "         style=\"height: 20em;\"\n",
    "     />\n",
    "</figure>\n",
    "\n",
    "Where each subtask is a regular language represented as a DFA.\n",
    "\n",
    "<figure style=\"padding: 1em; background: #494949;\">\n",
    "    <img src=\"imgs/example_domain_2_1.svg\"\n",
    "         style=\"height: 20em;\"\n",
    "     />\n",
    "</figure>\n",
    "\n",
    "Further, we shall assume that the first two subtasks are a-priori known (say due to learning in another workspace), \n",
    "<figure style=\"padding: 1em; background: #494949;\">\n",
    "    <img src=\"imgs/example_domain_1_2.svg\"\n",
    "         style=\"height: 20em;\"\n",
    "     />\n",
    "</figure>\n",
    "\n",
    "and our task is to learn the third task given a partial demonstration.\n",
    "<figure style=\"padding: 1em; background: #494949;\">\n",
    "    <img src=\"imgs/example_domain_3_2.svg\"\n",
    "         style=\"height: 20em;\"\n",
    "     />\n",
    "</figure>\n"
   ]
  },
  {
   "cell_type": "markdown",
   "metadata": {},
   "source": [
    "# Preamble"
   ]
  },
  {
   "cell_type": "code",
   "execution_count": null,
   "metadata": {},
   "outputs": [],
   "source": [
    "from functools import lru_cache\n",
    "\n",
    "import attr\n",
    "import funcy as fn\n",
    "import numpy as np\n",
    "import matplotlib.pyplot as plt\n",
    "import seaborn as sns\n",
    "from bidict import bidict\n",
    "from IPython.display import Image, display\n",
    "import networkx as nx\n",
    "import pydot\n",
    "\n",
    "from collections import Counter\n",
    "\n",
    "import dfa\n",
    "from dfa.utils import find_subset_counterexample, find_equiv_counterexample\n",
    "from dfa_identify import find_dfa, find_dfas\n",
    "\n",
    "from diss.product_mc import ProductMC\n",
    "from diss.dfa_concept import DFAConcept\n",
    "from diss.domains.gridworld_naive import GridWorldNaive as World\n",
    "from diss.domains.gridworld_naive import GridWorldState as State\n",
    "from diss import search, LabeledExamples, GradientGuidedSampler, ConceptIdException\n",
    "from pprint import pprint\n",
    "from itertools import combinations\n",
    "from tqdm import tqdm_notebook\n",
    "from tqdm.notebook import trange\n",
    "from IPython.display import clear_output\n",
    "from IPython.display import HTML as html_print\n",
    "\n",
    "sns.set_context('paper')\n",
    "sns.set_style('whitegrid')"
   ]
  },
  {
   "cell_type": "markdown",
   "metadata": {},
   "source": [
    "## Let's first visualize our gridworld and a demonstration within the gridworld."
   ]
  },
  {
   "cell_type": "code",
   "execution_count": null,
   "metadata": {},
   "outputs": [],
   "source": [
    "COLOR_ALIAS = {\n",
    "    'yellow': '#ffff00', 'brown': '#ffb081',\n",
    "    'red': '#ff8b8b', 'blue': '#afafff', 'green' : '#67f7a1'\n",
    "}\n",
    "\n",
    "\n",
    "def tile(color='black'):\n",
    "    color = COLOR_ALIAS.get(color, color)\n",
    "    s = '&nbsp;'*4\n",
    "    return f\"<text style='border: solid 1px;background-color:{color}'>{s}</text>\"\n",
    "\n",
    "\n",
    "def ap_at_state(x, y, world):\n",
    "    \"\"\"Use sensor to create colored tile.\"\"\"\n",
    "    if (x, y) in world.overlay:\n",
    "        color = world.overlay[(x,y)]\n",
    "\n",
    "        if color in COLOR_ALIAS.keys():\n",
    "            return tile(color)\n",
    "    return tile('white')\n",
    "\n",
    "def print_map(world):\n",
    "    \"\"\"Scan the board row by row and print colored tiles.\"\"\"\n",
    "    order = range(1, world.dim + 1)\n",
    "    for y in order:\n",
    "        chars = (ap_at_state(x, y, world) for x in order)\n",
    "        display(html_print('&nbsp;'.join(chars)))\n",
    "\n",
    "def print_trc(trc, world, idx=0):\n",
    "    states = [s for s, kind in trc if kind == 'ego']\n",
    "    actions = [s.action for s, kind in trc if kind == 'env']\n",
    "\n",
    "    obs = [ap_at_state(pos.x, pos.y, world) for pos in states]\n",
    "    display(\n",
    "        html_print(f'trc {idx}:&nbsp;&nbsp;&nbsp;' + ''.join(''.join(x) for x in zip(obs, actions)) + '\\n')\n",
    "    ) "
   ]
  },
  {
   "cell_type": "code",
   "execution_count": null,
   "metadata": {},
   "outputs": [],
   "source": [
    "gw = World(\n",
    "    dim=3,\n",
    "    start=State(x=3, y=1),\n",
    "    overlay={\n",
    "      (1, 1): 'yellow',\n",
    "      (1, 2): 'green',\n",
    "      (1, 3): 'green',\n",
    "      (2, 3): 'red',\n",
    "      (3, 2): 'blue',\n",
    "      (3, 3): 'blue',\n",
    "    }\n",
    ")\n",
    "\n",
    "demos = [[\n",
    "   (State(3, 1), 'ego'),\n",
    "   (State(3, 1, '←'), 'env'),\n",
    "   (State(3, 2), 'ego'),\n",
    "   (State(3, 2, '←'), 'env'),\n",
    "   (State(2, 2), 'ego'),\n",
    "   (State(2, 2, '←'), 'env'),\n",
    "   (State(1, 2), 'ego'),\n",
    "   (State(1, 2, '↑'), 'env'),\n",
    "   (State(1, 1), 'ego'),\n",
    "]]\n",
    "\n",
    "print_map(gw)\n",
    "print_trc(demos[0], gw)"
   ]
  },
  {
   "cell_type": "markdown",
   "metadata": {},
   "source": [
    "Compare against our target domain:\n",
    "\n",
    "<figure style=\"padding: 1em; background: #494949;\">\n",
    "    <img src=\"imgs/example_domain_3_2.svg\"\n",
    "         style=\"height: 20em;\"\n",
    "     />\n",
    "</figure>"
   ]
  },
  {
   "cell_type": "markdown",
   "metadata": {},
   "source": [
    "# Search procedure"
   ]
  },
  {
   "cell_type": "markdown",
   "metadata": {},
   "source": [
    "Now, we can define a set of expert demonstrations for this gridworld to guide our specification search procedure."
   ]
  },
  {
   "cell_type": "markdown",
   "metadata": {},
   "source": [
    "Let's start with some very simple base examples to warm-start our specification search process. We want to synthesize a spec that's consistent with the observed evidence thus far:"
   ]
  },
  {
   "cell_type": "markdown",
   "metadata": {},
   "source": [
    "Going from the partial spec to a full spec :"
   ]
  },
  {
   "cell_type": "code",
   "execution_count": null,
   "metadata": {},
   "outputs": [],
   "source": [
    "def partial_dfa(inputs):\n",
    "    def transition(s, c):\n",
    "        if c == 'red':\n",
    "            return s | 0b01\n",
    "        elif c == 'yellow':\n",
    "            return s | 0b10\n",
    "        return s\n",
    "\n",
    "    return dfa.DFA(\n",
    "        start=0b00,\n",
    "        inputs=inputs,\n",
    "        label=lambda s: s == 0b10,\n",
    "        transition=transition\n",
    "    )\n",
    "\n",
    "def ignore_white(path):\n",
    "    return tuple(x for x in path if x != 'white')"
   ]
  },
  {
   "cell_type": "markdown",
   "metadata": {},
   "source": [
    "Now, we can outline the machinery for the search process itself. We use the solution procedure in the DFA identification algorithm to synthesize a minimal DFA (in both states and non-stuttering edges) that is consistent with the observed examples to this point. "
   ]
  },
  {
   "cell_type": "code",
   "execution_count": null,
   "metadata": {},
   "outputs": [],
   "source": [
    "@fn.memoize(key_func=lambda accepting, rejecting, alphabet, order_by_stutter: hash((accepting, rejecting)))\n",
    "def find_dfas2(accepting, rejecting, alphabet, order_by_stutter):\n",
    "    dfas = find_dfas(accepting, rejecting, alphabet=alphabet, order_by_stutter=order_by_stutter)\n",
    "    dfas = fn.take(10, dfas)\n",
    "    return dfas"
   ]
  },
  {
   "cell_type": "code",
   "execution_count": null,
   "metadata": {},
   "outputs": [],
   "source": [
    "def subset_check_wrapper(dfa_candidate):\n",
    "    partial = partial_dfa(dfa_candidate.inputs)\n",
    "    ce = find_subset_counterexample(dfa_candidate, partial)\n",
    "    return ce is None\n",
    "\n",
    "\n",
    "ALPHABET = frozenset({'red', 'yellow', 'blue', 'green'})\n",
    "\n",
    "base_examples = LabeledExamples(\n",
    "    positive=[\n",
    "        ('yellow',),\n",
    "        ('yellow', 'yellow'),\n",
    "    ],\n",
    "    negative=[\n",
    "        (), ('red',), ('red', 'red'),\n",
    "        ('red', 'yellow'), ('yellow', 'red'),\n",
    "        ('yellow', 'red', 'yellow'),\n",
    "        ('yellow', 'yellow', 'red'),\n",
    "    ]\n",
    ")\n",
    "\n",
    "\n",
    "@fn.memoize\n",
    "def subset_cegis(data):\n",
    "    global base_examples\n",
    "\n",
    "    for i in range(20):\n",
    "        mydfa = find_dfa(data.positive, data.negative, order_by_stutter=True) \n",
    "        if mydfa is None:\n",
    "            raise ConceptIdException\n",
    "        partial = partial_dfa(mydfa.inputs)\n",
    "        ce = find_subset_counterexample(mydfa, partial)\n",
    "        if ce is None:\n",
    "            break\n",
    "        base_examples @= LabeledExamples(negative=[ce])\n",
    "        data @= LabeledExamples(negative=[ce])\n",
    "\n",
    "        for k, lbl in enumerate(partial.transduce(ce)):\n",
    "            prefix = ce[:k]\n",
    "            if not lbl:\n",
    "                base_examples @= LabeledExamples(negative=[prefix])\n",
    "                data @= LabeledExamples(negative=[prefix])\n",
    "    return data\n",
    "\n",
    "\n",
    "def to_concept(data):\n",
    "    global base_examples\n",
    "    \n",
    "    data = data.map(ignore_white) @ base_examples\n",
    "    data = subset_cegis(data)\n",
    "\n",
    "    concept = DFAConcept.from_examples(data, subset_check_wrapper, alphabet=ALPHABET, find_dfas=find_dfas2) \n",
    "    # Adjust size to account for subset information (equiv. surprise more important).\n",
    "    return attr.evolve(concept, size=concept.size / 100)  # /100 -> weight surprise more.\n",
    "\n"
   ]
  },
  {
   "cell_type": "code",
   "execution_count": null,
   "metadata": {},
   "outputs": [],
   "source": [
    "from diss.dfa_concept import remove_stutter\n",
    "from collections import defaultdict\n",
    "\n",
    "# adapted from the dfa library\n",
    "def get_dot(dfa_):\n",
    "    dfa_dict, init = dfa.dfa2dict(dfa_)\n",
    "    remove_stutter(dfa_dict)\n",
    "    g = pydot.Dot(rankdir=\"LR\")\n",
    "\n",
    "    nodes = {}\n",
    "    for i, (k, (v, _)) in enumerate(dfa_dict.items()):\n",
    "        shape = \"doublecircle\" if v else \"circle\"\n",
    "        nodes[k] = pydot.Node(i+1, label=f\"{k}\", shape=shape)\n",
    "        g.add_node(nodes[k])\n",
    "\n",
    "    edges = defaultdict(list)\n",
    "    for start, (_, transitions) in dfa_dict.items():        \n",
    "        for action, end in transitions.items():\n",
    "            color = COLOR_ALIAS[str(action)]\n",
    "            edges[start, end].append(color)\n",
    "    \n",
    "    init_node = pydot.Node(0, shape=\"point\", label=\"\")\n",
    "    g.add_node(init_node)\n",
    "    g.add_edge(pydot.Edge(init_node, nodes[init]))\n",
    "\n",
    "    for (start, end), colors in edges.items():\n",
    "        for color in colors:\n",
    "            g.add_edge(pydot.Edge(nodes[start], nodes[end], label='⬛', fontcolor=color))\n",
    "            \n",
    "    return g\n",
    "\n",
    "def view_pydot(pdot):\n",
    "    plt = Image(pdot.create_png())\n",
    "    display(plt)"
   ]
  },
  {
   "cell_type": "markdown",
   "metadata": {},
   "source": [
    "# Simulated Annealed + SGGS"
   ]
  },
  {
   "cell_type": "code",
   "execution_count": null,
   "metadata": {},
   "outputs": [],
   "source": [
    "from diss import diss"
   ]
  },
  {
   "cell_type": "code",
   "execution_count": null,
   "metadata": {},
   "outputs": [],
   "source": [
    "@fn.memoize(key_func=lambda c, t, psat: c.dfa)\n",
    "def to_chain(c, t, psat):\n",
    "    chain = ProductMC.construct(\n",
    "        concept=c, tree=t, dyn=gw, max_depth=9,\n",
    "        psat=0.8, sensor=gw.sensor\n",
    "    )\n",
    "    return chain"
   ]
  },
  {
   "cell_type": "code",
   "execution_count": null,
   "metadata": {
    "scrolled": true
   },
   "outputs": [],
   "source": [
    "n_iters = 50\n",
    "\n",
    "\n",
    "dfa_search = diss(\n",
    "    demos=demos,\n",
    "    to_concept=to_concept,\n",
    "    to_chain=to_chain,\n",
    "    competency=lambda *_: 0.8,\n",
    "    lift_path=lambda x: ignore_white(map(gw.sensor, x)),\n",
    "    n_iters=n_iters,\n",
    "    reset_period=5,\n",
    ")\n",
    "\n",
    "concept2energy = {}\n",
    "for _, (data, concept, metadata) in zip(trange(n_iters, desc='DISS'), dfa_search):\n",
    "    concept2energy[concept] = metadata['energy']\n",
    "    poi = metadata['poi']\n",
    "    view_pydot(get_dot(concept.dfa))"
   ]
  },
  {
   "cell_type": "code",
   "execution_count": null,
   "metadata": {
    "scrolled": false
   },
   "outputs": [],
   "source": [
    "sorted_concepts = sorted(list(concept2energy), key=concept2energy.get)\n",
    "pmf = np.array([np.exp(-concept2energy[c]) for c in sorted_concepts])\n",
    "pmf /= pmf.sum()\n",
    "cmf = np.cumsum(pmf)\n",
    "idx = (cmf < 0.8).sum()  # 80% of probability mass concentrated below this point.\n",
    "\n",
    "for p, c in zip(pmf, sorted_concepts[:idx]):\n",
    "    print(f'prob = {p:.3}')\n",
    "    print(f'energy = {concept2energy[c]:.3}')\n",
    "    print(f'size = {c.size:.3}')\n",
    "    view_pydot(get_dot(c.dfa))\n",
    "\n",
    "# Plot CDF of distribution.\n",
    "sns.lineplot(x=list(range(len(cmf))), y=cmf)\n",
    "plt.xlabel('DFA index (sorted by probability mass)')\n",
    "plt.ylabel('CMF')\n",
    "plt.show()"
   ]
  },
  {
   "cell_type": "code",
   "execution_count": null,
   "metadata": {},
   "outputs": [],
   "source": [
    "# 4. Compute current support's belief on unlabeled strings of interest.\n",
    "p_accept = {}\n",
    "for word in poi:\n",
    "    votes = np.array([(word in c) for c in sorted_concepts])\n",
    "    p_accept[word] = pmf @ votes\n",
    "    \n",
    "sorted_poi = sorted(poi, key=lambda x: -p_accept[x])\n",
    "\n",
    "for word in sorted_poi:\n",
    "    print(f'{word}'.ljust(50) + f'{p_accept[word]:.2}')\n",
    "    print('-' * 54)"
   ]
  },
  {
   "cell_type": "code",
   "execution_count": null,
   "metadata": {},
   "outputs": [],
   "source": [
    "accepting, rejecting = set(), set()\n",
    "for word in poi:\n",
    "    belief = p_accept[word]\n",
    "    if belief > 0.8:\n",
    "        accepting.add(word)\n",
    "    elif belief < 0.1:\n",
    "        rejecting.add(word)\n",
    "data = LabeledExamples(accepting, rejecting)\n",
    "view_pydot(get_dot(to_concept(data).dfa))"
   ]
  },
  {
   "cell_type": "markdown",
   "metadata": {},
   "source": [
    "# Enumeration baseline"
   ]
  },
  {
   "cell_type": "code",
   "execution_count": null,
   "metadata": {},
   "outputs": [],
   "source": [
    "def sampler_factory(demos):\n",
    "    return GradientGuidedSampler.from_demos(\n",
    "        demos=demos,\n",
    "        to_chain=to_chain,\n",
    "        competency=lambda *_: 0.8,\n",
    "    )"
   ]
  },
  {
   "cell_type": "code",
   "execution_count": null,
   "metadata": {},
   "outputs": [],
   "source": [
    "to_chain.invalidate_all()"
   ]
  },
  {
   "cell_type": "code",
   "execution_count": null,
   "metadata": {},
   "outputs": [],
   "source": [
    "from dfa.utils import minimize\n",
    "\n",
    "def enumerate_dfas():\n",
    "    data = LabeledExamples(\n",
    "        positive=[\n",
    "            ('yellow',),\n",
    "            ('yellow', 'yellow'),\n",
    "        ],\n",
    "        negative=[\n",
    "            (), ('red',), ('red', 'red'),\n",
    "            ('red', 'yellow'), ('yellow', 'red'),\n",
    "            ('yellow', 'red', 'yellow'),\n",
    "            ('yellow', 'yellow', 'red'),\n",
    "        ]\n",
    "    )\n",
    "\n",
    "    # CEGIS loop to add constraints to enforce subsets.\n",
    "    for i in range(20):\n",
    "        tests = fn.take(5, find_dfas(\n",
    "            data.positive,\n",
    "            data.negative,\n",
    "            order_by_stutter=True,\n",
    "            allow_unminimized=True,\n",
    "        ))\n",
    "        new_data = LabeledExamples()\n",
    "        for test in tests:\n",
    "            assert test is not None\n",
    "            partial = partial_dfa(test.inputs)\n",
    "            ce = find_subset_counterexample(test, partial)\n",
    "            if ce is not None:\n",
    "                new_data @= LabeledExamples(negative=[ce])\n",
    "            if new_data.size == 0:\n",
    "                break\n",
    "\n",
    "        dfas = find_dfas(\n",
    "            data.positive,\n",
    "            data.negative,\n",
    "            order_by_stutter=True,\n",
    "            alphabet=ALPHABET,\n",
    "            allow_unminimized=True,\n",
    "        )\n",
    "        \n",
    "        yield from map(minimize, filter(subset_check_wrapper, dfas))\n"
   ]
  },
  {
   "cell_type": "code",
   "execution_count": null,
   "metadata": {},
   "outputs": [],
   "source": [
    "sggs = sampler_factory(demos)"
   ]
  },
  {
   "cell_type": "code",
   "execution_count": null,
   "metadata": {
    "scrolled": false
   },
   "outputs": [],
   "source": [
    "for i, d in enumerate(fn.distinct(enumerate_dfas())):\n",
    "    concept = DFAConcept.from_dfa(d)\n",
    "    print(f'             {i}                ')\n",
    "    energy = sggs(concept)[1]['surprisal'] + concept.size / 100\n",
    "    \n",
    "    print(f'{energy=:.3}')\n",
    "    print('--------------------------------')\n",
    "    if i > 100:\n",
    "        break\n",
    "    view_pydot(get_dot(d))"
   ]
  }
 ],
 "metadata": {
  "kernelspec": {
   "display_name": "Python 3 (ipykernel)",
   "language": "python",
   "name": "python3"
  },
  "language_info": {
   "codemirror_mode": {
    "name": "ipython",
    "version": 3
   },
   "file_extension": ".py",
   "mimetype": "text/x-python",
   "name": "python",
   "nbconvert_exporter": "python",
   "pygments_lexer": "ipython3",
   "version": "3.9.7"
  }
 },
 "nbformat": 4,
 "nbformat_minor": 1
}
