{
 "cells": [
  {
   "cell_type": "markdown",
   "metadata": {},
   "source": [
    "# Demonstration Informed Specification Search: Experiment\n",
    "\n",
    "Let's take a look at how the DISS algorithm can search for specifications by leveraging expert demonstrations. \n",
    "We'll focus on learning DFAs in this case, but note that this approach is not confined to any specific concept class."
   ]
  },
  {
   "cell_type": "code",
   "execution_count": 1,
   "metadata": {},
   "outputs": [],
   "source": [
    "import funcy as fn\n",
    "import matplotlib.pyplot as plt\n",
    "import seaborn as sns\n",
    "from bidict import bidict\n",
    "from IPython.display import Image, display\n",
    "import networkx as nx\n",
    "import pydot\n",
    "\n",
    "from collections import Counter\n",
    "\n",
    "import dfa\n",
    "import funcy as fn\n",
    "from dfa.utils import find_subset_counterexample\n",
    "from dfa_identify import find_dfa\n",
    "\n",
    "from diss.product_mc import ProductMC\n",
    "from diss.dfa_concept import DFAConcept\n",
    "from diss.domains.gridworld_naive import GridWorldNaive as World\n",
    "from diss.domains.gridworld_naive import GridWorldState as State\n",
    "from diss import search, LabeledExamples, GradientGuidedSampler, ConceptIdException"
   ]
  },
  {
   "cell_type": "markdown",
   "metadata": {},
   "source": [
    "Let's first visualize our gridworld and a demonstration within the gridworld."
   ]
  },
  {
   "cell_type": "code",
   "execution_count": 2,
   "metadata": {},
   "outputs": [],
   "source": [
    "from IPython.display import HTML as html_print\n",
    "\n",
    "\n",
    "COLOR_ALIAS = {\n",
    "    'yellow': '#ffff00', 'brown': '#ffb081',\n",
    "    'red': '#ff8b8b', 'blue': '#afafff', 'green' : '#67f7a1'\n",
    "}\n",
    "\n",
    "\n",
    "def tile(color='black'):\n",
    "    color = COLOR_ALIAS.get(color, color)\n",
    "    s = '&nbsp;'*4\n",
    "    return f\"<text style='border: solid 1px;background-color:{color}'>{s}</text>\"\n",
    "\n",
    "\n",
    "def ap_at_state(x, y, world):\n",
    "    \"\"\"Use sensor to create colored tile.\"\"\"\n",
    "    if (x, y) in world.overlay:\n",
    "        color = world.overlay[(x,y)]\n",
    "\n",
    "        if color in COLOR_ALIAS.keys():\n",
    "            return tile(color)\n",
    "    return tile('white')\n",
    "\n",
    "def print_map(world):\n",
    "    \"\"\"Scan the board row by row and print colored tiles.\"\"\"\n",
    "    order = range(1, world.dim + 1)\n",
    "    for y in order:\n",
    "        chars = (ap_at_state(x, y, world) for x in order)\n",
    "        display(html_print('&nbsp;'.join(chars)))\n",
    "        \n",
    "def print_trc(trc, idx=0):\n",
    "    actions, states = trc\n",
    "    obs = (ap_at_state(*pos, in_ascii=True) for pos in states)\n",
    "    display(\n",
    "        html_print(f'trc {idx}:&nbsp;&nbsp;&nbsp;' + ''.join(''.join(x) for x in zip(actions, obs)) + '\\n')\n",
    "    )\n",
    "        "
   ]
  },
  {
   "cell_type": "code",
   "execution_count": 3,
   "metadata": {},
   "outputs": [
    {
     "name": "stdout",
     "output_type": "stream",
     "text": [
      "\n"
     ]
    },
    {
     "data": {
      "text/html": [
       "<text style='border: solid 1px;background-color:#ffff00'>&nbsp;&nbsp;&nbsp;&nbsp;</text>&nbsp;<text style='border: solid 1px;background-color:white'>&nbsp;&nbsp;&nbsp;&nbsp;</text>&nbsp;<text style='border: solid 1px;background-color:white'>&nbsp;&nbsp;&nbsp;&nbsp;</text>"
      ],
      "text/plain": [
       "<IPython.core.display.HTML object>"
      ]
     },
     "metadata": {},
     "output_type": "display_data"
    },
    {
     "data": {
      "text/html": [
       "<text style='border: solid 1px;background-color:#67f7a1'>&nbsp;&nbsp;&nbsp;&nbsp;</text>&nbsp;<text style='border: solid 1px;background-color:white'>&nbsp;&nbsp;&nbsp;&nbsp;</text>&nbsp;<text style='border: solid 1px;background-color:#afafff'>&nbsp;&nbsp;&nbsp;&nbsp;</text>"
      ],
      "text/plain": [
       "<IPython.core.display.HTML object>"
      ]
     },
     "metadata": {},
     "output_type": "display_data"
    },
    {
     "data": {
      "text/html": [
       "<text style='border: solid 1px;background-color:#67f7a1'>&nbsp;&nbsp;&nbsp;&nbsp;</text>&nbsp;<text style='border: solid 1px;background-color:#ff8b8b'>&nbsp;&nbsp;&nbsp;&nbsp;</text>&nbsp;<text style='border: solid 1px;background-color:#afafff'>&nbsp;&nbsp;&nbsp;&nbsp;</text>"
      ],
      "text/plain": [
       "<IPython.core.display.HTML object>"
      ]
     },
     "metadata": {},
     "output_type": "display_data"
    }
   ],
   "source": [
    "gw = World(\n",
    "    dim=3,\n",
    "    start=State(x=3, y=1),\n",
    "    overlay={\n",
    "      (1, 1): 'yellow',\n",
    "      (1, 2): 'green',\n",
    "      (1, 3): 'green',\n",
    "      (2, 3): 'red',\n",
    "      (3, 2): 'blue',\n",
    "      (3, 3): 'blue',\n",
    "    }\n",
    ")\n",
    "\n",
    "print()\n",
    "state = gw.start\n",
    "#print(gw.to_string(state))\n",
    "assert gw.player(state) == 'ego'\n",
    "assert len(gw.moves(state)) == 2\n",
    "\n",
    "move_hist = Counter(len(gw.moves(m)) for m in gw.moves(state))\n",
    "assert move_hist == {1: 1, 2: 1}\n",
    "assert all(gw.player(m) == 'env' for m in gw.moves(state))\n",
    "\n",
    "state = State(x=2, y=2)\n",
    "assert gw.player(state) == 'ego'\n",
    "assert len(gw.moves(state)) == 4\n",
    "\n",
    "demos = [[\n",
    "   (State(3, 1), 'ego'),\n",
    "   (State(3, 1, '←'), 'env'),\n",
    "   (State(3, 2), 'ego'),\n",
    "   (State(3, 2, '←'), 'env'),\n",
    "   (State(2, 2), 'ego'),\n",
    "   (State(2, 2, '←'), 'env'),\n",
    "   (State(1, 2), 'ego'),\n",
    "   (State(1, 2, '↑'), 'env'),\n",
    "   (State(1, 1), 'ego'),\n",
    "]]\n",
    "#print(gw.to_string(state))\n",
    "print_map(gw)"
   ]
  },
  {
   "cell_type": "markdown",
   "metadata": {},
   "source": [
    "Now, we can define a set of expert demonstrations for this gridworld to guide our specification search procedure."
   ]
  },
  {
   "cell_type": "code",
   "execution_count": 4,
   "metadata": {},
   "outputs": [
    {
     "name": "stdout",
     "output_type": "stream",
     "text": [
      "\n"
     ]
    }
   ],
   "source": [
    "gw = World(\n",
    "    dim=3,\n",
    "    start=State(x=3, y=1),\n",
    "    overlay={\n",
    "      (1, 1): 'yellow',\n",
    "      (1, 2): 'green',\n",
    "      (1, 3): 'green',\n",
    "      (2, 3): 'red',\n",
    "      (3, 2): 'blue',\n",
    "      (3, 3): 'blue',\n",
    "    }\n",
    ")\n",
    "\n",
    "print()\n",
    "state = gw.start\n",
    "assert gw.player(state) == 'ego'\n",
    "assert len(gw.moves(state)) == 2\n",
    "\n",
    "move_hist = Counter(len(gw.moves(m)) for m in gw.moves(state))\n",
    "assert move_hist == {1: 1, 2: 1}\n",
    "assert all(gw.player(m) == 'env' for m in gw.moves(state))\n",
    "\n",
    "state = State(x=2, y=2)\n",
    "assert gw.player(state) == 'ego'\n",
    "assert len(gw.moves(state)) == 4\n",
    "\n",
    "demos = [[\n",
    "   (State(3, 1), 'ego'),\n",
    "   (State(3, 1, '←'), 'env'),\n",
    "   (State(3, 2), 'ego'),\n",
    "   (State(3, 2, '←'), 'env'),\n",
    "   (State(2, 2), 'ego'),\n",
    "   (State(2, 2, '←'), 'env'),\n",
    "   (State(1, 2), 'ego'),\n",
    "   (State(1, 2, '↑'), 'env'),\n",
    "   (State(1, 1), 'ego'),\n",
    "]]\n"
   ]
  },
  {
   "cell_type": "markdown",
   "metadata": {},
   "source": [
    "Let's start with some very simple base examples to warm-start our specification search process. We want to synthesize a spec that's consistent with the observed evidence thus far:"
   ]
  },
  {
   "cell_type": "code",
   "execution_count": 5,
   "metadata": {},
   "outputs": [],
   "source": [
    "\n",
    "def sampler_factory(demos):\n",
    "    return GradientGuidedSampler.from_demos(\n",
    "        demos=demos,\n",
    "        to_chain=lambda c, t: ProductMC.construct(\n",
    "            concept=c, tree=t, dyn=gw, max_depth=9, psat=0.8\n",
    "        ),\n",
    "    )\n",
    "\n",
    "base_examples = LabeledExamples(\n",
    "    positive=[\n",
    "        ('yellow',),\n",
    "        ('yellow', 'yellow'),\n",
    "    ],\n",
    "    negative=[\n",
    "        (), ('red',), ('red', 'red'),\n",
    "        ('red', 'yellow'), ('yellow', 'red'),\n",
    "        ('yellow', 'red', 'yellow'),\n",
    "        ('yellow', 'yellow', 'red'),\n",
    "    ]\n",
    ")"
   ]
  },
  {
   "cell_type": "markdown",
   "metadata": {},
   "source": [
    "Going from the partial spec to a full spec :"
   ]
  },
  {
   "cell_type": "code",
   "execution_count": 6,
   "metadata": {},
   "outputs": [],
   "source": [
    "def partial_dfa(inputs):\n",
    "    def transition(s, c):\n",
    "        if c == 'red':\n",
    "            return s | 0b01\n",
    "        elif c == 'yellow':\n",
    "            return s | 0b10\n",
    "        return s\n",
    "\n",
    "    return dfa.DFA(\n",
    "        start=0b00,\n",
    "        inputs=inputs,\n",
    "        label=lambda s: s == 0b10,\n",
    "        transition=transition\n",
    "    )\n",
    "\n",
    "def trace(path):\n",
    "    return tuple(x for x in map(gw.sensor, path) if x != 'white')"
   ]
  },
  {
   "cell_type": "markdown",
   "metadata": {},
   "source": [
    "Now, we can outline the machinery for the search process itself. We use the solution procedure in the DFA identification algorithm to synthesize a minimal DFA (in both states and non-stuttering edges) that is consistent with the observed examples to this point. "
   ]
  },
  {
   "cell_type": "code",
   "execution_count": 7,
   "metadata": {},
   "outputs": [],
   "source": [
    "def subset_check_wrapper(dfa_candidate):\n",
    "    partial = partial_dfa(dfa_candidate.inputs)\n",
    "    ce = find_subset_counterexample(dfa_candidate, partial)\n",
    "    return ce is None\n",
    "\n",
    "def to_concept(data):\n",
    "    data = LabeledExamples(\n",
    "        positive = [trace(x) for x in data.positive],\n",
    "        negative = [trace(x) for x in data.negative],\n",
    "    )\n",
    "    data @= base_examples\n",
    "\n",
    "    # CEGIS for subset.\n",
    "    for i in range(20):\n",
    "        mydfa = find_dfa(data.positive, data.negative, order_by_stutter=True) \n",
    "        if mydfa is None:\n",
    "            raise ConceptIdException\n",
    "        partial = partial_dfa(mydfa.inputs)\n",
    "        ce = find_subset_counterexample(mydfa, partial)\n",
    "        if ce is None:\n",
    "            break\n",
    "        data @= LabeledExamples(negative=[ce])\n",
    "\n",
    "        partial = partial_dfa(mydfa.inputs)\n",
    "        for k, lbl in enumerate(partial.transduce(ce)):\n",
    "            prefix = ce[:k]\n",
    "            if not lbl:\n",
    "                data @= LabeledExamples(negative=[prefix])\n",
    "\n",
    "    return DFAConcept.from_examples(data, gw.sensor, subset_check_wrapper) \n",
    "\n"
   ]
  },
  {
   "cell_type": "code",
   "execution_count": 15,
   "metadata": {},
   "outputs": [],
   "source": [
    "from diss.dfa_concept import remove_stutter\n",
    "from collections import defaultdict\n",
    "\n",
    "# adapted from the dfa library\n",
    "def get_dot(dfa_):\n",
    "    dfa_dict, init = dfa.dfa2dict(dfa_)\n",
    "    remove_stutter(dfa_dict)\n",
    "    g = pydot.Dot(rankdir=\"LR\")\n",
    "\n",
    "    nodes = {}\n",
    "    for i, (k, (v, _)) in enumerate(dfa_dict.items()):\n",
    "        shape = \"doublecircle\" if v else \"circle\"\n",
    "        nodes[k] = pydot.Node(i+1, label=f\"{k}\", shape=shape)\n",
    "        g.add_node(nodes[k])\n",
    "\n",
    "    edges = defaultdict(list)\n",
    "    for start, (_, transitions) in dfa_dict.items():        \n",
    "        for action, end in transitions.items():\n",
    "            color = COLOR_ALIAS[str(action)]\n",
    "            edges[start, end].append(color)\n",
    "    \n",
    "    init_node = pydot.Node(0, shape=\"point\", label=\"\")\n",
    "    g.add_node(init_node)\n",
    "    g.add_edge(pydot.Edge(init_node, nodes[init]))\n",
    "\n",
    "    for (start, end), colors in edges.items():\n",
    "        for color in colors:\n",
    "            print(color)\n",
    "            g.add_edge(pydot.Edge(nodes[start], nodes[end], label='⬛', fontcolor=color))\n",
    "            \n",
    "    return g\n",
    "\n",
    "def view_pydot(pdot):\n",
    "    #pdot = nx.drawing.nx_pydot.to_pydot(pdot_graph)\n",
    "    plt = Image(pdot.create_png())\n",
    "    display(plt)"
   ]
  },
  {
   "cell_type": "code",
   "execution_count": 16,
   "metadata": {},
   "outputs": [],
   "source": [
    "import funcy as fn"
   ]
  },
  {
   "cell_type": "code",
   "execution_count": 18,
   "metadata": {
    "scrolled": true
   },
   "outputs": [
    {
     "name": "stdout",
     "output_type": "stream",
     "text": [
      "#ff8b8b\n",
      "#ffff00\n",
      "#ff8b8b\n"
     ]
    },
    {
     "data": {
      "image/png": "[encoded data removed]",
      "text/plain": [
       "<IPython.core.display.Image object>"
      ]
     },
     "metadata": {},
     "output_type": "display_data"
    },
    {
     "name": "stdout",
     "output_type": "stream",
     "text": [
      "#ff8b8b\n",
      "#ffff00\n",
      "#ff8b8b\n"
     ]
    },
    {
     "data": {
      "image/png": "[encoded data removed]",
      "text/plain": [
       "<IPython.core.display.Image object>"
      ]
     },
     "metadata": {},
     "output_type": "display_data"
    },
    {
     "name": "stdout",
     "output_type": "stream",
     "text": [
      "#ff8b8b\n",
      "#ffff00\n",
      "#ff8b8b\n"
     ]
    },
    {
     "data": {
      "image/png": "[encoded data removed]",
      "text/plain": [
       "<IPython.core.display.Image object>"
      ]
     },
     "metadata": {},
     "output_type": "display_data"
    },
    {
     "name": "stdout",
     "output_type": "stream",
     "text": [
      "#ff8b8b\n",
      "#afafff\n",
      "#ffff00\n",
      "#ff8b8b\n",
      "#67f7a1\n",
      "#ff8b8b\n",
      "#afafff\n"
     ]
    },
    {
     "data": {
      "image/png": "[encoded data removed]",
      "text/plain": [
       "<IPython.core.display.Image object>"
      ]
     },
     "metadata": {},
     "output_type": "display_data"
    },
    {
     "name": "stdout",
     "output_type": "stream",
     "text": [
      "#ff8b8b\n",
      "#ffff00\n",
      "#ff8b8b\n"
     ]
    },
    {
     "data": {
      "image/png": "[encoded data removed]",
      "text/plain": [
       "<IPython.core.display.Image object>"
      ]
     },
     "metadata": {},
     "output_type": "display_data"
    },
    {
     "name": "stdout",
     "output_type": "stream",
     "text": [
      "#ff8b8b\n",
      "#ffff00\n",
      "#ff8b8b\n"
     ]
    },
    {
     "data": {
      "image/png": "[encoded data removed]",
      "text/plain": [
       "<IPython.core.display.Image object>"
      ]
     },
     "metadata": {},
     "output_type": "display_data"
    }
   ],
   "source": [
    "import numpy as np\n",
    "#MCMC process\n",
    "\n",
    "prev_val = 1e-8 #initialize the previous probability as some small number to ensure acceptance\n",
    "for i in range(10):\n",
    "    dfa_search = search(demos, to_concept, sampler_factory)\n",
    "    dfa_search = ((d, c, m) for d, c, m in dfa_search if c is not None)\n",
    "\n",
    "    N = np.random.geometric(1/3) - 1\n",
    "    data, concept, metadata = fn.nth(N, dfa_search)\n",
    "    \n",
    "    proposal_val = prev_val if metadata is None else np.exp(-metadata[\"surprisal\"]) * np.exp(-concept.size)\n",
    "    acceptance_prob = min(1, proposal_val / prev_val)\n",
    "    if np.random.random() < acceptance_prob: # if we accept it under metropolis\n",
    "        view_pydot(get_dot(concept.dfa))\n",
    "#     else:\n",
    "#         print(\"rejected sample via MCMC\")\n",
    "    prev_val = proposal_val"
   ]
  },
  {
   "cell_type": "code",
   "execution_count": null,
   "metadata": {},
   "outputs": [],
   "source": [
    "\n"
   ]
  }
 ],
 "metadata": {
  "kernelspec": {
   "display_name": "diss",
   "language": "python",
   "name": "diss"
  },
  "language_info": {
   "codemirror_mode": {
    "name": "ipython",
    "version": 3
   },
   "file_extension": ".py",
   "mimetype": "text/x-python",
   "name": "python",
   "nbconvert_exporter": "python",
   "pygments_lexer": "ipython3",
   "version": "3.9.7"
  }
 },
 "nbformat": 4,
 "nbformat_minor": 1
}
